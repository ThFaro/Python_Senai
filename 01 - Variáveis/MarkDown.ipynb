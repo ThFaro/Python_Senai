{
 "cells": [
  {
   "cell_type": "markdown",
   "id": "58fd9143-4f23-4bd8-aad3-5ea3b36e9da1",
   "metadata": {},
   "source": [
    "# cabeçalho 1\n",
    "## cabeçalho 2\n",
    "### cabeçalho 3"
   ]
  },
  {
   "cell_type": "markdown",
   "id": "e16d0f87-a2d2-4d36-852d-f0661d35da34",
   "metadata": {},
   "source": [
    "### Lista ordenada\n",
    "1.\n",
    "2.\n",
    "3.\n"
   ]
  },
  {
   "cell_type": "markdown",
   "id": "daf7d5b3-2d8a-46ca-9e8c-0e99db950c89",
   "metadata": {},
   "source": [
    "### Lista simples\n",
    "-\n",
    "-\n",
    "-"
   ]
  },
  {
   "cell_type": "markdown",
   "id": "ae9b006a-1465-4d64-b0bc-592be0d1b985",
   "metadata": {
    "tags": []
   },
   "source": [
    "**Negrito**\n",
    "_Italico_\n",
    "˜Tachado˜"
   ]
  },
  {
   "cell_type": "code",
   "execution_count": null,
   "id": "b5d11c4c-48de-47c2-b36c-c26bd2e27e27",
   "metadata": {},
   "outputs": [],
   "source": []
  },
  {
   "cell_type": "code",
   "execution_count": null,
   "id": "f615a6d3-5639-4888-bd2e-4670b0acd40d",
   "metadata": {},
   "outputs": [],
   "source": []
  }
 ],
 "metadata": {
  "kernelspec": {
   "display_name": "Python 3 (ipykernel)",
   "language": "python",
   "name": "python3"
  },
  "language_info": {
   "codemirror_mode": {
    "name": "ipython",
    "version": 3
   },
   "file_extension": ".py",
   "mimetype": "text/x-python",
   "name": "python",
   "nbconvert_exporter": "python",
   "pygments_lexer": "ipython3",
   "version": "3.11.5"
  }
 },
 "nbformat": 4,
 "nbformat_minor": 5
}
