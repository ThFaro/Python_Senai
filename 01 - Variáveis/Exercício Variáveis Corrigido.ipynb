x = float(input("Digite um número: "))  # Convert input to float
y = float(input("Digite um número: "))  # Convert input to float

print('Você deseja:')
print('1 - Somar')
print('2 - Subtrair')
print('3 - Multiplicar')
print('4 - Dividir')

operacao = int(input("Escolha uma operação (1/2/3/4): "))  # Capture user's choice

if operacao == 1:
    print("Resultado da soma:", x + y)
elif operacao == 2:
    print("Resultado da subtração:", x - y)
elif operacao == 3:
    print("Resultado da multiplicação:", x * y)
elif operacao == 4:
    if y != 0:  # Check for division by zero
        print("Resultado da divisão:", x / y)
    else:
        print("Erro: Divisão por zero não é permitida.")
else:
    print("Opção inválida")
