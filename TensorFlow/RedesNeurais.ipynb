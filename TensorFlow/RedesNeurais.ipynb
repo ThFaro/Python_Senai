{
 "cells": [
  {
   "cell_type": "markdown",
   "metadata": {},
   "source": [
    "# Criando uma rede neural\n",
    "Ok, agora você chegou à parte emocionante deste tutorial! Chega de matemática e explicações complexas. É hora de colocar a mão na massa e treinar uma rede neural muito básica.\n",
    "\n",
    "Conforme declarado anteriormente, este guia é baseado no seguinte tutorial do TensorFlow. \n",
    "\n",
    "https://www.tensorflow.org/tutorials/keras/classification"
   ]
  },
  {
   "cell_type": "code",
   "execution_count": 1,
   "metadata": {},
   "outputs": [
    {
     "name": "stderr",
     "output_type": "stream",
     "text": [
      "/Library/Python/3.9/site-packages/urllib3/__init__.py:35: NotOpenSSLWarning: urllib3 v2 only supports OpenSSL 1.1.1+, currently the 'ssl' module is compiled with 'LibreSSL 2.8.3'. See: https://github.com/urllib3/urllib3/issues/3020\n",
      "  warnings.warn(\n"
     ]
    }
   ],
   "source": [
    "import tensorflow as tf\n",
    "from tensorflow import keras\n",
    "import numpy as np\n",
    "import matplotlib.pyplot as plt"
   ]
  },
  {
   "cell_type": "markdown",
   "metadata": {},
   "source": [
    "## Conjunto de dados (Dataset)\n",
    "\n",
    "Para este tutorial usaremos o conjunto de dados de moda MNIST. Este é um conjunto de dados incluído no keras.\n",
    "\n",
    "Este conjunto de dados inclui 60.000 imagens para treinamento e 10.000 imagens para validação/teste."
   ]
  },
  {
   "cell_type": "code",
   "execution_count": 2,
   "metadata": {},
   "outputs": [],
   "source": [
    "fashion_mnist = keras.datasets.fashion_mnist #carrega o dataset\n",
    "\n",
    "(train_images, train_labels), (test_images, test_labels) = fashion_mnist.load_data() # separa entre teste e treino"
   ]
  },
  {
   "cell_type": "code",
   "execution_count": 3,
   "metadata": {},
   "outputs": [
    {
     "data": {
      "text/plain": [
       "(60000, 28, 28)"
      ]
     },
     "execution_count": 3,
     "metadata": {},
     "output_type": "execute_result"
    }
   ],
   "source": [
    "train_images.shape # aqui vemos que que temos 60,000 imagens  feitas de 28x28 pixels(784 no total)"
   ]
  },
  {
   "cell_type": "markdown",
   "metadata": {},
   "source": [
    "O valor dos nossos pixels estão entre 0 e 255, onde 0 é preto e 255 é branco. Isso quer dizer que nós temos uma imagem em escala de ciza como não há canais de cores."
   ]
  },
  {
   "cell_type": "code",
   "execution_count": 4,
   "metadata": {},
   "outputs": [
    {
     "data": {
      "text/plain": [
       "194"
      ]
     },
     "execution_count": 4,
     "metadata": {},
     "output_type": "execute_result"
    }
   ],
   "source": [
    "train_images[0,23,23] # vamos dar uma olhada em um pixel"
   ]
  },
  {
   "cell_type": "markdown",
   "metadata": {},
   "source": [
    "Nossos rotulos são interios com alcançe de 0 a 9. Cada inteiro representa um artigo especifico de roupa."
   ]
  },
  {
   "cell_type": "code",
   "execution_count": 5,
   "metadata": {},
   "outputs": [
    {
     "data": {
      "text/plain": [
       "array([9, 0, 0, 3, 0, 2, 7, 2, 5, 5], dtype=uint8)"
      ]
     },
     "execution_count": 5,
     "metadata": {},
     "output_type": "execute_result"
    }
   ],
   "source": [
    "train_labels[:10]"
   ]
  },
  {
   "cell_type": "markdown",
   "metadata": {},
   "source": [
    "Vamos criar um array com os nomes para indicar estes rotulos.   "
   ]
  },
  {
   "cell_type": "code",
   "execution_count": 6,
   "metadata": {},
   "outputs": [],
   "source": [
    "class_name = ['T-shirt/top', 'Trouser', 'Pullover', 'Dress', 'Coat',\n",
    "              'Sandal', 'Shirt', 'Sneaker', 'Bag', 'Ankle boot']"
   ]
  },
  {
   "cell_type": "markdown",
   "metadata": {},
   "source": [
    "Finalmente vamos dar uma olhada em como alguma dessas iamgens são!"
   ]
  },
  {
   "cell_type": "code",
   "execution_count": null,
   "metadata": {},
   "outputs": [
    {
     "data": {
      "image/png": "[encoded data removed]",
      "text/plain": [
       "<Figure size 640x480 with 2 Axes>"
      ]
     },
     "metadata": {},
     "output_type": "display_data"
    }
   ],
   "source": [
    "plt.figure()\n",
    "plt.imshow(train_images[10])\n",
    "plt.colorbar()\n",
    "plt.grid(False)\n",
    "plt.show()"
   ]
  },
  {
   "cell_type": "markdown",
   "metadata": {},
   "source": [
    "### Pré-processamento de dados\n",
    "A última etapa antes de criar nosso modelo é pré-processar nossos dados. Isso significa simplesmente aplicar algumas transformações anteriores aos nossos dados antes de alimentá-los no modelo. \n",
    "\n",
    "Nesse caso, simplesmente dimensionaremos todos os nossos valores de pixels em escala de cinza (0-255) para ficarem entre 0 e 1. Podemos fazer isso dividindo cada valor nos conjuntos de treinamento e teste por 255,0. \n",
    "\n",
    "Fazemos isso porque valores menores tornarão mais fácil para o modelo processar nossos valores."
   ]
  },
  {
   "cell_type": "code",
   "execution_count": 10,
   "metadata": {},
   "outputs": [],
   "source": [
    "train_images = train_images/255.0\n",
    "test_images = test_images/255.0"
   ]
  },
  {
   "cell_type": "markdown",
   "metadata": {},
   "source": [
    "## Construindo o Modelo\n",
    "\n",
    "Agora é hora de construir o modelo! Usaremos um modelo sequencial keras com três camadas diferentes. Este modelo representa uma rede neural feed-forward (aquela que passa valores da esquerda para a direita). Descreveremos cada camada e sua arquitetura a seguir.\n",
    "\n",
    "**Camada 1**: Esta é a nossa camada de entrada e será composta por 784 neurônios. Usamos a camada achatada com um formato de entrada de (28,28) para indicar que nossa entrada deve vir nesse formato. O achatamento significa que nossa camada remodelará a matriz de forma (28,28) em um vetor de 784 neurônios, de modo que cada pixel será associado a um neurônio.\n",
    "\n",
    "**Camada 2**: Esta é a nossa primeira e única camada oculta. O denso denota que esta camada estará totalmente conectada e cada neurônio da camada anterior se conecta a cada neurônio desta camada. Possui 128 neurônios e utiliza a função de ativação de unidade linear de retificação.\n",
    "\n",
    "**Camada 3**: Esta é a nossa saída posterior e também é uma camada densa. Ele tem 10 neurônios que examinaremos para determinar a saída de nossos modelos. Cada neuro representa a probabilidade de uma determinada imagem ser uma das 10 classes diferentes. A função de ativação softmax é usada nesta camada para calcular uma distribuição de probabilidade para cada classe. Isso significa que o valor de qualquer neurônio nesta camada estará entre 0 e 1, onde 1 representa uma alta probabilidade da imagem ser dessa classe."
   ]
  },
  {
   "cell_type": "code",
   "execution_count": 11,
   "metadata": {},
   "outputs": [],
   "source": [
    "model = keras.Sequential([keras.layers.Flatten(input_shape = (28,28)), # colocando(1)\n",
    "                          keras.layers.Dense(128, activation='relu'), # escondendo camada (2)\n",
    "                          keras.layers.Dense(10,activation= 'softmax') # escondendo camada (3)\n",
    "                         \n",
    "])"
   ]
  },
  {
   "cell_type": "markdown",
   "metadata": {},
   "source": [
    "### Compilnado o modelo ###\n",
    "\n",
    "A última etapa na construção do modelo é definir a função de perda, o otimizador e as métricas que gostaríamos de rastrear."
   ]
  },
  {
   "cell_type": "code",
   "execution_count": 12,
   "metadata": {},
   "outputs": [],
   "source": [
    "model.compile(optimizer='adam', \n",
    "              loss='sparse_categorical_crossentropy',\n",
    "              metrics=['accuracy'])"
   ]
  },
  {
   "cell_type": "markdown",
   "metadata": {},
   "source": [
    "### Treinando o modelo ###\n",
    "\n",
    "Agora é finalmente hora de treinar o modelo. Como já fizemos todo o trabalho em nossos dados, esta etapa é tão fácil quanto chamar um único método."
   ]
  },
  {
   "cell_type": "code",
   "execution_count": 13,
   "metadata": {},
   "outputs": [
    {
     "name": "stdout",
     "output_type": "stream",
     "text": [
      "Epoch 1/8\n",
      "1875/1875 [==============================] - 1s 691us/step - loss: 0.4978 - accuracy: 0.8249\n",
      "Epoch 2/8\n",
      "1875/1875 [==============================] - 1s 685us/step - loss: 0.3739 - accuracy: 0.8650\n",
      "Epoch 3/8\n",
      "1875/1875 [==============================] - 1s 666us/step - loss: 0.3358 - accuracy: 0.8781\n",
      "Epoch 4/8\n",
      "1875/1875 [==============================] - 1s 668us/step - loss: 0.3117 - accuracy: 0.8859\n",
      "Epoch 5/8\n",
      "1875/1875 [==============================] - 1s 669us/step - loss: 0.2935 - accuracy: 0.8909\n",
      "Epoch 6/8\n",
      "1875/1875 [==============================] - 1s 696us/step - loss: 0.2778 - accuracy: 0.8964\n",
      "Epoch 7/8\n",
      "1875/1875 [==============================] - 1s 661us/step - loss: 0.2668 - accuracy: 0.9011\n",
      "Epoch 8/8\n",
      "1875/1875 [==============================] - 1s 679us/step - loss: 0.2560 - accuracy: 0.9042\n"
     ]
    },
    {
     "data": {
      "text/plain": [
       "<keras.src.callbacks.History at 0x303a5ec70>"
      ]
     },
     "execution_count": 13,
     "metadata": {},
     "output_type": "execute_result"
    }
   ],
   "source": [
    "model.fit(train_images, train_labels, epochs=8)"
   ]
  },
  {
   "cell_type": "markdown",
   "metadata": {},
   "source": [
    "### Avaliando o modelo\n",
    "\n",
    "Agora é hora de testar/avaliar o modelo. Podemos fazer isso facilmente usando outro método integrado do keras.\n",
    "O argumento detalhado é definido na documentação do keras como: \"detalhado: 0 ou 1. Modo de verbosidade. 0 = silencioso, 1 = barra de progresso.\" (https://keras.io/models/sequential/)"
   ]
  },
  {
   "cell_type": "code",
   "execution_count": 25,
   "metadata": {},
   "outputs": [
    {
     "name": "stdout",
     "output_type": "stream",
     "text": [
      "313/313 [==============================] - 0s 452us/step - loss: 0.3387 - accuracy: 0.8873\n",
      "Test accuracy:  0.8873000144958496\n"
     ]
    }
   ],
   "source": [
    "test_loss, test_acc = model.evaluate(test_images, test_labels, verbose=1)\n",
    "\n",
    "print('Test accuracy: ', test_acc)"
   ]
  },
  {
   "cell_type": "markdown",
   "metadata": {},
   "source": [
    "### Fazendo previsões\n",
    "\n",
    "Para fazer previsões, precisamos simplesmente passar um array de dados na forma que especificamos na camada de entrada para o método .`predict()`."
   ]
  },
  {
   "cell_type": "code",
   "execution_count": 27,
   "metadata": {},
   "outputs": [
    {
     "name": "stdout",
     "output_type": "stream",
     "text": [
      "313/313 [==============================] - 0s 402us/step\n"
     ]
    }
   ],
   "source": [
    "predictions = model.predict(test_images) # este metodo retorna um array de previsões para cada imagem passada."
   ]
  },
  {
   "cell_type": "code",
   "execution_count": 28,
   "metadata": {},
   "outputs": [
    {
     "data": {
      "text/plain": [
       "array([2.9634561e-09, 5.5892428e-08, 9.6107733e-10, 3.5401401e-10,\n",
       "       2.0945194e-08, 9.9691038e-04, 4.6327788e-08, 2.1329371e-02,\n",
       "       1.9888468e-08, 9.7767365e-01], dtype=float32)"
      ]
     },
     "execution_count": 28,
     "metadata": {},
     "output_type": "execute_result"
    }
   ],
   "source": [
    "predictions[0] #esta é a previsão da imagem 1 "
   ]
  },
  {
   "cell_type": "code",
   "execution_count": 30,
   "metadata": {},
   "outputs": [
    {
     "name": "stdout",
     "output_type": "stream",
     "text": [
      "Ankle boot\n"
     ]
    },
    {
     "data": {
      "image/png": "[encoded data removed]",
      "text/plain": [
       "<Figure size 640x480 with 2 Axes>"
      ]
     },
     "metadata": {},
     "output_type": "display_data"
    }
   ],
   "source": [
    "print(class_name[np.argmax(predictions[0])])\n",
    "plt.figure()\n",
    "plt.imshow(test_images[0])\n",
    "plt.colorbar()\n",
    "plt.grid(False)\n",
    "plt.show()"
   ]
  },
  {
   "cell_type": "markdown",
   "metadata": {},
   "source": [
    "### Verificando previsões\n",
    "\n",
    "Escrevi uma pequena função aqui para nos ajudar a verificar as previsões com alguns recursos visuais simples."
   ]
  },
  {
   "cell_type": "code",
   "execution_count": 32,
   "metadata": {},
   "outputs": [
    {
     "name": "stdout",
     "output_type": "stream",
     "text": [
      "1/1 [==============================] - 0s 15ms/step\n"
     ]
    },
    {
     "data": {
      "image/png": "[encoded data removed]",
      "text/plain": [
       "<Figure size 640x480 with 2 Axes>"
      ]
     },
     "metadata": {},
     "output_type": "display_data"
    }
   ],
   "source": [
    "COLOR = 'white'\n",
    "plt.rcParams['text.color'] = COLOR\n",
    "plt.rcParams['axes.labelcolor'] = COLOR\n",
    "\n",
    "def predict(model, image, correct_label):\n",
    "    class_name = ['Camiseta/topo', 'Calça', 'Pulôver', 'Vestido', 'Casaco',\n",
    "              'Sandalha', 'Camisa', 'Tênis', 'Bolsa', 'Bota']\n",
    "    prediction = model.predict(np.array([image]))  # Passe a imagem diretamente para o modelo sem np.argmax()\n",
    "    predicted_class = class_name[np.argmax(prediction)]\n",
    "    \n",
    "    show_image(image, class_name[correct_label], predicted_class)\n",
    "    \n",
    "def show_image(img, expected_label, guessed_label):\n",
    "    plt.figure()\n",
    "    plt.imshow(img, cmap=plt.cm.binary)\n",
    "    plt.title('Esperado: ' + expected_label)  # Adicionando o rótulo esperado ao título\n",
    "    plt.xlabel(\"Previsto: \" + guessed_label)  # Adicionando o rótulo previsto ao eixo x\n",
    "    plt.colorbar()\n",
    "    plt.grid(False)\n",
    "    plt.show()\n",
    "    \n",
    "def get_number():\n",
    "    while True:\n",
    "        num = input('Escolha um número: ')\n",
    "        if num.isdigit():\n",
    "            num = int(num)\n",
    "            if 0 <= num <= 1000:\n",
    "                return int(num)\n",
    "        else:\n",
    "            print('Tente novamente...')\n",
    "\n",
    "num = get_number()\n",
    "image =  test_images[num]\n",
    "label = test_labels[num]\n",
    "predict(model, image, label)\n"
   ]
  }
 ],
 "metadata": {
  "kernelspec": {
   "display_name": "Python 3",
   "language": "python",
   "name": "python3"
  },
  "language_info": {
   "codemirror_mode": {
    "name": "ipython",
    "version": 3
   },
   "file_extension": ".py",
   "mimetype": "text/x-python",
   "name": "python",
   "nbconvert_exporter": "python",
   "pygments_lexer": "ipython3",
   "version": "3.9.6"
  }
 },
 "nbformat": 4,
 "nbformat_minor": 2
}
