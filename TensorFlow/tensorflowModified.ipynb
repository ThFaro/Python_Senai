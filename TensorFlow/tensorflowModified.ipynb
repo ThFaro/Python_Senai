{
 "cells": [
  {
   "cell_type": "code",
   "execution_count": 5,
   "metadata": {},
   "outputs": [
    {
     "name": "stdout",
     "output_type": "stream",
     "text": [
      "Defaulting to user installation because normal site-packages is not writeable\n",
      "Requirement already satisfied: scikit-learn in /Users/thiagofaro/Library/Python/3.9/lib/python/site-packages (1.4.2)\n",
      "Requirement already satisfied: numpy>=1.19.5 in /Users/thiagofaro/Library/Python/3.9/lib/python/site-packages (from scikit-learn) (1.26.4)\n",
      "Requirement already satisfied: scipy>=1.6.0 in /Users/thiagofaro/Library/Python/3.9/lib/python/site-packages (from scikit-learn) (1.13.0)\n",
      "Requirement already satisfied: joblib>=1.2.0 in /Users/thiagofaro/Library/Python/3.9/lib/python/site-packages (from scikit-learn) (1.4.0)\n",
      "Requirement already satisfied: threadpoolctl>=2.0.0 in /Users/thiagofaro/Library/Python/3.9/lib/python/site-packages (from scikit-learn) (3.5.0)\n"
     ]
    }
   ],
   "source": [
    "! pip install scikit-learn"
   ]
  },
  {
   "cell_type": "code",
   "execution_count": 1,
   "metadata": {},
   "outputs": [
    {
     "name": "stderr",
     "output_type": "stream",
     "text": [
      "/Library/Python/3.9/site-packages/urllib3/__init__.py:35: NotOpenSSLWarning: urllib3 v2 only supports OpenSSL 1.1.1+, currently the 'ssl' module is compiled with 'LibreSSL 2.8.3'. See: https://github.com/urllib3/urllib3/issues/3020\n",
      "  warnings.warn(\n"
     ]
    },
    {
     "name": "stdout",
     "output_type": "stream",
     "text": [
      "2.15.0\n"
     ]
    }
   ],
   "source": [
    "import tensorflow as tf\n",
    "print(tf.__version__)"
   ]
  },
  {
   "cell_type": "code",
   "execution_count": 2,
   "metadata": {},
   "outputs": [],
   "source": [
    "from __future__ import absolute_import, division, print_function, unicode_literals\n",
    "\n",
    "import numpy as np\n",
    "import pandas as pd\n",
    "import matplotlib.pyplot as plt \n",
    "from IPython.display import clear_output\n",
    "from six.moves import urllib\n",
    "\n",
    "import tensorflow as tf \n",
    "import tensorflow.feature_column as fc  "
   ]
  },
  {
   "cell_type": "markdown",
   "metadata": {},
   "source": [
    "\n",
    "# Dados\n",
    "Se você ainda não percebeu, a maior parte do aprendizado de máquina é baseada em dados! Na verdade, é tão importante que a maior parte do que faremos neste tutorial se concentrará em explorar, limpar e selecionar os dados apropriados.\n",
    "\n",
    "O conjunto de dados no qual nos concentraremos aqui é o conjunto de dados do Titanic. Ele contém toneladas de informações sobre cada passageiro do navio. Nosso primeiro passo é sempre entender e explorar os dados. Então vamos fazer isso!\n",
    "\n",
    "Abaixo, carregaremos um conjunto de dados e aprenderemos como explorá-lo usando algumas ferramentas integradas."
   ]
  },
  {
   "cell_type": "code",
   "execution_count": 3,
   "metadata": {},
   "outputs": [
    {
     "name": "stdout",
     "output_type": "stream",
     "text": [
      "   survived     sex   age  n_siblings_spouses  parch     fare  class     deck  \\\n",
      "0         0    male  22.0                   1      0   7.2500  Third  unknown   \n",
      "1         1  female  38.0                   1      0  71.2833  First        C   \n",
      "2         1  female  26.0                   0      0   7.9250  Third  unknown   \n",
      "3         1  female  35.0                   1      0  53.1000  First        C   \n",
      "4         0    male  28.0                   0      0   8.4583  Third  unknown   \n",
      "\n",
      "   embark_town alone  \n",
      "0  Southampton     n  \n",
      "1    Cherbourg     n  \n",
      "2  Southampton     y  \n",
      "3  Southampton     n  \n",
      "4   Queenstown     y  \n"
     ]
    },
    {
     "data": {
      "text/html": [
       "<div>\n",
       "<style scoped>\n",
       "    .dataframe tbody tr th:only-of-type {\n",
       "        vertical-align: middle;\n",
       "    }\n",
       "\n",
       "    .dataframe tbody tr th {\n",
       "        vertical-align: top;\n",
       "    }\n",
       "\n",
       "    .dataframe thead th {\n",
       "        text-align: right;\n",
       "    }\n",
       "</style>\n",
       "<table border=\"1\" class=\"dataframe\">\n",
       "  <thead>\n",
       "    <tr style=\"text-align: right;\">\n",
       "      <th></th>\n",
       "      <th>sex</th>\n",
       "      <th>age</th>\n",
       "      <th>n_siblings_spouses</th>\n",
       "      <th>parch</th>\n",
       "      <th>fare</th>\n",
       "      <th>class</th>\n",
       "      <th>deck</th>\n",
       "      <th>embark_town</th>\n",
       "      <th>alone</th>\n",
       "    </tr>\n",
       "  </thead>\n",
       "  <tbody>\n",
       "    <tr>\n",
       "      <th>0</th>\n",
       "      <td>male</td>\n",
       "      <td>22.0</td>\n",
       "      <td>1</td>\n",
       "      <td>0</td>\n",
       "      <td>7.2500</td>\n",
       "      <td>Third</td>\n",
       "      <td>unknown</td>\n",
       "      <td>Southampton</td>\n",
       "      <td>n</td>\n",
       "    </tr>\n",
       "    <tr>\n",
       "      <th>1</th>\n",
       "      <td>female</td>\n",
       "      <td>38.0</td>\n",
       "      <td>1</td>\n",
       "      <td>0</td>\n",
       "      <td>71.2833</td>\n",
       "      <td>First</td>\n",
       "      <td>C</td>\n",
       "      <td>Cherbourg</td>\n",
       "      <td>n</td>\n",
       "    </tr>\n",
       "    <tr>\n",
       "      <th>2</th>\n",
       "      <td>female</td>\n",
       "      <td>26.0</td>\n",
       "      <td>0</td>\n",
       "      <td>0</td>\n",
       "      <td>7.9250</td>\n",
       "      <td>Third</td>\n",
       "      <td>unknown</td>\n",
       "      <td>Southampton</td>\n",
       "      <td>y</td>\n",
       "    </tr>\n",
       "    <tr>\n",
       "      <th>3</th>\n",
       "      <td>female</td>\n",
       "      <td>35.0</td>\n",
       "      <td>1</td>\n",
       "      <td>0</td>\n",
       "      <td>53.1000</td>\n",
       "      <td>First</td>\n",
       "      <td>C</td>\n",
       "      <td>Southampton</td>\n",
       "      <td>n</td>\n",
       "    </tr>\n",
       "    <tr>\n",
       "      <th>4</th>\n",
       "      <td>male</td>\n",
       "      <td>28.0</td>\n",
       "      <td>0</td>\n",
       "      <td>0</td>\n",
       "      <td>8.4583</td>\n",
       "      <td>Third</td>\n",
       "      <td>unknown</td>\n",
       "      <td>Queenstown</td>\n",
       "      <td>y</td>\n",
       "    </tr>\n",
       "  </tbody>\n",
       "</table>\n",
       "</div>"
      ],
      "text/plain": [
       "      sex   age  n_siblings_spouses  parch     fare  class     deck  \\\n",
       "0    male  22.0                   1      0   7.2500  Third  unknown   \n",
       "1  female  38.0                   1      0  71.2833  First        C   \n",
       "2  female  26.0                   0      0   7.9250  Third  unknown   \n",
       "3  female  35.0                   1      0  53.1000  First        C   \n",
       "4    male  28.0                   0      0   8.4583  Third  unknown   \n",
       "\n",
       "   embark_town alone  \n",
       "0  Southampton     n  \n",
       "1    Cherbourg     n  \n",
       "2  Southampton     y  \n",
       "3  Southampton     n  \n",
       "4   Queenstown     y  "
      ]
     },
     "execution_count": 3,
     "metadata": {},
     "output_type": "execute_result"
    }
   ],
   "source": [
    "dftrain = pd.read_csv('https://storage.googleapis.com/tf-datasets/titanic/train.csv') # Carrega os dados de treinamento do Titanic\n",
    "dfeval = pd.read_csv('https://storage.googleapis.com/tf-datasets/titanic/eval.csv') # Carrega os dados de avaliação do Titanic\n",
    "\n",
    "print(dftrain.head()) # Exibe as primeiras linhas do DataFrame de treinamento\n",
    "\n",
    "y_train  = dftrain.pop('survived') # Remove a coluna 'survived' dos dados de treinamento e a atribui a 'y_train'\n",
    "Y_eval = dfeval.pop('survived') # Remove a coluna 'survived' dos dados de avaliação e a atribui a 'Y_eval'\n",
    "\n",
    "dftrain.head() # Exibe as primeiras linhas do DataFrame de treinamento após a remoção da coluna 'survived'\n"
   ]
  },
  {
   "cell_type": "markdown",
   "metadata": {},
   "source": [
    "\n",
    "O método `pd.read_csv()` nos retorna um novo dataframe do Pandas. Você pode pensar em um dataframe como uma tabela. Na verdade, podemos até dar uma olhada na representação da tabela.\n",
    "\n",
    "Decidimos extrair a coluna \"sobreviveu\" do nosso conjunto de dados e armazená-la em uma nova variável. Esta coluna simplesmente nos diz se a pessoa sobreviveu ou não.\n",
    "\n",
    "Para visualizar os dados, usaremos o método `.head()` do Pandas. Isso nos mostrará os primeiros 5 itens do nosso dataframe."
   ]
  },
  {
   "cell_type": "code",
   "execution_count": 4,
   "metadata": {},
   "outputs": [
    {
     "data": {
      "text/html": [
       "<div>\n",
       "<style scoped>\n",
       "    .dataframe tbody tr th:only-of-type {\n",
       "        vertical-align: middle;\n",
       "    }\n",
       "\n",
       "    .dataframe tbody tr th {\n",
       "        vertical-align: top;\n",
       "    }\n",
       "\n",
       "    .dataframe thead th {\n",
       "        text-align: right;\n",
       "    }\n",
       "</style>\n",
       "<table border=\"1\" class=\"dataframe\">\n",
       "  <thead>\n",
       "    <tr style=\"text-align: right;\">\n",
       "      <th></th>\n",
       "      <th>age</th>\n",
       "      <th>n_siblings_spouses</th>\n",
       "      <th>parch</th>\n",
       "      <th>fare</th>\n",
       "    </tr>\n",
       "  </thead>\n",
       "  <tbody>\n",
       "    <tr>\n",
       "      <th>count</th>\n",
       "      <td>627.000000</td>\n",
       "      <td>627.000000</td>\n",
       "      <td>627.000000</td>\n",
       "      <td>627.000000</td>\n",
       "    </tr>\n",
       "    <tr>\n",
       "      <th>mean</th>\n",
       "      <td>29.631308</td>\n",
       "      <td>0.545455</td>\n",
       "      <td>0.379585</td>\n",
       "      <td>34.385399</td>\n",
       "    </tr>\n",
       "    <tr>\n",
       "      <th>std</th>\n",
       "      <td>12.511818</td>\n",
       "      <td>1.151090</td>\n",
       "      <td>0.792999</td>\n",
       "      <td>54.597730</td>\n",
       "    </tr>\n",
       "    <tr>\n",
       "      <th>min</th>\n",
       "      <td>0.750000</td>\n",
       "      <td>0.000000</td>\n",
       "      <td>0.000000</td>\n",
       "      <td>0.000000</td>\n",
       "    </tr>\n",
       "    <tr>\n",
       "      <th>25%</th>\n",
       "      <td>23.000000</td>\n",
       "      <td>0.000000</td>\n",
       "      <td>0.000000</td>\n",
       "      <td>7.895800</td>\n",
       "    </tr>\n",
       "    <tr>\n",
       "      <th>50%</th>\n",
       "      <td>28.000000</td>\n",
       "      <td>0.000000</td>\n",
       "      <td>0.000000</td>\n",
       "      <td>15.045800</td>\n",
       "    </tr>\n",
       "    <tr>\n",
       "      <th>75%</th>\n",
       "      <td>35.000000</td>\n",
       "      <td>1.000000</td>\n",
       "      <td>0.000000</td>\n",
       "      <td>31.387500</td>\n",
       "    </tr>\n",
       "    <tr>\n",
       "      <th>max</th>\n",
       "      <td>80.000000</td>\n",
       "      <td>8.000000</td>\n",
       "      <td>5.000000</td>\n",
       "      <td>512.329200</td>\n",
       "    </tr>\n",
       "  </tbody>\n",
       "</table>\n",
       "</div>"
      ],
      "text/plain": [
       "              age  n_siblings_spouses       parch        fare\n",
       "count  627.000000          627.000000  627.000000  627.000000\n",
       "mean    29.631308            0.545455    0.379585   34.385399\n",
       "std     12.511818            1.151090    0.792999   54.597730\n",
       "min      0.750000            0.000000    0.000000    0.000000\n",
       "25%     23.000000            0.000000    0.000000    7.895800\n",
       "50%     28.000000            0.000000    0.000000   15.045800\n",
       "75%     35.000000            1.000000    0.000000   31.387500\n",
       "max     80.000000            8.000000    5.000000  512.329200"
      ]
     },
     "execution_count": 4,
     "metadata": {},
     "output_type": "execute_result"
    }
   ],
   "source": [
    "# Retorna estatísticas descritivas do DataFrame 'dftrain', como contagem, média, desvio padrão, mínimo, quartis e máximo para cada coluna numérica\n",
    "dftrain.describe() \n"
   ]
  },
  {
   "cell_type": "markdown",
   "metadata": {},
   "source": [
    "\n",
    "# Treinamento versus Dados de Teste\n",
    "Você pode ter notado que carregamos dois conjuntos de dados diferentes acima. Isso ocorre porque, ao treinar modelos, precisamos de dois conjuntos de dados: **treinamento e teste.**\n",
    "\n",
    "Os dados de **treinamento** são aqueles que alimentamos ao modelo para que ele possa se desenvolver e aprender. Geralmente, é um tamanho muito maior do que os dados de teste.\n",
    "\n",
    "Os dados de **teste** são aqueles que usamos para avaliar o modelo e ver como ele está se saindo. Devemos usar um conjunto separado de dados nos quais o modelo não foi treinado para avaliá-lo. Você consegue pensar por que isso é necessário?\n",
    "\n",
    "Bem, o objetivo do nosso modelo é ser capaz de fazer previsões em NOVOS dados, dados que nunca vimos antes. Se simplesmente testarmos o modelo nos dados que ele já viu, não podemos medir sua precisão de forma precisa. Não podemos ter certeza de que o modelo não apenas memorizou nossos dados de treinamento. É por isso que precisamos que nossos dados de teste e treinamento sejam separados."
   ]
  },
  {
   "cell_type": "code",
   "execution_count": 5,
   "metadata": {},
   "outputs": [
    {
     "data": {
      "text/plain": [
       "(627, 9)"
      ]
     },
     "execution_count": 5,
     "metadata": {},
     "output_type": "execute_result"
    }
   ],
   "source": [
    "dftrain.shape #tamanho da tabela(627 linhas e 9 colunas)"
   ]
  },
  {
   "cell_type": "code",
   "execution_count": 6,
   "metadata": {},
   "outputs": [
    {
     "data": {
      "text/plain": [
       "<Axes: >"
      ]
     },
     "execution_count": 6,
     "metadata": {},
     "output_type": "execute_result"
    },
    {
     "data": {
      "image/png": "[encoded data removed]",
      "text/plain": [
       "<Figure size 640x480 with 1 Axes>"
      ]
     },
     "metadata": {},
     "output_type": "display_data"
    }
   ],
   "source": [
    "# Cria um histograma da coluna 'age' do DataFrame 'dftrain' com 22 bins (intervalos) para visualizar a distribuição das idades\n",
    "dftrain.age.hist(bins=22) \n"
   ]
  },
  {
   "cell_type": "markdown",
   "metadata": {},
   "source": [
    " Utiliza o método 'plot' para criar um gráfico a partir dos dados fornecidos. O parâmetro 'kind=\"barh\"' especifica o tipo de gráfico desejado, neste caso, um gráfico de barras horizontais (barh), que é uma forma eficaz de visualizar a contagem de cada categoria da variável categórica 'sex'.\n",
    "\n",
    "Cria um gráfico de barras horizontais que representa a contagem de cada categoria \n",
    "na coluna 'sex' do DataFrame 'dftrain', ou seja, quantas vezes cada sexo (masculino ou feminino) aparece nos dados de treinamento.\n",
    "\n",
    "\n",
    "\n",
    " "
   ]
  },
  {
   "cell_type": "code",
   "execution_count": 8,
   "metadata": {},
   "outputs": [
    {
     "data": {
      "text/plain": [
       "<Axes: ylabel='sex'>"
      ]
     },
     "execution_count": 8,
     "metadata": {},
     "output_type": "execute_result"
    },
    {
     "data": {
      "image/png": "[encoded data removed]",
      "text/plain": [
       "<Figure size 640x480 with 1 Axes>"
      ]
     },
     "metadata": {},
     "output_type": "display_data"
    }
   ],
   "source": [
    "dftrain.sex.value_counts().plot(kind=\"barh\") \n"
   ]
  },
  {
   "cell_type": "code",
   "execution_count": 9,
   "metadata": {},
   "outputs": [
    {
     "data": {
      "text/plain": [
       "<Axes: ylabel='class'>"
      ]
     },
     "execution_count": 9,
     "metadata": {},
     "output_type": "execute_result"
    },
    {
     "data": {
      "image/png": "[encoded data removed]",
      "text/plain": [
       "<Figure size 640x480 with 1 Axes>"
      ]
     },
     "metadata": {},
     "output_type": "display_data"
    }
   ],
   "source": [
    "dftrain[\"class\"].value_counts().plot(kind=\"barh\")"
   ]
  },
  {
   "cell_type": "markdown",
   "metadata": {},
   "source": [
    "Combina os dados de treinamento e a variável alvo 'survived', agrupa pelo sexo ('sex'), calcula a média de sobrevivência para cada sexo e plota um gráfico de barras horizontais com as médias de sobrevivência. Em seguida, define o rótulo do eixo x como '% survive' para indicar que as barras representam a porcentagem de sobrevivência."
   ]
  },
  {
   "cell_type": "code",
   "execution_count": 10,
   "metadata": {},
   "outputs": [
    {
     "data": {
      "text/plain": [
       "Text(0.5, 0, '% survive')"
      ]
     },
     "execution_count": 10,
     "metadata": {},
     "output_type": "execute_result"
    },
    {
     "data": {
      "image/png": "[encoded data removed]",
      "text/plain": [
       "<Figure size 640x480 with 1 Axes>"
      ]
     },
     "metadata": {},
     "output_type": "display_data"
    }
   ],
   "source": [
    "pd.concat([dftrain, y_train], axis=1).groupby('sex').survived.mean().plot(kind='barh').set_xlabel('% survive')"
   ]
  },
  {
   "cell_type": "markdown",
   "metadata": {},
   "source": [
    "Este código cria colunas de características para uso em modelos de aprendizado de máquina, especificamente em um contexto de classificação. Ele começa definindo duas listas: 'CATEGORICAL_COLUMNS', que contém o nome das colunas categóricas no conjunto de dados, e 'NUMERIC_COLUMNS', que contém o nome das colunas numéricas.\n",
    "\n",
    "Em seguida, ele inicializa uma lista vazia chamada 'feature_columns' para armazenar as colunas de características. \n",
    "\n",
    "O primeiro loop percorre as colunas categóricas. Para cada coluna categórica, ele extrai os valores únicos dessa coluna e os armazena em 'vocabulary'. Em seguida, ele usa esses valores únicos para criar uma coluna de características categóricas usando 'tf.feature_column.categorical_column_with_vocabulary_list' e a adiciona à lista 'feature_columns'.\n",
    "\n",
    "O segundo loop percorre as colunas numéricas. Para cada coluna numérica, ele cria uma coluna de características numéricas usando 'tf.feature_column.numeric_column' e a adiciona à lista 'feature_columns'.\n",
    "\n",
    "Finalmente, ele imprime a lista 'feature_columns', que contém todas as colunas de características criadas, incluindo as colunas categóricas e numéricas. Essas colunas de características serão utilizadas posteriormente na construção do modelo de aprendizado de máquina.\n"
   ]
  },
  {
   "cell_type": "code",
   "execution_count": 11,
   "metadata": {},
   "outputs": [
    {
     "name": "stdout",
     "output_type": "stream",
     "text": [
      "WARNING:tensorflow:From /var/folders/9r/7yls0v3x7dn8j9zhfncqkj800000gp/T/ipykernel_37284/2339446030.py:9: categorical_column_with_vocabulary_list (from tensorflow.python.feature_column.feature_column_v2) is deprecated and will be removed in a future version.\n",
      "Instructions for updating:\n",
      "Use Keras preprocessing layers instead, either directly or via the `tf.keras.utils.FeatureSpace` utility. Each of `tf.feature_column.*` has a functional equivalent in `tf.keras.layers` for feature preprocessing when training a Keras model.\n",
      "WARNING:tensorflow:From /var/folders/9r/7yls0v3x7dn8j9zhfncqkj800000gp/T/ipykernel_37284/2339446030.py:13: numeric_column (from tensorflow.python.feature_column.feature_column_v2) is deprecated and will be removed in a future version.\n",
      "Instructions for updating:\n",
      "Use Keras preprocessing layers instead, either directly or via the `tf.keras.utils.FeatureSpace` utility. Each of `tf.feature_column.*` has a functional equivalent in `tf.keras.layers` for feature preprocessing when training a Keras model.\n",
      "[VocabularyListCategoricalColumn(key='sex', vocabulary_list=('male', 'female'), dtype=tf.string, default_value=-1, num_oov_buckets=0), VocabularyListCategoricalColumn(key='n_siblings_spouses', vocabulary_list=(1, 0, 3, 4, 2, 5, 8), dtype=tf.int64, default_value=-1, num_oov_buckets=0), VocabularyListCategoricalColumn(key='parch', vocabulary_list=(0, 1, 2, 5, 3, 4), dtype=tf.int64, default_value=-1, num_oov_buckets=0), VocabularyListCategoricalColumn(key='class', vocabulary_list=('Third', 'First', 'Second'), dtype=tf.string, default_value=-1, num_oov_buckets=0), VocabularyListCategoricalColumn(key='deck', vocabulary_list=('unknown', 'C', 'G', 'A', 'B', 'D', 'F', 'E'), dtype=tf.string, default_value=-1, num_oov_buckets=0), VocabularyListCategoricalColumn(key='embark_town', vocabulary_list=('Southampton', 'Cherbourg', 'Queenstown', 'unknown'), dtype=tf.string, default_value=-1, num_oov_buckets=0), VocabularyListCategoricalColumn(key='alone', vocabulary_list=('n', 'y'), dtype=tf.string, default_value=-1, num_oov_buckets=0), NumericColumn(key='age', shape=(1,), default_value=None, dtype=tf.float32, normalizer_fn=None), NumericColumn(key='fare', shape=(1,), default_value=None, dtype=tf.float32, normalizer_fn=None)]\n"
     ]
    }
   ],
   "source": [
    "CATEGORICAL_COLUMNS = ['sex', 'n_siblings_spouses', 'parch', 'class', 'deck', 'embark_town', 'alone'] # Lista das colunas categóricas do conjunto de dados\n",
    "NUMERIC_COLUMNS = ['age', 'fare'] # Lista das colunas numéricas do conjunto de dados\n",
    "\n",
    "feature_columns = [] # Lista para armazenar as colunas de características para uso posterior na construção do modelo\n",
    "\n",
    "# Loop para processar as colunas categóricas\n",
    "for feature_name in CATEGORICAL_COLUMNS:\n",
    "    vocabulary = dftrain[feature_name].unique() # Obtém uma lista de todos os valores únicos da coluna de características fornecida\n",
    "    feature_columns.append(tf.feature_column.categorical_column_with_vocabulary_list(feature_name, vocabulary)) # Cria uma coluna de características categóricas usando os valores únicos como vocabulário e a adiciona à lista de colunas de características\n",
    "\n",
    "# Loop para processar as colunas numéricas\n",
    "for feature_name in NUMERIC_COLUMNS:\n",
    "    feature_columns.append(tf.feature_column.numeric_column(feature_name, dtype=tf.float32))# Cria uma coluna de características numéricas e a adiciona à lista de colunas de características, especificando o tipo de dados como float32\n",
    "\n",
    "print(feature_columns) # Exibe a lista de todas as colunas de características criadas, que serão utilizadas posteriormente na construção do modelo\n"
   ]
  },
  {
   "cell_type": "code",
   "execution_count": 12,
   "metadata": {},
   "outputs": [
    {
     "data": {
      "text/plain": [
       "array(['Southampton', 'Cherbourg', 'Queenstown', 'unknown'], dtype=object)"
      ]
     },
     "execution_count": 12,
     "metadata": {},
     "output_type": "execute_result"
    }
   ],
   "source": [
    "dftrain['embark_town'].unique() #testando o .unique"
   ]
  },
  {
   "cell_type": "markdown",
   "metadata": {},
   "source": [
    "Esta função `make_input_fn` cria uma função de entrada (input function) para ser usada em um modelo de aprendizado de máquina. Ela recebe um DataFrame `data_df` contendo os dados de características e uma Series `label_df` contendo os rótulos correspondentes. \n",
    "\n",
    "Internamente, a função cria um dataset TensorFlow (`tf.data.Dataset`) a partir dos dados e rótulos fornecidos. Os dados são convertidos em um dicionário, onde as chaves são os nomes das características e os valores são os dados correspondentes. Isso é feito utilizando `tf.data.Dataset.from_tensor_slices((dict(data_df), label_df))`.\n",
    "\n",
    "Depois, a função embaralha os dados se o argumento `shuffle` for verdadeiro e os agrupa em lotes de tamanho `batch_size`. Se o parâmetro `shuffle` for verdadeiro, o dataset é embaralhado antes de ser agrupado. O parâmetro `num_epochs` define o número de épocas de treinamento.\n",
    "\n",
    "A função retorna outra função que, quando chamada, retorna o dataset preparado para treinamento ou avaliação.\n",
    "\n",
    "O objeto `linear_est` é um estimador TensorFlow que utiliza um modelo de regressão linear. É configurado com as colunas de características `feature_columns` previamente definidas. \n",
    "\n",
    "Em seguida, o modelo é treinado usando os dados de treinamento (`train_input_fn`) e avaliado usando os dados de avaliação (`eval_input_fn`). \n",
    "\n",
    "Finalmente, as métricas do modelo, como precisão, são impressas na tela.\n"
   ]
  },
  {
   "cell_type": "code",
   "execution_count": 13,
   "metadata": {},
   "outputs": [
    {
     "name": "stdout",
     "output_type": "stream",
     "text": [
      "0.75\n"
     ]
    }
   ],
   "source": [
    "def make_input_fn(data_df, label_df, num_epochs=10, shuffle=True, batch_size=32):\n",
    "    def input_function():\n",
    "        ds = tf.data.Dataset.from_tensor_slices((dict(data_df), label_df))\n",
    "        if shuffle:\n",
    "            ds = ds.shuffle(10000)\n",
    "        ds = ds.batch(batch_size).repeat(num_epochs)\n",
    "        return ds\n",
    "    return input_function\n",
    "\n",
    "train_input_fn = make_input_fn(dftrain, y_train)\n",
    "eval_input_fn = make_input_fn(dfeval, Y_eval, num_epochs=1, shuffle=False)\n",
    "\n",
    "linear_est = tf.estimator.LinearClassifier(feature_columns=feature_columns)\n",
    "\n",
    "linear_est.train(train_input_fn) # Treina o modelo\n",
    "result = linear_est.evaluate(eval_input_fn) # Obtém métricas/estatísticas do modelo ao testá-lo nos dados de avaliação\n",
    "\n",
    "clear_output() # Limpa a saída do console\n",
    "print(result['accuracy']) # A variável 'result' é um dicionário de estatísticas sobre nosso modelo; aqui, estamos imprimindo a precisão do modelo\n"
   ]
  },
  {
   "cell_type": "markdown",
   "metadata": {},
   "source": [
    "Neste trecho de código, o modelo linear (`linear_est`) faz previsões para os dados de avaliação utilizando a função de entrada (`eval_input_fn`) que criamos anteriormente. \n",
    "\n",
    "A função `linear_est.predict(eval_input_fn)` retorna um iterável de previsões para cada exemplo nos dados de avaliação. Utilizamos `list()` para converter esse iterável em uma lista chamada `result`.\n",
    "\n",
    "Em seguida, imprimimos as características do exemplo na linha 3 do DataFrame de avaliação (`dfeval`) usando `print(dfeval.loc[3])`.\n",
    "\n",
    "Por fim, imprimimos a probabilidade prevista de que o exemplo na linha 3 pertença à classe negativa (primeira classe) usando `print(result[3]['probabilities'][0])`. Isso é feito acessando as probabilidades previstas para o exemplo na posição 3 da lista `result` e selecionando a probabilidade associada à classe negativa.\n"
   ]
  },
  {
   "cell_type": "code",
   "execution_count": 14,
   "metadata": {},
   "outputs": [
    {
     "name": "stdout",
     "output_type": "stream",
     "text": [
      "INFO:tensorflow:Calling model_fn.\n"
     ]
    },
    {
     "name": "stdout",
     "output_type": "stream",
     "text": [
      "WARNING:tensorflow:From /Library/Python/3.9/site-packages/tensorflow_estimator/python/estimator/head/base_head.py:786: ClassificationOutput.__init__ (from tensorflow.python.saved_model.model_utils.export_output) is deprecated and will be removed in a future version.\n",
      "Instructions for updating:\n",
      "Use tf.keras instead.\n",
      "WARNING:tensorflow:From /Library/Python/3.9/site-packages/tensorflow_estimator/python/estimator/head/binary_class_head.py:561: RegressionOutput.__init__ (from tensorflow.python.saved_model.model_utils.export_output) is deprecated and will be removed in a future version.\n",
      "Instructions for updating:\n",
      "Use tf.keras instead.\n",
      "WARNING:tensorflow:From /Library/Python/3.9/site-packages/tensorflow_estimator/python/estimator/head/binary_class_head.py:563: PredictOutput.__init__ (from tensorflow.python.saved_model.model_utils.export_output) is deprecated and will be removed in a future version.\n",
      "Instructions for updating:\n",
      "Use tf.keras instead.\n",
      "INFO:tensorflow:Done calling model_fn.\n",
      "INFO:tensorflow:Graph was finalized.\n",
      "INFO:tensorflow:Restoring parameters from /var/folders/9r/7yls0v3x7dn8j9zhfncqkj800000gp/T/tmpwb5jw7jq/model.ckpt-200\n",
      "INFO:tensorflow:Running local_init_op.\n",
      "INFO:tensorflow:Done running local_init_op.\n",
      "sex                        female\n",
      "age                          55.0\n",
      "n_siblings_spouses              0\n",
      "parch                           0\n",
      "fare                         16.0\n",
      "class                      Second\n",
      "deck                      unknown\n",
      "embark_town           Southampton\n",
      "alone                           y\n",
      "Name: 3, dtype: object\n",
      "0.13740592\n"
     ]
    }
   ],
   "source": [
    "result = list(linear_est.predict(eval_input_fn)) # Obtém uma lista de previsões do modelo linear para os dados de avaliação\n",
    "print(dfeval.loc[3]) # Imprime as características do exemplo de avaliação na linha 3 do DataFrame dfeval\n",
    "print(result[3]['probabilities'][0]) # Imprime a probabilidade prevista de que o exemplo na linha 3 do DataFrame dfeval pertença à classe negativa (primeira classe)\n"
   ]
  },
  {
   "cell_type": "markdown",
   "metadata": {},
   "source": [
    "\n",
    "# Classificação\n",
    "Agora que abordamos a regressão linear, é hora de falar sobre classificação. Enquanto a regressão era usada para prever um valor numérico, a classificação é usada para separar pontos de dados em classes com diferentes rótulos. Neste exemplo, usaremos um estimador TensorFlow para classificar flores.\n",
    "\n",
    "Como já falamos sobre como os estimadores funcionam anteriormente, abordarei este exemplo de forma mais rápida.\n",
    "\n",
    "Esta seção é baseada no seguinte guia do site TensorFlow: https://www.tensorflow.org/tutorials/estimator/premade"
   ]
  },
  {
   "cell_type": "markdown",
   "metadata": {},
   "source": [
    "### Conjunto de Dados\n",
    "Este conjunto de dados específico separa flores em 3 classes diferentes de espécies:\n",
    "\n",
    "<li>Setosa</li> \n",
    "<li>Versicolor</li> \n",
    "<li>Virginica</li> \n",
    "\n",
    "As informações sobre cada flor são as seguintes:\n",
    "\n",
    "<li>Comprimento da sépala</li> \n",
    "<li>Largura da sépala</li> \n",
    "<li>Comprimento da pétala</li> \n",
    "<li>Largura da pétala</li> "
   ]
  },
  {
   "cell_type": "code",
   "execution_count": 15,
   "metadata": {},
   "outputs": [],
   "source": [
    "CSV_COLUMNS_NAMES = ['SepalLength', 'SepalWidth', 'PetalLength', 'PetalWidth', 'Species']\n",
    "SPECIES =  ['Setosa', 'Versicolor', 'Virginica']\n",
    "\n",
    "# vamos definir algumas constantes para nos ajudar depois"
   ]
  },
  {
   "cell_type": "code",
   "execution_count": 16,
   "metadata": {},
   "outputs": [],
   "source": [
    "train_path = tf.keras.utils.get_file(\n",
    "    \"iris_training.csv\", \"https://storage.googleapis.com/download.tensorflow.org/data/iris_training.csv\")\n",
    "test_path = tf.keras.utils.get_file(\n",
    "    \"iris_test.csv\", \"https://storage.googleapis.com/download.tensorflow.org/data/iris_test.csv\")\n",
    "\n",
    "train = pd.read_csv(train_path, names=CSV_COLUMNS_NAMES, header=0)\n",
    "test = pd.read_csv(test_path, names=CSV_COLUMNS_NAMES, header=0)\n",
    "# aqui estamos usando o keras (um módulo dentro do tensorflow) para pegar nossos datasets e ler eles em um dataframe pandas"
   ]
  },
  {
   "cell_type": "markdown",
   "metadata": {},
   "source": [
    "Agora vamos checar nosso conjunto de dados"
   ]
  },
  {
   "cell_type": "code",
   "execution_count": 17,
   "metadata": {},
   "outputs": [
    {
     "data": {
      "text/html": [
       "<div>\n",
       "<style scoped>\n",
       "    .dataframe tbody tr th:only-of-type {\n",
       "        vertical-align: middle;\n",
       "    }\n",
       "\n",
       "    .dataframe tbody tr th {\n",
       "        vertical-align: top;\n",
       "    }\n",
       "\n",
       "    .dataframe thead th {\n",
       "        text-align: right;\n",
       "    }\n",
       "</style>\n",
       "<table border=\"1\" class=\"dataframe\">\n",
       "  <thead>\n",
       "    <tr style=\"text-align: right;\">\n",
       "      <th></th>\n",
       "      <th>SepalLength</th>\n",
       "      <th>SepalWidth</th>\n",
       "      <th>PetalLength</th>\n",
       "      <th>PetalWidth</th>\n",
       "      <th>Species</th>\n",
       "    </tr>\n",
       "  </thead>\n",
       "  <tbody>\n",
       "    <tr>\n",
       "      <th>0</th>\n",
       "      <td>6.4</td>\n",
       "      <td>2.8</td>\n",
       "      <td>5.6</td>\n",
       "      <td>2.2</td>\n",
       "      <td>2</td>\n",
       "    </tr>\n",
       "    <tr>\n",
       "      <th>1</th>\n",
       "      <td>5.0</td>\n",
       "      <td>2.3</td>\n",
       "      <td>3.3</td>\n",
       "      <td>1.0</td>\n",
       "      <td>1</td>\n",
       "    </tr>\n",
       "    <tr>\n",
       "      <th>2</th>\n",
       "      <td>4.9</td>\n",
       "      <td>2.5</td>\n",
       "      <td>4.5</td>\n",
       "      <td>1.7</td>\n",
       "      <td>2</td>\n",
       "    </tr>\n",
       "    <tr>\n",
       "      <th>3</th>\n",
       "      <td>4.9</td>\n",
       "      <td>3.1</td>\n",
       "      <td>1.5</td>\n",
       "      <td>0.1</td>\n",
       "      <td>0</td>\n",
       "    </tr>\n",
       "    <tr>\n",
       "      <th>4</th>\n",
       "      <td>5.7</td>\n",
       "      <td>3.8</td>\n",
       "      <td>1.7</td>\n",
       "      <td>0.3</td>\n",
       "      <td>0</td>\n",
       "    </tr>\n",
       "  </tbody>\n",
       "</table>\n",
       "</div>"
      ],
      "text/plain": [
       "   SepalLength  SepalWidth  PetalLength  PetalWidth  Species\n",
       "0          6.4         2.8          5.6         2.2        2\n",
       "1          5.0         2.3          3.3         1.0        1\n",
       "2          4.9         2.5          4.5         1.7        2\n",
       "3          4.9         3.1          1.5         0.1        0\n",
       "4          5.7         3.8          1.7         0.3        0"
      ]
     },
     "execution_count": 17,
     "metadata": {},
     "output_type": "execute_result"
    }
   ],
   "source": [
    "train.head()"
   ]
  },
  {
   "cell_type": "markdown",
   "metadata": {},
   "source": [
    "Agora nós podemos remover a coluna espécies e usa-la como nosso label\n"
   ]
  },
  {
   "cell_type": "code",
   "execution_count": 18,
   "metadata": {},
   "outputs": [
    {
     "data": {
      "text/html": [
       "<div>\n",
       "<style scoped>\n",
       "    .dataframe tbody tr th:only-of-type {\n",
       "        vertical-align: middle;\n",
       "    }\n",
       "\n",
       "    .dataframe tbody tr th {\n",
       "        vertical-align: top;\n",
       "    }\n",
       "\n",
       "    .dataframe thead th {\n",
       "        text-align: right;\n",
       "    }\n",
       "</style>\n",
       "<table border=\"1\" class=\"dataframe\">\n",
       "  <thead>\n",
       "    <tr style=\"text-align: right;\">\n",
       "      <th></th>\n",
       "      <th>SepalLength</th>\n",
       "      <th>SepalWidth</th>\n",
       "      <th>PetalLength</th>\n",
       "      <th>PetalWidth</th>\n",
       "    </tr>\n",
       "  </thead>\n",
       "  <tbody>\n",
       "    <tr>\n",
       "      <th>0</th>\n",
       "      <td>6.4</td>\n",
       "      <td>2.8</td>\n",
       "      <td>5.6</td>\n",
       "      <td>2.2</td>\n",
       "    </tr>\n",
       "    <tr>\n",
       "      <th>1</th>\n",
       "      <td>5.0</td>\n",
       "      <td>2.3</td>\n",
       "      <td>3.3</td>\n",
       "      <td>1.0</td>\n",
       "    </tr>\n",
       "    <tr>\n",
       "      <th>2</th>\n",
       "      <td>4.9</td>\n",
       "      <td>2.5</td>\n",
       "      <td>4.5</td>\n",
       "      <td>1.7</td>\n",
       "    </tr>\n",
       "    <tr>\n",
       "      <th>3</th>\n",
       "      <td>4.9</td>\n",
       "      <td>3.1</td>\n",
       "      <td>1.5</td>\n",
       "      <td>0.1</td>\n",
       "    </tr>\n",
       "    <tr>\n",
       "      <th>4</th>\n",
       "      <td>5.7</td>\n",
       "      <td>3.8</td>\n",
       "      <td>1.7</td>\n",
       "      <td>0.3</td>\n",
       "    </tr>\n",
       "  </tbody>\n",
       "</table>\n",
       "</div>"
      ],
      "text/plain": [
       "   SepalLength  SepalWidth  PetalLength  PetalWidth\n",
       "0          6.4         2.8          5.6         2.2\n",
       "1          5.0         2.3          3.3         1.0\n",
       "2          4.9         2.5          4.5         1.7\n",
       "3          4.9         3.1          1.5         0.1\n",
       "4          5.7         3.8          1.7         0.3"
      ]
     },
     "execution_count": 18,
     "metadata": {},
     "output_type": "execute_result"
    }
   ],
   "source": [
    "train_y = train.pop('Species')\n",
    "test_y = test.pop('Species')\n",
    "train.head()"
   ]
  },
  {
   "cell_type": "code",
   "execution_count": 19,
   "metadata": {},
   "outputs": [
    {
     "data": {
      "text/plain": [
       "(120, 4)"
      ]
     },
     "execution_count": 19,
     "metadata": {},
     "output_type": "execute_result"
    }
   ],
   "source": [
    "train.shape"
   ]
  },
  {
   "cell_type": "markdown",
   "metadata": {},
   "source": [
    "### Input Funciton\n",
    "\n",
    "Lembre-se que essa funcão aninhada foi criada anteriormente. Bem, nós temmos que fazer outra aqui! Sorte a nossa que essa qui é mais fácil de se entender."
   ]
  },
  {
   "cell_type": "code",
   "execution_count": 20,
   "metadata": {},
   "outputs": [],
   "source": [
    "def input_fn(features, labels, training=True, batch_size=256):\n",
    "    # converte as entradas em datasets\n",
    "    dataset = tf.data.Dataset.from_tensor_slices((dict(features),labels))\n",
    "    \n",
    "    # randomiza e repete se você estiver no modo de treino\n",
    "    \n",
    "    if training:\n",
    "        dataset = dataset.shuffle(1000).repeat()\n",
    "        \n",
    "    return dataset.batch(batch_size)"
   ]
  },
  {
   "cell_type": "markdown",
   "metadata": {},
   "source": [
    "### Feature Columns"
   ]
  },
  {
   "cell_type": "code",
   "execution_count": 21,
   "metadata": {},
   "outputs": [
    {
     "name": "stdout",
     "output_type": "stream",
     "text": [
      "[NumericColumn(key='SepalLength', shape=(1,), default_value=None, dtype=tf.float32, normalizer_fn=None), NumericColumn(key='SepalWidth', shape=(1,), default_value=None, dtype=tf.float32, normalizer_fn=None), NumericColumn(key='PetalLength', shape=(1,), default_value=None, dtype=tf.float32, normalizer_fn=None), NumericColumn(key='PetalWidth', shape=(1,), default_value=None, dtype=tf.float32, normalizer_fn=None)]\n"
     ]
    }
   ],
   "source": [
    "# Feature columns descrevem como usar os inputs\n",
    "my_feature_columns = []\n",
    "for key in train.keys():\n",
    "    my_feature_columns.append(tf.feature_column.numeric_column(key=key))\n",
    "print(my_feature_columns)"
   ]
  },
  {
   "cell_type": "markdown",
   "metadata": {},
   "source": [
    "\n",
    "## Construindo o Modelo\n",
    "E agora estamos prontos para escolher um modelo. Para tarefas de classificação, existem várias opções de estimadores/modelos que podemos escolher. Algumas opções estão listadas abaixo.\n",
    "\n",
    "`DNNClassifier (Deep Neural Network)`\n",
    "\n",
    "`LinearClassifier`\n",
    "\n",
    "Podemos escolher qualquer um dos modelos, mas o DNN parece ser a melhor escolha. Isso ocorre porque pode ser que não consigamos encontrar uma correspondência linear em nossos dados.\n",
    "\n",
    "Então, vamos construir um modelo!"
   ]
  },
  {
   "cell_type": "code",
   "execution_count": 22,
   "metadata": {},
   "outputs": [
    {
     "name": "stdout",
     "output_type": "stream",
     "text": [
      "WARNING:tensorflow:From /var/folders/9r/7yls0v3x7dn8j9zhfncqkj800000gp/T/ipykernel_52427/1334184498.py:2: DNNClassifierV2.__init__ (from tensorflow_estimator.python.estimator.canned.dnn) is deprecated and will be removed in a future version.\n",
      "Instructions for updating:\n",
      "Use tf.keras instead.\n",
      "WARNING:tensorflow:From /Library/Python/3.9/site-packages/tensorflow_estimator/python/estimator/head/head_utils.py:59: MultiClassHead.__init__ (from tensorflow_estimator.python.estimator.head.multi_class_head) is deprecated and will be removed in a future version.\n",
      "Instructions for updating:\n",
      "Use tf.keras instead.\n",
      "INFO:tensorflow:Using default config.\n",
      "WARNING:tensorflow:Using temporary folder as model directory: /var/folders/9r/7yls0v3x7dn8j9zhfncqkj800000gp/T/tmpw2wncrdv\n",
      "INFO:tensorflow:Using config: {'_model_dir': '/var/folders/9r/7yls0v3x7dn8j9zhfncqkj800000gp/T/tmpw2wncrdv', '_tf_random_seed': None, '_save_summary_steps': 100, '_save_checkpoints_steps': None, '_save_checkpoints_secs': 600, '_session_config': allow_soft_placement: true\n",
      "graph_options {\n",
      "  rewrite_options {\n",
      "    meta_optimizer_iterations: ONE\n",
      "  }\n",
      "}\n",
      ", '_keep_checkpoint_max': 5, '_keep_checkpoint_every_n_hours': 10000, '_log_step_count_steps': 100, '_train_distribute': None, '_device_fn': None, '_protocol': None, '_eval_distribute': None, '_experimental_distribute': None, '_experimental_max_worker_delay_secs': None, '_session_creation_timeout_secs': 7200, '_checkpoint_save_graph_def': True, '_service': None, '_cluster_spec': ClusterSpec({}), '_task_type': 'worker', '_task_id': 0, '_global_id_in_cluster': 0, '_master': '', '_evaluation_master': '', '_is_chief': True, '_num_ps_replicas': 0, '_num_worker_replicas': 1}\n"
     ]
    }
   ],
   "source": [
    "#construir um DNN com 2 camadas escondidas com 30 e 10 nós escodidos em cada\n",
    "classifier = tf.estimator.DNNClassifier(\n",
    "    feature_columns=my_feature_columns,\n",
    "    #duas camadas de 30 e 10 nós respectivamente\n",
    "    hidden_units=[30, 10],\n",
    "    #o modelo precisa escolher entre tres classes\n",
    "    n_classes=3)\n"
   ]
  },
  {
   "cell_type": "markdown",
   "metadata": {},
   "source": [
    "O que acabamos de fazer é criar uma rede neural profunda que possui duas camadas ocultas. Essas camadas têm respectivamente 30 e 10 neurônios. Este é o número de neurônios que o tutorial oficial do TensorFlow usa, então vamos mantê-lo. No entanto, vale a pena mencionar que o número de neurônios ocultos é um número arbitrário e muitos experimentos e testes geralmente são realizados para determinar a melhor escolha para esses valores. Experimente alterar o número de neurônios ocultos e veja se seus resultados mudam."
   ]
  },
  {
   "cell_type": "markdown",
   "metadata": {},
   "source": [
    "## Treinando"
   ]
  },
  {
   "cell_type": "code",
   "execution_count": 23,
   "metadata": {},
   "outputs": [
    {
     "name": "stdout",
     "output_type": "stream",
     "text": [
      "WARNING:tensorflow:From /Library/Python/3.9/site-packages/tensorflow_estimator/python/estimator/estimator.py:385: StopAtStepHook.__init__ (from tensorflow.python.training.basic_session_run_hooks) is deprecated and will be removed in a future version.\n",
      "Instructions for updating:\n",
      "Use tf.keras instead.\n",
      "INFO:tensorflow:Calling model_fn.\n",
      "INFO:tensorflow:Done calling model_fn.\n",
      "INFO:tensorflow:Create CheckpointSaverHook.\n",
      "INFO:tensorflow:Graph was finalized.\n",
      "INFO:tensorflow:Running local_init_op.\n",
      "INFO:tensorflow:Done running local_init_op.\n",
      "INFO:tensorflow:Calling checkpoint listeners before saving checkpoint 0...\n",
      "INFO:tensorflow:Saving checkpoints for 0 into /var/folders/9r/7yls0v3x7dn8j9zhfncqkj800000gp/T/tmpw2wncrdv/model.ckpt.\n",
      "INFO:tensorflow:Calling checkpoint listeners after saving checkpoint 0...\n",
      "INFO:tensorflow:loss = 1.1593301, step = 0\n"
     ]
    },
    {
     "name": "stderr",
     "output_type": "stream",
     "text": [
      "2024-05-04 14:54:45.927146: W tensorflow/core/common_runtime/type_inference.cc:339] Type inference failed. This indicates an invalid graph that escaped type checking. Error message: INVALID_ARGUMENT: expected compatible input types, but input 1:\n",
      "type_id: TFT_OPTIONAL\n",
      "args {\n",
      "  type_id: TFT_PRODUCT\n",
      "  args {\n",
      "    type_id: TFT_TENSOR\n",
      "    args {\n",
      "      type_id: TFT_INT64\n",
      "    }\n",
      "  }\n",
      "}\n",
      " is neither a subtype nor a supertype of the combined inputs preceding it:\n",
      "type_id: TFT_OPTIONAL\n",
      "args {\n",
      "  type_id: TFT_PRODUCT\n",
      "  args {\n",
      "    type_id: TFT_TENSOR\n",
      "    args {\n",
      "      type_id: TFT_INT32\n",
      "    }\n",
      "  }\n",
      "}\n",
      "\n",
      "\tfor Tuple type infernce function 0\n",
      "\twhile inferring type of node 'dnn/zero_fraction/cond/output/_18'\n"
     ]
    },
    {
     "name": "stdout",
     "output_type": "stream",
     "text": [
      "INFO:tensorflow:global_step/sec: 1105.87\n",
      "INFO:tensorflow:loss = 0.9229766, step = 100 (0.091 sec)\n",
      "INFO:tensorflow:global_step/sec: 1271.81\n",
      "INFO:tensorflow:loss = 0.8406346, step = 200 (0.079 sec)\n",
      "INFO:tensorflow:global_step/sec: 1696.78\n",
      "INFO:tensorflow:loss = 0.80238664, step = 300 (0.059 sec)\n",
      "INFO:tensorflow:global_step/sec: 1766.85\n",
      "INFO:tensorflow:loss = 0.7681954, step = 400 (0.057 sec)\n",
      "INFO:tensorflow:global_step/sec: 1814.72\n",
      "INFO:tensorflow:loss = 0.7272837, step = 500 (0.055 sec)\n",
      "INFO:tensorflow:global_step/sec: 1800.22\n",
      "INFO:tensorflow:loss = 0.7014164, step = 600 (0.056 sec)\n",
      "INFO:tensorflow:global_step/sec: 1804.43\n",
      "INFO:tensorflow:loss = 0.6760569, step = 700 (0.055 sec)\n",
      "INFO:tensorflow:global_step/sec: 1750.73\n",
      "INFO:tensorflow:loss = 0.6423639, step = 800 (0.057 sec)\n",
      "INFO:tensorflow:global_step/sec: 1773.14\n",
      "INFO:tensorflow:loss = 0.62700856, step = 900 (0.056 sec)\n",
      "INFO:tensorflow:global_step/sec: 1362.84\n",
      "INFO:tensorflow:loss = 0.613569, step = 1000 (0.073 sec)\n",
      "INFO:tensorflow:global_step/sec: 1216.5\n",
      "INFO:tensorflow:loss = 0.5776022, step = 1100 (0.082 sec)\n",
      "INFO:tensorflow:global_step/sec: 1701.12\n",
      "INFO:tensorflow:loss = 0.56805444, step = 1200 (0.059 sec)\n",
      "INFO:tensorflow:global_step/sec: 1774.31\n",
      "INFO:tensorflow:loss = 0.5647465, step = 1300 (0.056 sec)\n",
      "INFO:tensorflow:global_step/sec: 1807.34\n",
      "INFO:tensorflow:loss = 0.54239076, step = 1400 (0.055 sec)\n",
      "INFO:tensorflow:global_step/sec: 1783.68\n",
      "INFO:tensorflow:loss = 0.52580464, step = 1500 (0.056 sec)\n",
      "INFO:tensorflow:global_step/sec: 1794.37\n",
      "INFO:tensorflow:loss = 0.52513015, step = 1600 (0.056 sec)\n",
      "INFO:tensorflow:global_step/sec: 1466.68\n",
      "INFO:tensorflow:loss = 0.50923395, step = 1700 (0.068 sec)\n",
      "INFO:tensorflow:global_step/sec: 1890.21\n",
      "INFO:tensorflow:loss = 0.49258178, step = 1800 (0.053 sec)\n",
      "INFO:tensorflow:global_step/sec: 1795.4\n",
      "INFO:tensorflow:loss = 0.4956289, step = 1900 (0.056 sec)\n",
      "INFO:tensorflow:global_step/sec: 1845.8\n",
      "INFO:tensorflow:loss = 0.46805453, step = 2000 (0.054 sec)\n",
      "INFO:tensorflow:global_step/sec: 1782.56\n",
      "INFO:tensorflow:loss = 0.46778578, step = 2100 (0.056 sec)\n",
      "INFO:tensorflow:global_step/sec: 1798.38\n",
      "INFO:tensorflow:loss = 0.4495661, step = 2200 (0.056 sec)\n",
      "INFO:tensorflow:global_step/sec: 1810.83\n",
      "INFO:tensorflow:loss = 0.4380542, step = 2300 (0.055 sec)\n",
      "INFO:tensorflow:global_step/sec: 1821.83\n",
      "INFO:tensorflow:loss = 0.43374813, step = 2400 (0.055 sec)\n",
      "INFO:tensorflow:global_step/sec: 1471.82\n",
      "INFO:tensorflow:loss = 0.44149315, step = 2500 (0.068 sec)\n",
      "INFO:tensorflow:global_step/sec: 2054.48\n",
      "INFO:tensorflow:loss = 0.41910622, step = 2600 (0.049 sec)\n",
      "INFO:tensorflow:global_step/sec: 1686.8\n",
      "INFO:tensorflow:loss = 0.41425735, step = 2700 (0.059 sec)\n",
      "INFO:tensorflow:global_step/sec: 1773.72\n",
      "INFO:tensorflow:loss = 0.40668386, step = 2800 (0.056 sec)\n",
      "INFO:tensorflow:global_step/sec: 1806.55\n",
      "INFO:tensorflow:loss = 0.4023991, step = 2900 (0.055 sec)\n",
      "INFO:tensorflow:global_step/sec: 1687.29\n",
      "INFO:tensorflow:loss = 0.39752194, step = 3000 (0.059 sec)\n",
      "INFO:tensorflow:global_step/sec: 1639.04\n",
      "INFO:tensorflow:loss = 0.38599622, step = 3100 (0.061 sec)\n",
      "INFO:tensorflow:global_step/sec: 1781.84\n",
      "INFO:tensorflow:loss = 0.37972003, step = 3200 (0.056 sec)\n",
      "INFO:tensorflow:global_step/sec: 1349.76\n",
      "INFO:tensorflow:loss = 0.37847906, step = 3300 (0.074 sec)\n",
      "INFO:tensorflow:global_step/sec: 2424.43\n",
      "INFO:tensorflow:loss = 0.37841156, step = 3400 (0.041 sec)\n",
      "INFO:tensorflow:global_step/sec: 1819.54\n",
      "INFO:tensorflow:loss = 0.37019885, step = 3500 (0.055 sec)\n",
      "INFO:tensorflow:global_step/sec: 1776.13\n",
      "INFO:tensorflow:loss = 0.36192745, step = 3600 (0.056 sec)\n",
      "INFO:tensorflow:global_step/sec: 1703.96\n",
      "INFO:tensorflow:loss = 0.3611151, step = 3700 (0.059 sec)\n",
      "INFO:tensorflow:global_step/sec: 1706.1\n",
      "INFO:tensorflow:loss = 0.35626143, step = 3800 (0.059 sec)\n",
      "INFO:tensorflow:global_step/sec: 1687.31\n",
      "INFO:tensorflow:loss = 0.34598157, step = 3900 (0.059 sec)\n",
      "INFO:tensorflow:global_step/sec: 1723.49\n",
      "INFO:tensorflow:loss = 0.3475537, step = 4000 (0.058 sec)\n",
      "INFO:tensorflow:global_step/sec: 1510.3\n",
      "INFO:tensorflow:loss = 0.3407348, step = 4100 (0.066 sec)\n",
      "INFO:tensorflow:global_step/sec: 2014.79\n",
      "INFO:tensorflow:loss = 0.33732054, step = 4200 (0.050 sec)\n",
      "INFO:tensorflow:global_step/sec: 1817.82\n",
      "INFO:tensorflow:loss = 0.3323285, step = 4300 (0.055 sec)\n",
      "INFO:tensorflow:global_step/sec: 1821.63\n",
      "INFO:tensorflow:loss = 0.31534076, step = 4400 (0.055 sec)\n",
      "INFO:tensorflow:global_step/sec: 1832.37\n",
      "INFO:tensorflow:loss = 0.3274765, step = 4500 (0.055 sec)\n",
      "INFO:tensorflow:global_step/sec: 1831.5\n",
      "INFO:tensorflow:loss = 0.32946345, step = 4600 (0.055 sec)\n",
      "INFO:tensorflow:global_step/sec: 1805.77\n",
      "INFO:tensorflow:loss = 0.33035013, step = 4700 (0.055 sec)\n",
      "INFO:tensorflow:global_step/sec: 1809.33\n",
      "INFO:tensorflow:loss = 0.31192476, step = 4800 (0.055 sec)\n",
      "INFO:tensorflow:global_step/sec: 1547.2\n",
      "INFO:tensorflow:loss = 0.32152033, step = 4900 (0.065 sec)\n",
      "INFO:tensorflow:Calling checkpoint listeners before saving checkpoint 5000...\n",
      "INFO:tensorflow:Saving checkpoints for 5000 into /var/folders/9r/7yls0v3x7dn8j9zhfncqkj800000gp/T/tmpw2wncrdv/model.ckpt.\n",
      "INFO:tensorflow:Calling checkpoint listeners after saving checkpoint 5000...\n",
      "INFO:tensorflow:Loss for final step: 0.30576152.\n"
     ]
    },
    {
     "data": {
      "text/plain": [
       "<tensorflow_estimator.python.estimator.canned.dnn.DNNClassifierV2 at 0x16d703820>"
      ]
     },
     "execution_count": 23,
     "metadata": {},
     "output_type": "execute_result"
    }
   ],
   "source": [
    "classifier.train(\n",
    "    input_fn=lambda: input_fn(train, train_y, training=True),\n",
    "    steps=5000)\n",
    "\n",
    "# nós incluimos o lambda para evitar criar um afuncão interna previamente"
   ]
  },
  {
   "cell_type": "markdown",
   "metadata": {},
   "source": [
    "## Avaliação\n",
    "\n",
    "Agora vamos ver como esse modelo treinado se sai!"
   ]
  },
  {
   "cell_type": "code",
   "execution_count": 24,
   "metadata": {},
   "outputs": [
    {
     "name": "stdout",
     "output_type": "stream",
     "text": [
      "INFO:tensorflow:Calling model_fn.\n"
     ]
    },
    {
     "name": "stdout",
     "output_type": "stream",
     "text": [
      "INFO:tensorflow:Done calling model_fn.\n",
      "INFO:tensorflow:Starting evaluation at 2024-05-04T14:54:52\n",
      "INFO:tensorflow:Graph was finalized.\n",
      "INFO:tensorflow:Restoring parameters from /var/folders/9r/7yls0v3x7dn8j9zhfncqkj800000gp/T/tmpw2wncrdv/model.ckpt-5000\n",
      "INFO:tensorflow:Running local_init_op.\n",
      "INFO:tensorflow:Done running local_init_op.\n",
      "INFO:tensorflow:Inference Time : 0.10948s\n",
      "INFO:tensorflow:Finished evaluation at 2024-05-04-14:54:53\n",
      "INFO:tensorflow:Saving dict for global step 5000: accuracy = 0.93333334, average_loss = 0.35989228, global_step = 5000, loss = 0.35989228\n",
      "INFO:tensorflow:Saving 'checkpoint_path' summary for global step 5000: /var/folders/9r/7yls0v3x7dn8j9zhfncqkj800000gp/T/tmpw2wncrdv/model.ckpt-5000\n",
      "\n",
      "Test set accuracy: 0.933\n",
      "\n"
     ]
    }
   ],
   "source": [
    "eval_result = classifier.evaluate(input_fn=lambda: input_fn(test, test_y, training=False))\n",
    "print('\\nTest set accuracy: {accuracy:0.3f}\\n'.format(**eval_result))"
   ]
  },
  {
   "cell_type": "markdown",
   "metadata": {},
   "source": [
    "### Previsões\n",
    "\n",
    "Agora que temos um modelo treinado, é hora de usá-lo para fazer previsões. Abaixo um pequeno script que permite digitar as características de uma flor e ver uma previsão para sua classe."
   ]
  },
  {
   "cell_type": "code",
   "execution_count": 27,
   "metadata": {},
   "outputs": [
    {
     "name": "stdout",
     "output_type": "stream",
     "text": [
      "Please type numeric values as prompted.\n",
      "INFO:tensorflow:Calling model_fn.\n",
      "INFO:tensorflow:Done calling model_fn.\n",
      "INFO:tensorflow:Graph was finalized.\n",
      "INFO:tensorflow:Restoring parameters from /var/folders/9r/7yls0v3x7dn8j9zhfncqkj800000gp/T/tmpw2wncrdv/model.ckpt-5000\n",
      "INFO:tensorflow:Running local_init_op.\n",
      "INFO:tensorflow:Done running local_init_op.\n",
      "Predictions is \"Virginica\" (99.5%)\n"
     ]
    }
   ],
   "source": [
    "def input_fn(features,batch_size=256):\n",
    "    return tf.data.Dataset.from_tensor_slices(dict(features)).batch(batch_size)\n",
    "\n",
    "features = ['SepalLength', 'SepalWidth', 'PetalLength', 'PetalWidth']\n",
    "predict ={}\n",
    "\n",
    "print(\"Please type numeric values as prompted.\")\n",
    "for feature in features:\n",
    "    valid = True\n",
    "    while valid:\n",
    "        val = input(feature + \": \")\n",
    "        if not val.isdigit(): valid = False\n",
    "    \n",
    "    predict[feature] = [float(val)]\n",
    "    \n",
    "predictions = classifier.predict(input_fn=lambda: input_fn(predict))\n",
    "for pred_dict in predictions:\n",
    "    class_id = pred_dict['class_ids'][0]\n",
    "    probality = pred_dict['probabilities'][class_id]\n",
    "    \n",
    "    print('Predictions is \"{}\" ({:.1f}%)'.format(\n",
    "        SPECIES[class_id],100 * probality))"
   ]
  },
  {
   "cell_type": "markdown",
   "metadata": {},
   "source": [
    "## Agrupamento\n",
    "Agora que cobrimos regressão e classificação, é hora de falar sobre agrupamento de dados!\n",
    "\n",
    "Clustering é uma técnica de aprendizado de máquina que envolve o agrupamento de pontos de dados. Em teoria, os pontos de dados que estão no mesmo grupo deveriam ter propriedades e/ou características semelhantes, enquanto os pontos de dados em grupos diferentes deveriam ter propriedades e/ou características altamente diferentes. \n",
    "(https://towardsdatascience.com/the-5-clustering-algorithms-data-scientists-need-to-know-a36d136ef68)\n",
    "\n",
    "Infelizmente, há problemas com a versão atual do TensorFlow e a implementação do KMeans. Isso significa que não podemos usar o KMeans sem escrever o algoritmo do zero. Ainda não estamos nesse nível, então vamos apenas explicar o básico do clustering por enquanto.\n",
    "\n",
    "Algoritmo Básico para K-Means:\n",
    "\n",
    "• Etapa 1: escolha aleatoriamente K pontos para colocar K centróides\n",
    "\n",
    "• Etapa 2: atribua todos os pontos de dados aos centróides por distância. O centróide mais próximo de um ponto é aquele ao qual ele está atribuído.\n",
    "\n",
    "• Etapa 3: calcule a média de todos os pontos pertencentes a cada centróide para encontrar o meio desses clusters (centro de massa). Coloque os centróides correspondentes nessa posição.\n",
    "\n",
    "• Etapa 4: reatribua cada ponto novamente ao centróide mais próximo.\n",
    "\n",
    "•Etapa 5: Repita os passos 3-4 até que nenhum ponto altere a qual centróide ele pertence.\n",
    "\n",
    "Consulte o vídeo para obter uma explicação sobre o agrupamento KMeans."
   ]
  },
  {
   "cell_type": "markdown",
   "metadata": {},
   "source": [
    "## Modelos ocultos de Markov\n",
    "\"O modelo oculto de Markov é um conjunto finito de estados, cada um dos quais está associado a uma distribuição de probabilidade (geralmente multidimensional). As transições entre os estados são governadas por um conjunto de probabilidades chamadas probabilidades de transição.\"\n",
    "(http://jedlik.phy.bme.hu/~gerjanos/HMM/node4.html)\n",
    "\n",
    "Um modelo de Markov oculto trabalha com probabilidades para prever eventos ou estados futuros. Nesta seção aprenderemos como criar um modelo de Markov oculto que pode prever o clima.\n",
    "\n",
    "Esta seção é baseada no seguinte tutorial do TensorFlow.\n",
    "https://www.tensorflow.org/probability/api_docs/python/tfp/distributions/Hidden MarkovModel"
   ]
  },
  {
   "cell_type": "markdown",
   "metadata": {},
   "source": [
    "Dados\n",
    "\n",
    "Vamos começar discutindo o tipo de dados que usamos quando trabalhamos com um modelo de Markov oculto.\n",
    "Nas seções anteriores, trabalhamos com grandes conjuntos de dados de centenas de entradas diferentes. Para um modelo de Markov, estamos interessados ​​apenas em distribuições de probabilidade que tenham a ver com estados.\n",
    "\n",
    "Podemos encontrar essas probabilidades em grandes conjuntos de dados ou já ter esses valores. Veremos um exemplo em um segundo que deve esclarecer algumas coisas, mas vamos discutir os componentes de um modelo markov.\n",
    "\n",
    " ***Estados***: Em cada modelo de Markov temos um conjunto finito de estados. Esses estados podem ser algo como “quente” e “frio” ou “alto” e “baixo” ou mesmo “vermelho”, “verde” e “azul”. Esses estados estão “ocultos” no modelo, o que significa que não os observamos diretamente.\n",
    "\n",
    "***Observações***: Cada estado tem um resultado ou observação particular associado a ele com base em uma distribuição de probabilidade. Um exemplo disso é o seguinte: Em um dia quente, Tim tem 80% de chance de ficar feliz e 20% de chance de ficar triste.\n",
    "\n",
    "***Transições***: Cada estado terá uma probabilidade que define a probabilidade de transição para um estado diferente. Um exemplo é o seguinte: um dia frio tem 30% de chance de ser seguido por um dia quente e 70% de chance de ser seguido por outro dia frio.\n",
    "\n",
    "Para criar um modelo de Markov oculto, precisamos:\n",
    "\n",
    "• Estados\n",
    "\n",
    "• Distribuição de Observação\n",
    "\n",
    "• Distribuição de Transição\n",
    "\n",
    "Para o nosso propósito, assumiremos que já temos esta informação disponível enquanto tentamos prever o tempo num determinado dia."
   ]
  },
  {
   "cell_type": "code",
   "execution_count": 14,
   "metadata": {},
   "outputs": [],
   "source": [
    "import tensorflow_probability as tfp"
   ]
  },
  {
   "cell_type": "markdown",
   "metadata": {},
   "source": [
    "Modelo meteorológico\n",
    "\n",
    "Retirado diretamente da documentação do TensorFlow\n",
    "(https://www.tensorflow.org/probability/api_docs/python/tfp/distributions/Hidden MarkovModel).\n",
    "\n",
    "Modelaremos um sistema meteorológico simples e tentaremos prever a temperatura de cada dia com base nas informações a seguir.\n",
    "\n",
    "1. Os dias frios são codificados por 0 e os dias quentes são codificados por 1. \n",
    "2. O primeiro dia da nossa sequência tem 80% de chance de ser frio. \n",
    "3. Um dia frio tem 30% de chance de ser seguido por um dia quente.\n",
    "4. Um dia quente tem 20% de chance de ser seguido por um dia frio.\n",
    "5. Em cada dia a temperatura tem distribuição normal com média e desvio padrão 0 e 5 em um dia frio e média e desvio padrão 15 e 10 em um dia quente.\n",
    "\n",
    "Se você não estiver familiarizado com o desvio padrão, ele pode ser expresso simplesmente como o intervalo de valores esperados.\n",
    "\n",
    "Neste exemplo, em um dia quente a temperatura média é 15 e varia de 5 a 25.\n",
    "\n",
    "Para modelar isso no TensorFlow, faremos o seguinte."
   ]
  },
  {
   "cell_type": "code",
   "execution_count": 17,
   "metadata": {},
   "outputs": [],
   "source": [
    "tfd = tfp.distributions #cria um atalho para mais tarde\n",
    "initial_distribution = tfd.Categorical(probs=[0.8,0.2]) #refere-se ao item 2 a cima\n",
    "transition_distribution = tfd.Categorical(probs=[[0.7,0.3],[0.2,0.8]]) # refere-se aos itens 3 e 4 a cima\n",
    "\n",
    "observation_distribution = tfd.Normal(loc=[0.,15.], scale=[5.,10.]) #refere-se ao item 5 a cima"
   ]
  },
  {
   "cell_type": "markdown",
   "metadata": {},
   "source": [
    "Agora criamos variáveis ​​de distribuição para modelar nosso sistema e é hora de criar o modelo de Markov oculto."
   ]
  },
  {
   "cell_type": "code",
   "execution_count": 18,
   "metadata": {},
   "outputs": [],
   "source": [
    "model = tfd.HiddenMarkovModel(\n",
    "    initial_distribution=initial_distribution,\n",
    "    transition_distribution=transition_distribution,\n",
    "    observation_distribution=observation_distribution,\n",
    "    num_steps=7) #o steps define quantos dias queremos prever"
   ]
  },
  {
   "cell_type": "code",
   "execution_count": 22,
   "metadata": {},
   "outputs": [
    {
     "name": "stdout",
     "output_type": "stream",
     "text": [
      "[3.       6.       7.5      8.25     8.625001 8.812501 8.90625 ]\n"
     ]
    }
   ],
   "source": [
    "mean = model.mean()\n",
    "\n",
    "# devido à forma como o TensorFlow funciona em um nível inferior, precisamos avaliar parte do gráfico\n",
    "# de dentro de uma sessão para ver o valor deste tensor\n",
    "\n",
    "# na nova versão do tensorflow, precisamos usar tf.compat.v1.Session() em vez de apenas tf.Session()\n",
    "\n",
    "with tf.compat.v1.Session() as sess:\n",
    "    print(mean.numpy())"
   ]
  },
  {
   "cell_type": "markdown",
   "metadata": {},
   "source": [
    "### Conclusão\n",
    "\n",
    "Então é isso para os principais algoritmos de aprendizagem do TensorFlow. Esperamos que você tenha aprendido algumas ferramentas interessantes que são muito fáceis de usar! Para praticar, recomendo que você experimente alguns desses algoritmos em diferentes conjuntos de dados."
   ]
  }
 ],
 "metadata": {
  "kernelspec": {
   "display_name": "Python 3",
   "language": "python",
   "name": "python3"
  },
  "language_info": {
   "codemirror_mode": {
    "name": "ipython",
    "version": 3
   },
   "file_extension": ".py",
   "mimetype": "text/x-python",
   "name": "python",
   "nbconvert_exporter": "python",
   "pygments_lexer": "ipython3",
   "version": "3.9.6"
  }
 },
 "nbformat": 4,
 "nbformat_minor": 2
}
