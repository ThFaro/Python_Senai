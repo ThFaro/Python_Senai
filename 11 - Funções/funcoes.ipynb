{
 "cells": [
  {
   "cell_type": "code",
   "execution_count": 3,
   "metadata": {},
   "outputs": [
    {
     "name": "stdout",
     "output_type": "stream",
     "text": [
      "Bloco de codigo\n",
      "Bloco de codigo\n",
      "Bloco de codigo\n",
      "Bloco de codigo\n"
     ]
    }
   ],
   "source": [
    "def funcao():\n",
    "    print('Bloco de codigo')\n",
    "\n",
    "funcao()\n",
    "funcao()\n",
    "funcao()\n",
    "funcao()"
   ]
  },
  {
   "cell_type": "code",
   "execution_count": 14,
   "metadata": {},
   "outputs": [
    {
     "name": "stdout",
     "output_type": "stream",
     "text": [
      "O nome é José, e a idade é 45 anos.\n"
     ]
    }
   ],
   "source": [
    "def funcao(nome,idade):\n",
    "    print(f'O nome é {nome}, e a idade é {idade} anos.')\n",
    "\n",
    "funcao('José',45)\n"
   ]
  },
  {
   "cell_type": "code",
   "execution_count": 18,
   "metadata": {},
   "outputs": [
    {
     "name": "stdout",
     "output_type": "stream",
     "text": [
      "None\n",
      "\n",
      "5\n",
      "\n",
      "5\n"
     ]
    }
   ],
   "source": [
    "# exemplo sem return\n",
    "\n",
    "def maisDois(numero):\n",
    "    numero + 2\n",
    "\n",
    "print(maisDois(3))\n",
    "print()\n",
    "\n",
    "# exemplos com return\n",
    "\n",
    "def maisDois(numero):\n",
    "   \n",
    "   soma = numero + 2\n",
    "   return soma\n",
    "\n",
    "print(maisDois(3))\n",
    "print()\n",
    "\n",
    "def maisDois(numero):\n",
    "   \n",
    "    return numero + 2\n",
    "\n",
    "print(maisDois(3))\n"
   ]
  },
  {
   "cell_type": "code",
   "execution_count": 19,
   "metadata": {},
   "outputs": [
    {
     "name": "stdout",
     "output_type": "stream",
     "text": [
      "5\n",
      "2 + 3 = 5\n"
     ]
    }
   ],
   "source": [
    "def soma(a,b):\n",
    "    \n",
    "    return a+b\n",
    "\n",
    "n1 = 2\n",
    "n2 = 3\n",
    "\n",
    "print(soma(n1,n2))\n",
    "print(f'{n1} + {n2} = {soma(n1,n2)}')"
   ]
  },
  {
   "cell_type": "code",
   "execution_count": 23,
   "metadata": {},
   "outputs": [
    {
     "name": "stdout",
     "output_type": "stream",
     "text": [
      "O número 10 é par.\n"
     ]
    }
   ],
   "source": [
    "x = int(input(\"Digite un número: \"))\n",
    "\n",
    "def parOuImpar(x):\n",
    "\n",
    "    if x % 2 == 0:\n",
    "        return f'O número {x} é par.'\n",
    "    \n",
    "    else:\n",
    "        return f'O número {x} é ímpar.'\n",
    "    \n",
    "print(parOuImpar(x))"
   ]
  },
  {
   "cell_type": "code",
   "execution_count": 13,
   "metadata": {},
   "outputs": [
    {
     "name": "stdout",
     "output_type": "stream",
     "text": [
      "(4.0, 8)\n"
     ]
    }
   ],
   "source": [
    "def operacao(x,y):\n",
    "\n",
    "    soma = x+y\n",
    "    media = soma/2\n",
    "    return media,soma\n",
    "\n",
    "print(operacao(3,5))\n",
    "\n"
   ]
  },
  {
   "cell_type": "code",
   "execution_count": 6,
   "metadata": {},
   "outputs": [
    {
     "name": "stdout",
     "output_type": "stream",
     "text": [
      "8\n"
     ]
    }
   ],
   "source": [
    "def somar(x,y):\n",
    "\n",
    "    return x+y\n",
    "\n",
    "print(somar (y=5,x=3))"
   ]
  }
 ],
 "metadata": {
  "kernelspec": {
   "display_name": "Python 3",
   "language": "python",
   "name": "python3"
  },
  "language_info": {
   "codemirror_mode": {
    "name": "ipython",
    "version": 3
   },
   "file_extension": ".py",
   "mimetype": "text/x-python",
   "name": "python",
   "nbconvert_exporter": "python",
   "pygments_lexer": "ipython3",
   "version": "3.11.2"
  },
  "orig_nbformat": 4
 },
 "nbformat": 4,
 "nbformat_minor": 2
}
