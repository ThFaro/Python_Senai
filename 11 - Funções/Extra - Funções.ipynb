{
 "cells": [
  {
   "cell_type": "markdown",
   "id": "e18376ba-7875-4414-ab0d-d1900316a5d9",
   "metadata": {
    "tags": []
   },
   "source": [
    "# <font color='OrangeRed'><center>Extra - Funções</center></font>"
   ]
  },
  {
   "cell_type": "markdown",
   "id": "095be461-7c86-4d0e-b75f-bf3dd1a3fc97",
   "metadata": {},
   "source": [
    "### Exercício 01\n",
    "\n",
    "Crie uma função que receba um número inteiro positivo como parâmetro e em seguida retorne o número inteiro invertido.\n",
    "\n",
    "**Entrada:**  \n",
    "_123456789_  \n",
    "\n",
    "**Saída:**  \n",
    "_987654321_  \n",
    "\n",
    "**Dica:**  \n",
    "_Uma das possíveis formas de se resolver é convertendo o número para string_"
   ]
  },
  {
   "cell_type": "code",
   "execution_count": 3,
   "id": "5a6d183b-b7bd-4d42-9f5a-f3a8d1937b24",
   "metadata": {},
   "outputs": [
    {
     "name": "stdout",
     "output_type": "stream",
     "text": [
      "Os números digitados foram 1234567890. a inversão deles é 0987654321\n"
     ]
    }
   ],
   "source": [
    "numeros = input(\"Digite 10 números: \")\n",
    "\n",
    "def inversao(numeros):\n",
    "\n",
    "    inverso = numeros[::-1]\n",
    "\n",
    "    return f'Os números digitados foram {numeros}. a inversão deles é {inverso}'\n",
    "\n",
    "print (inversao(numeros))\n",
    "\n"
   ]
  },
  {
   "cell_type": "markdown",
   "id": "3654553c-c0d5-4939-b9c9-694283c86f54",
   "metadata": {},
   "source": [
    "---"
   ]
  },
  {
   "cell_type": "markdown",
   "id": "0e29d754-28ce-45e4-9794-8a03a9e7fbe6",
   "metadata": {},
   "source": [
    "### Exercício 02\n",
    "\n",
    "Crie uma função que receba três números como parâmetro, sendo **dia**, **mês** e **ano** e em seguida retorne a data por extenso, por exemplo:\n",
    "\n",
    "**Entrada:**  \n",
    "_20/01/2010_\n",
    "\n",
    "**Saída:**  \n",
    "_20 de Janeiro de 2010_"
   ]
  },
  {
   "cell_type": "code",
   "execution_count": 10,
   "id": "db7a688a-0562-40fd-9315-10ca15bf3b5d",
   "metadata": {},
   "outputs": [
    {
     "name": "stdout",
     "output_type": "stream",
     "text": [
      "Hoje é dia 10 de Dezembro de 1999\n"
     ]
    }
   ],
   "source": [
    "n1 = input(\"Digite o dia: \")\n",
    "n2 = input(\"Digite mes: \")\n",
    "n3 = input(\"Digite o ano: \")\n",
    "\n",
    "def data(n1,n2,n3):\n",
    "    meses = ['Janeiro', 'Fevereiro', 'Março','Abril', 'Maio', 'Junho', 'Julho', 'Agosto', 'Setembro', 'Outubro', 'Novembro', 'Dezembro']\n",
    "\n",
    "    if n2 == \"1\" or  n2 == \"01\":\n",
    "        return f'Hoje é dia {n1} de {meses[0]} de {n3}'\n",
    "    \n",
    "    elif n2 == \"2\" or n2 == \"02\":\n",
    "        return f'Hoje é dia {n1} de {meses[1]} de {n3}'\n",
    "    \n",
    "    elif n2 == \"3\" or n2 == \"03\":\n",
    "        return f'Hoje é dia {n1} de {meses[2]} de {n3}'\n",
    "    \n",
    "    elif n2 == \"4\" or n2 == \"04\":\n",
    "        return f'Hoje é dia {n1} de {meses[3]} de {n3}'\n",
    "    \n",
    "    elif n2 == \"5\" or n2 == \"05\":\n",
    "        return f'Hoje é dia {n1} de {meses[4]} de {n3}'\n",
    "    \n",
    "    elif n2 == \"6\" or n2 == \"06\":\n",
    "        return f'Hoje é dia {n1} de {meses[5]} de {n3}'\n",
    "    \n",
    "    elif n2 == \"7\" or n2 == \"07\":\n",
    "        return f'Hoje é dia {n1} de {meses[6]} de {n3}'\n",
    "    \n",
    "    elif n2 == \"8\" or n2 == \"08\":\n",
    "        return f'Hoje é dia {n1} de {meses[7]} de {n3}'\n",
    "    \n",
    "    elif n2 == \"9\" or n2 == \"09\":\n",
    "        return f'Hoje é dia {n1} de {meses[8]} de {n3}'\n",
    "   \n",
    "    elif n2 == \"10\":\n",
    "        return f'Hoje é dia {n1} de {meses[9]} de {n3}'\n",
    "    \n",
    "    elif n2 == \"11\":\n",
    "        return f'Hoje é dia {n1} de {meses[10]} de {n3}'\n",
    "    \n",
    "    elif n2 == \"12\":\n",
    "        return f'Hoje é dia {n1} de {meses[11]} de {n3}'\n",
    "    \n",
    "    else:\n",
    "\n",
    "        return 'Data inválida.'\n",
    "    \n",
    "print(data(n1,n2,n3))\n",
    "\n",
    "\n"
   ]
  },
  {
   "cell_type": "markdown",
   "id": "1ed3356f-194a-4f23-af99-9116d9ecb4a9",
   "metadata": {},
   "source": [
    "---"
   ]
  },
  {
   "cell_type": "markdown",
   "id": "880f0949-1c7d-4805-920d-eec5bde9fe6c",
   "metadata": {},
   "source": [
    "### Exercício 03\n",
    "\n",
    "Crie uma função que receba uma lista de números como parâmetro e dentro dela imprima todas as informações abaixo:\n",
    "\n",
    "* Imprima o maior número da lista\n",
    "* Imprima o menor número da lista\n",
    "* Imprima a média dos números da lista\n",
    "\n",
    "**A lista de números deve ser criada por você.**"
   ]
  },
  {
   "cell_type": "code",
   "execution_count": 11,
   "id": "dcb7b150-ae6b-4314-910c-8e9b3708adcb",
   "metadata": {
    "tags": []
   },
   "outputs": [
    {
     "name": "stdout",
     "output_type": "stream",
     "text": [
      "O maior número da lista é: 80\n",
      "O menor número da lista é: 10\n",
      "A média dos números é: 38.333333333333336\n",
      "        \n"
     ]
    }
   ],
   "source": [
    "def operacao():\n",
    "\n",
    "    numeros = []\n",
    "\n",
    "    while len(numeros) < 6:\n",
    "        \n",
    "        entrada = int(input(\"Digite um numero: \"))\n",
    "\n",
    "        numeros.append(entrada)\n",
    "        numeros.sort()\n",
    "\n",
    "    media = sum(numeros)/len(numeros)\n",
    "    maior = numeros[-1]\n",
    "    menor = numeros[0]\n",
    "\n",
    "    return f'''O maior número da lista é: {maior}\n",
    "O menor número da lista é: {menor}\n",
    "A média dos números é: {media}\n",
    "        '''\n",
    "\n",
    "print(operacao())\n",
    "\n",
    "\n",
    "\n"
   ]
  },
  {
   "cell_type": "markdown",
   "id": "8256c385-dfb8-4cd5-ab46-b3156b587f12",
   "metadata": {},
   "source": [
    "---"
   ]
  },
  {
   "cell_type": "markdown",
   "id": "d7d7dbd9-996e-4992-a233-0fd83db761df",
   "metadata": {},
   "source": [
    "### Exercício 04\n",
    "\n",
    "Crie uma função que receba um ano como parâmetro e em seguida retorne se é ou não é um ano bissexto:\n",
    "\n",
    "* O ano é bissexto quando:\n",
    "    * ( Se for divisível por 4 **E** não pode ser divisível por 100 ) **OU** ( Se o for divisível por 400 )"
   ]
  },
  {
   "cell_type": "code",
   "execution_count": 18,
   "id": "7ec4c171-01dc-45fd-9ebb-7d8c03c00f24",
   "metadata": {
    "tags": []
   },
   "outputs": [
    {
     "name": "stdout",
     "output_type": "stream",
     "text": [
      "O ano de 1601 não é bisexto.\n"
     ]
    }
   ],
   "source": [
    "ano = int(input(\"Digite um ano e descubra se ele é bisexto: \"))\n",
    "\n",
    "def tipo_ano(ano):\n",
    "\n",
    "    if ano%4 == 0 and ano/100>=1 or ano % 400 == 0: \n",
    "\n",
    "        return f'O ano de {ano} é bisexto.'\n",
    "    else:\n",
    "\n",
    "        return f'O ano de {ano} não é bisexto.'\n",
    "    \n",
    "print(tipo_ano(ano))\n",
    "\n",
    "\n"
   ]
  },
  {
   "cell_type": "markdown",
   "id": "da00998b-5ecf-414f-962d-671828e7a6ba",
   "metadata": {},
   "source": [
    "---"
   ]
  },
  {
   "cell_type": "markdown",
   "id": "0d083213-5594-41a2-948c-701f9bcedc10",
   "metadata": {},
   "source": [
    "### Exercício 05\n",
    "\n",
    "Crie uma função que receba um número inteiro como parâmetro e que retorne a quantidade de dígitos do número informado. Exemplo:\n",
    "\n",
    "**Entrada:**  \n",
    "_5678_\n",
    "\n",
    "**Saída:**  \n",
    "_4 Dígitos_"
   ]
  },
  {
   "cell_type": "code",
   "execution_count": 21,
   "id": "b1e26655-9d38-49c7-bdf4-7df6d5dffe58",
   "metadata": {
    "tags": []
   },
   "outputs": [
    {
     "name": "stdout",
     "output_type": "stream",
     "text": [
      "O número digitado tem 4 digitos.\n"
     ]
    }
   ],
   "source": [
    "numero = input(\"Digite um numero qualquer: \")\n",
    "\n",
    "def contagem(numero):\n",
    "\n",
    "    resultado = len(numero)\n",
    "\n",
    "    return f\"O número digitado tem {resultado} digitos.\"\n",
    "\n",
    "print(contagem(numero))\n",
    "\n"
   ]
  },
  {
   "cell_type": "markdown",
   "id": "2bf8aff0-ea88-4ba8-97b4-966eeab5d1ff",
   "metadata": {},
   "source": [
    "---"
   ]
  },
  {
   "cell_type": "markdown",
   "id": "ce6c8b76-a480-4d71-ab78-13c7fd428ee7",
   "metadata": {},
   "source": [
    "### Exercício 06\n",
    "\n",
    "Crie uma função que receba dois textos como parâmetro e em seguida retorne qual dos textos possui mais caracteres ou se eles possuem o mesmo tamanho."
   ]
  },
  {
   "cell_type": "code",
   "execution_count": 24,
   "id": "ce46f145-583e-468b-b965-343cc8aec987",
   "metadata": {
    "tags": []
   },
   "outputs": [
    {
     "name": "stdout",
     "output_type": "stream",
     "text": [
      "O texto 2 é maior que o texto 1\n"
     ]
    }
   ],
   "source": [
    "texto1 = input(\"Digite o primeiro texto: \")\n",
    "texto2 = input(\"Digite o segundo texto: \")\n",
    "\n",
    "def contagem(texto1,texto2):\n",
    "\n",
    "    if len(texto1) > len(texto2):\n",
    "        return 'O texto 1 é maior que o texto 2'\n",
    "    \n",
    "    elif len(texto1) < len(texto2):\n",
    "        return 'O texto 2 é maior que o texto 1'\n",
    "    else:\n",
    "        return 'Ambos os textos possuem o mesmo tamanho.'\n",
    "    \n",
    "print(contagem(texto1,texto2))\n",
    "\n"
   ]
  },
  {
   "cell_type": "markdown",
   "id": "cbab5186-5efb-40ec-b8f4-6ea82b93a8ea",
   "metadata": {},
   "source": [
    "---"
   ]
  },
  {
   "cell_type": "markdown",
   "id": "81b610ee-fada-408f-99ae-107ffb641d64",
   "metadata": {},
   "source": [
    "### Exercício 07\n",
    "\n",
    "Crie uma função que receba um número de celular e retorne se é um número válido ou não. Para um número ser considerado válido ele precisa atender os requisitos abaixo:\n",
    "\n",
    "* O 1º dígito do número do celular deve iniciar com o dígito 9\n",
    "* O número do celular informado deve conter 9 dígitos no total\n",
    "* Os 9 dígitos precisam ser valores numéricos"
   ]
  },
  {
   "cell_type": "code",
   "execution_count": 9,
   "id": "e98f6f71-8311-4472-aacf-536efb923964",
   "metadata": {
    "tags": []
   },
   "outputs": [
    {
     "name": "stdout",
     "output_type": "stream",
     "text": [
      "Número inválido.\n"
     ]
    }
   ],
   "source": [
    "celular = input(\"Digite seu celuar: \")\n",
    "def verificacao(celular):\n",
    "\n",
    "    if celular.startswith(\"9\") and len(celular) == 9 and celular.isalnum():\n",
    "        return f'O celular {celular} é um número válido.'\n",
    "    else:\n",
    "        return 'Número inválido.'\n",
    "print(verificacao(celular))\n",
    "\n",
    "\n"
   ]
  },
  {
   "cell_type": "markdown",
   "id": "b17361a0-11ac-4ee3-b466-e60c3db72c9c",
   "metadata": {},
   "source": [
    "---"
   ]
  },
  {
   "cell_type": "markdown",
   "id": "fec04f28-2a2e-4b29-905c-ff7e0ebe0788",
   "metadata": {},
   "source": [
    "### Exercício 08\n",
    "\n",
    "Crie uma função que receba o valor de um salário bruto como parâmetro e em seguida retorne o salário líquido, sendo:\n",
    "\n",
    "* **Vale-Transporte**: Desconto 6% em cima do valor do salário bruto\n",
    "* **INSS**: Desconto 8% em cima do valor do salário bruto\n",
    "* **Adiantamento**: Desconto 30% em cima do valor do salário bruto"
   ]
  },
  {
   "cell_type": "code",
   "execution_count": 13,
   "id": "b79a8531-1a0d-4349-95a3-82ddb3092336",
   "metadata": {
    "tags": []
   },
   "outputs": [
    {
     "name": "stdout",
     "output_type": "stream",
     "text": [
      " \n",
      "    \n",
      "SALÁRIO BRUTO = R$ 3500.0\n",
      "___________________________\n",
      "\n",
      "      DESCONTOS\n",
      "\n",
      "VALE TRANSPORTE =  R$ 210.0\n",
      "INSS =  R$ 280.0\n",
      "ADIANTAMENTO =  R$ 1050.0\n",
      "____________________________\n",
      "\n",
      "TOTAL = R$ 1960.0\n",
      "\n",
      "\n"
     ]
    }
   ],
   "source": [
    "bruto = float(input(\"Qual o seu salario bruto: \"))\n",
    "\n",
    "def liquido(bruto):\n",
    "    \n",
    "    vt = bruto*0.06\n",
    "    inss = bruto*0.08\n",
    "    adiantamento = bruto*0.3\n",
    "\n",
    "    total = bruto - vt - inss - adiantamento\n",
    "\n",
    "    return f''' \n",
    "\n",
    "SALÁRIO BRUTO = R$ {bruto}\n",
    "___________________________\n",
    "\n",
    "      DESCONTOS\n",
    "\n",
    "VALE TRANSPORTE =  R$ {vt}\n",
    "INSS =  R$ {inss}\n",
    "ADIANTAMENTO =  R$ {adiantamento}\n",
    "____________________________\n",
    "\n",
    "TOTAL = R$ {total}\n",
    "\n",
    "'''\n",
    "\n",
    "print(liquido(bruto))\n",
    "\n"
   ]
  },
  {
   "cell_type": "markdown",
   "id": "c7323597-b2c4-4022-8f82-75335db792ae",
   "metadata": {},
   "source": [
    "---"
   ]
  },
  {
   "cell_type": "markdown",
   "id": "8cd1d8aa-ee77-4c8b-a2d0-590b7067805c",
   "metadata": {},
   "source": [
    "### Exercício 09\n",
    "\n",
    "Crie uma função que receba o nome de um mês e retorne o nome do mês abreviado e com letras em caixa alta, por exemplo:\n",
    "\n",
    "**Exemplos:**  \n",
    "_Janeiro -> JAN_  \n",
    "_fevereiro -> FEV_  \n",
    "_maRço -> MAR_  \n",
    "_AbriL -> ABR_  "
   ]
  },
  {
   "cell_type": "code",
   "execution_count": 21,
   "id": "16226cda-092e-4a98-9db2-12ddf73e61e2",
   "metadata": {
    "tags": []
   },
   "outputs": [
    {
     "name": "stdout",
     "output_type": "stream",
     "text": [
      "MÊS INVÁLIDO.\n"
     ]
    }
   ],
   "source": [
    "mes = input(\"Digite o nome por extenso de um mês: \")\n",
    "meses = ['janeiro', 'fevereiro', 'março','abril', 'maio', 'junho', 'julho', 'agosto', 'setembro', 'outubro', 'novembro', 'dezembro']\n",
    "\n",
    "def abreviacao(mes):\n",
    "    \n",
    "    if mes in meses:\n",
    "        \n",
    "        return f\" O mês escolhido foi {mes}. Sua abreviação é {mes[0:3]}.\"\n",
    "    \n",
    "    else:\n",
    "\n",
    "        return 'Mês inválido.'\n",
    "\n",
    "print(abreviacao(mes).upper())\n",
    "\n"
   ]
  },
  {
   "cell_type": "markdown",
   "id": "6d3a0b54-742d-41f4-9c7e-0286d9487a4e",
   "metadata": {},
   "source": [
    "---"
   ]
  },
  {
   "cell_type": "markdown",
   "id": "8b7bdc8b-d12b-411f-8575-2ca9bccaedf0",
   "metadata": {},
   "source": [
    "### Exercício 10\n",
    "\n",
    "Crie uma lista contendo no mínimo 3 itens aleatórios, em seguida crie uma função que receba a lista criada como parâmetro e que retorne a quantidade total de caracteres de todos os itens da lista, exemplo:\n",
    "\n",
    "**Entrada:**  \n",
    "_['aaa', 'bbb', 'ccc']_\n",
    "\n",
    "**Saída:**  \n",
    "_9 caracteres_"
   ]
  },
  {
   "cell_type": "code",
   "execution_count": 33,
   "id": "2cb2ada5-1324-4150-98c0-64e2d2382bec",
   "metadata": {
    "tags": []
   },
   "outputs": [
    {
     "name": "stdout",
     "output_type": "stream",
     "text": [
      "A lista criada foi: ['aaa', 'aaa', 'aaa']. Ela tem o total de 9 caracteres.\n"
     ]
    }
   ],
   "source": [
    "lista = []\n",
    "\n",
    "def contagem():\n",
    "    while len(lista) < 3:\n",
    "        itens = input(\"Digite um item aleatório: \")\n",
    "        lista.append(itens)\n",
    "\n",
    "    total_caracteres = sum(len(item) for item in lista)\n",
    "    \n",
    "    return f'A lista criada foi: {lista}. Ela tem o total de {total_caracteres} caracteres.'\n",
    "\n",
    "print(contagem())\n",
    "\n"
   ]
  },
  {
   "cell_type": "markdown",
   "id": "813de299-30ec-4a02-ae2c-e5522192988e",
   "metadata": {},
   "source": [
    "---"
   ]
  },
  {
   "cell_type": "markdown",
   "id": "359fdca0-8af1-4a7c-9975-78879441dd94",
   "metadata": {},
   "source": [
    "### Exercício 11\n",
    "\n",
    "_O etanol vale a pena quando custar até 70% do valor da gasolina._\n",
    "\n",
    "Dado a afirmação acima, crie uma função que receba 2 dois parâmetros, o preço da gasolina e o preço do etanol, e que retorne qual combustível é mais vantajoso."
   ]
  },
  {
   "cell_type": "code",
   "execution_count": 37,
   "id": "1fd7363a-2008-42c3-a691-3d79db77b951",
   "metadata": {},
   "outputs": [
    {
     "name": "stdout",
     "output_type": "stream",
     "text": [
      "' \n",
      "        Preço do alcool: R$ 3.64\n",
      "        Preço do gasolina: R$ 5.63\n",
      "        Diferença: 0.65\n",
      "        _______________________________\n",
      "\n",
      "        RESULTADO: O ALCOOL ESTÁ VALENDO MAIS A PENA\n",
      "        \n"
     ]
    }
   ],
   "source": [
    "alcool = float(input('Qual o preço atual do etanol: '))\n",
    "gasolina = float(input('Qual o preço atual da gasolina: '))\n",
    "\n",
    "def valor (alcool,gasolina):\n",
    "\n",
    "    diferenca = alcool/gasolina\n",
    "    \n",
    "    if diferenca <= 0.7:\n",
    "        return f'''' \n",
    "        Preço do alcool: R$ {alcool:.2f}\n",
    "        Preço do gasolina: R$ {gasolina:.2f}\n",
    "        Diferença: {diferenca:.2f}\n",
    "        _______________________________\n",
    "\n",
    "        RESULTADO: O ALCOOL ESTÁ VALENDO MAIS A PENA\n",
    "        '''''\n",
    "    \n",
    "    else:\n",
    "                return f'''' \n",
    "        Preço do alcool: R$ {alcool:.2f}\n",
    "        Preço do gasolina: R$ {gasolina:.2f}\n",
    "        Diferença: {diferenca:.2f}\n",
    "        _______________________________\n",
    "\n",
    "        RESULTADO: A GASOLINA ESTÁ VALENDO MAIS A PENA\n",
    "        '''''\n",
    "print(valor(alcool,gasolina))\n",
    "\n"
   ]
  },
  {
   "cell_type": "markdown",
   "id": "bd662e89-5a3f-48cf-af0f-18495ec4ebc0",
   "metadata": {},
   "source": [
    "---"
   ]
  },
  {
   "cell_type": "markdown",
   "id": "0526ef08-73a8-4356-b079-fce5ab0c24e6",
   "metadata": {},
   "source": [
    "### Exercício 12\n",
    "\n",
    "Faça um algoritmo para contalizar os gastos do usuário, para isso crie uma variável **total** com o valor igual a 0 e em seguida crie um laço while com a condição verdadeira, exemplo:\n",
    "\n",
    "```python\n",
    "while True:\n",
    "```\n",
    "\n",
    "Dentro do laço peça para o usuário digitar um **código** entre 0 a 5, em seguida crie a condição abaixo:\n",
    "\n",
    "| Código | Doces | Preço |\n",
    "|:------:|:-----:|:-----:|\n",
    "| 0 | --- | Break - Sair do loop |\n",
    "| 1 | Brigadeiro | 32.00 |\n",
    "| 2 | Brigadeiro Branco | 33.00 |\n",
    "| 3 | Beijinho | 35.00 |\n",
    "| 4 | Casadinho | 34.00 |\n",
    "| 5 | Napolitano | 36.00 |\n",
    "\n",
    "Cada vez que o usuário digitar um código entre 1 a 5 adicione o valor do **preço** a variável **total**\n",
    "\n",
    "Por fim, imprima o valor da variável **total**"
   ]
  },
  {
   "cell_type": "code",
   "execution_count": 42,
   "id": "885d5feb-2bbd-4b75-a015-3c02d6b5f643",
   "metadata": {},
   "outputs": [
    {
     "name": "stdout",
     "output_type": "stream",
     "text": [
      "Brigadeiro adicionado ao carrinho\n",
      "\n",
      "Brigadeiro Branco adicionado ao carrinho\n",
      "\n",
      "Beijinho adicionado ao carrinho\n",
      "\n",
      "Casadinho adicionado ao carrinho\n",
      "\n",
      "Napolitano adicionado ao carrinho\n",
      "\n",
      "Opção inválida. Por favor escolha uma das opções do menu!\n",
      "\n",
      "Fechando a compra...\n",
      "\n",
      "O total da compra foi de R$ 170.\n"
     ]
    }
   ],
   "source": [
    "total = 0\n",
    "\n",
    "def contas(total):\n",
    "\n",
    "    while True:\n",
    "\n",
    "        menu = int(input(\"\"\"\n",
    "        QUAL DOCE VOCÊ QUER ADICIONAR AO CARRINHO:\n",
    "        1- BRIGADEIRO = R$ 32.00\n",
    "        2- BRIGADEIRO  BRANCO = R$ 33.00\n",
    "        3- BEIJINHO = R$ 35.00\n",
    "        4- CASADINHO = R$ 34.00\n",
    "        5- NAPOLITANO = R$ 36.00\n",
    "        0-FINALIZAR COMPRA\n",
    "        \"\"\"))\n",
    "\n",
    "        if menu == 1:\n",
    "            total+= 32\n",
    "            print(\"Brigadeiro adicionado ao carrinho\")\n",
    "            print()\n",
    "\n",
    "        elif menu == 2:\n",
    "            total+= 33\n",
    "            print(\"Brigadeiro Branco adicionado ao carrinho\")\n",
    "            print()\n",
    "\n",
    "        elif menu == 3:\n",
    "            total+= 35\n",
    "            print(\"Beijinho adicionado ao carrinho\")\n",
    "            print()\n",
    "\n",
    "        elif menu == 4:\n",
    "            total+= 34\n",
    "            print(\"Casadinho adicionado ao carrinho\")\n",
    "            print()\n",
    "        \n",
    "        elif menu == 5:\n",
    "            total+= 36\n",
    "            print(\"Napolitano adicionado ao carrinho\")\n",
    "            print()\n",
    "        \n",
    "        elif menu == 0:\n",
    "            print(\"Fechando a compra...\")\n",
    "            print()\n",
    "            break\n",
    "        \n",
    "\n",
    "        else:\n",
    "            print(\"Opção inválida. Por favor escolha uma das opções do menu!\")\n",
    "            print()\n",
    "            \n",
    "    return total\n",
    "\n",
    "print(f\"O total da compra foi de R$ {contas(total)}.\")\n",
    "\n",
    "\n"
   ]
  },
  {
   "cell_type": "markdown",
   "id": "6758c48f-0e8a-42e5-aef2-ecf9e75e9fa8",
   "metadata": {},
   "source": [
    "---"
   ]
  }
 ],
 "metadata": {
  "kernelspec": {
   "display_name": "Python 3 (ipykernel)",
   "language": "python",
   "name": "python3"
  },
  "language_info": {
   "codemirror_mode": {
    "name": "ipython",
    "version": 3
   },
   "file_extension": ".py",
   "mimetype": "text/x-python",
   "name": "python",
   "nbconvert_exporter": "python",
   "pygments_lexer": "ipython3",
   "version": "3.11.2"
  }
 },
 "nbformat": 4,
 "nbformat_minor": 5
}
