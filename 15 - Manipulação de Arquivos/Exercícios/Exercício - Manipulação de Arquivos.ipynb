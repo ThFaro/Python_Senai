{
 "cells": [
  {
   "attachments": {},
   "cell_type": "markdown",
   "id": "d50e46fc-9af0-4755-8b43-1ff1fba30b90",
   "metadata": {},
   "source": [
    "# <font color='Orange'><center>Exercícios - Manipulação de Arquivos</center></font>"
   ]
  },
  {
   "cell_type": "markdown",
   "id": "39986ecb-2e0e-4283-afe6-b07f9d36dca3",
   "metadata": {},
   "source": [
    "### Exercício 01\n",
    "\n",
    "Faça um programa que imprima o conteúdo do documento 'Exercício 01.txt'"
   ]
  },
  {
   "cell_type": "code",
   "execution_count": 40,
   "id": "e8d8f755-55c8-472f-9b47-1af76da222cf",
   "metadata": {},
   "outputs": [
    {
     "name": "stdout",
     "output_type": "stream",
     "text": [
      "Parábens, você conseguiu!\n"
     ]
    }
   ],
   "source": [
    "arquivo = open('Exerc¡cio 01.txt', encoding = 'utf-8')\n",
    "\n",
    "print(arquivo.read())\n",
    "\n",
    "arquivo.close()\n",
    "\n"
   ]
  },
  {
   "cell_type": "markdown",
   "id": "2f80e777-87ad-4962-9cbc-e34d32925bd6",
   "metadata": {},
   "source": [
    "---"
   ]
  },
  {
   "cell_type": "markdown",
   "id": "c8d2e8ea-b326-49cc-8e2f-1bbbebb53536",
   "metadata": {},
   "source": [
    "### Exercício 02\n",
    "\n",
    "Faça um programa que crie um arquivo chamado 'Exercício 02.txt' e dentro dele escreva o texto 'Arquivo de texto criado com Python'"
   ]
  },
  {
   "cell_type": "code",
   "execution_count": 41,
   "id": "1cec7b95-a891-465d-8322-ecc583890fba",
   "metadata": {},
   "outputs": [],
   "source": [
    "arquivo = open('Exercício 02.txt','w', encoding='utf-8')\n",
    "\n",
    "arquivo.write('Arquivo de texto cirado com Python')\n",
    "\n",
    "arquivo.close()\n",
    "\n"
   ]
  },
  {
   "cell_type": "markdown",
   "id": "19ef9ea8-5782-4ee5-baaf-e71d0918e832",
   "metadata": {},
   "source": [
    "---"
   ]
  },
  {
   "cell_type": "markdown",
   "id": "f8a2acd1-9508-4aec-965c-dd4739f26050",
   "metadata": {},
   "source": [
    "### Exercício 03\n",
    "\n",
    "Faça um programa que adicione mais linha no arquivo chamado 'Exercício 03.txt', primeiro pule uma uma linha e em seguida escreva o texto 'Mais um linha de texto adicionada.'"
   ]
  },
  {
   "cell_type": "code",
   "execution_count": 7,
   "id": "f74e6ca2-fab0-4913-9369-747149c5bca9",
   "metadata": {},
   "outputs": [],
   "source": [
    "arquivo = open('Exerc¡cio 03.txt','a', encoding='utf-8')\n",
    "\n",
    "arquivo.write('\\n')\n",
    "arquivo.write('Mais uma linha adicionada!')\n",
    "\n",
    "arquivo.close()"
   ]
  },
  {
   "cell_type": "markdown",
   "id": "2b812f07-2f64-415e-938c-fe7c4f4ccfc1",
   "metadata": {},
   "source": [
    "---"
   ]
  },
  {
   "cell_type": "markdown",
   "id": "57d53448-06e3-4ee6-a4a1-a432e8266226",
   "metadata": {},
   "source": [
    "### Exercício 04\n",
    "\n",
    "Faça um programa que crie um arquivo como o 'modo de abertura exclusivo' chamado 'Exercício 04.txt', dentro dele escreva o texto 'Arquivo de texto exclusivo.'.\n",
    "Após criado tente sobrescrevê-lo para conferir se a regra está sendo obedecida."
   ]
  },
  {
   "cell_type": "code",
   "execution_count": 1,
   "id": "46966e8e-196a-43e7-8e33-537322902a46",
   "metadata": {},
   "outputs": [],
   "source": [
    "arquivo = open('Exercício 04.txt','x', encoding='utf-8')\n",
    "\n",
    "arquivo.write('Arquivo de texto exclusivo!')\n",
    "\n",
    "arquivo.close()\n"
   ]
  },
  {
   "cell_type": "markdown",
   "id": "959c5125-2c51-4b98-8ca6-0b7df0613d17",
   "metadata": {},
   "source": [
    "---"
   ]
  },
  {
   "cell_type": "markdown",
   "id": "4fd3ab0e-b822-46f2-adaf-60a18510645a",
   "metadata": {},
   "source": [
    "### Exercício 05\n",
    "\n",
    "Faça um programa que imprima o conteúdo do documento 'Exercício 05.txt', o arquivo está dentro do diretório 'Pasta/Subpasta'"
   ]
  },
  {
   "cell_type": "code",
   "execution_count": 10,
   "id": "5eb54fa8-7543-4388-8cd8-cdebfcc06462",
   "metadata": {},
   "outputs": [
    {
     "name": "stdout",
     "output_type": "stream",
     "text": [
      "Parábens, você conseguiu!\n"
     ]
    }
   ],
   "source": [
    "arquivo = open('Pasta/Subpasta/Exerc¡cio 05.txt', encoding = 'utf-8')\n",
    "conteudo = arquivo.read()\n",
    "\n",
    "print(conteudo)\n",
    "\n",
    "arquivo.close()\n",
    "\n"
   ]
  },
  {
   "cell_type": "markdown",
   "id": "6c86bbcd-bb54-41cd-99d1-d01eda2a5fa1",
   "metadata": {},
   "source": [
    "---"
   ]
  },
  {
   "cell_type": "markdown",
   "id": "501457e0-4c7f-4cfb-9bb7-99a2113424fe",
   "metadata": {},
   "source": [
    "### Exercício 06\n",
    "\n",
    "Faça um programa que crie um arquivo chamado 'Exercício 06.txt' e dentro dele escreva o texto abaixo:\n",
    "\n",
    "```\n",
    "O curso de aperfeiçoamento profissional de Programação em Python tem por objetivo o desenvolvimento\n",
    "de competências relativas a programação utilizando codificações na linguagem Python com diferentes\n",
    "níveis de complexidade, seguindo manuais técnicos de boas práticas de programação.\n",
    "```"
   ]
  },
  {
   "cell_type": "code",
   "execution_count": 13,
   "id": "337b30fe-d3f5-44a3-a9d1-d64bf0d5532b",
   "metadata": {},
   "outputs": [],
   "source": [
    "arquivo = open(\"Exercício 06.txt\", 'w', encoding='utf-8')\n",
    "\n",
    "arquivo.write('''\n",
    "O curso de aperfeiçoamento profissional de Programação em Python tem por objetivo o desenvolvimento\n",
    "de competências relativas a programação utilizando codificações na linguagem Python com diferentes\n",
    "níveis de complexidade, seguindo manuais técnicos de boas práticas de programação.\n",
    "''')\n",
    "              \n",
    "arquivo.close()\n",
    "\n"
   ]
  },
  {
   "cell_type": "markdown",
   "id": "73ad8c55-2d37-431f-ab52-d12c3e24969a",
   "metadata": {},
   "source": [
    "---"
   ]
  },
  {
   "cell_type": "markdown",
   "id": "9ce6c532-137b-4e50-a0c1-af62db98eaca",
   "metadata": {
    "tags": []
   },
   "source": [
    "### Exercício 07\n",
    "\n",
    "Utilizando o 'modo de escrita', faça um programa que crie uma página web chamada 'Exercício 07.**html**' e dentro dele escreva o texto abaixo:\n",
    "\n",
    "```\n",
    "<!DOCTYPE html>\n",
    "<html>\n",
    "\n",
    "<head>\n",
    "<title>Minha página</title>\n",
    "</head>\n",
    "\n",
    "<body style=\"background-color:HoneyDew\">\n",
    "\n",
    "<h1>Bem-vindo à minha página Web!</h1>\n",
    "<p>Essa página foi criada com Python!</p>\n",
    "\n",
    "<h2>Links</h2>\n",
    "<p>Aqui está um link para a google: <a href=\"http://www.google.com.br\">Google</a></p>\n",
    "<p><i>Aperte 'Clique + Ctrl' em cima do link para abrir uma nova página</i></p>\n",
    "\n",
    "</body>\n",
    "</html>\n",
    "```"
   ]
  },
  {
   "cell_type": "code",
   "execution_count": 14,
   "id": "18b8b3e5-2f69-4f0c-a014-b080041617c5",
   "metadata": {},
   "outputs": [],
   "source": [
    "arquivo = open('Exercício 07.html', 'x', encoding='utf-8')\n",
    "\n",
    "arquivo.write(''' \n",
    "<!DOCTYPE html>\n",
    "<html>\n",
    "\n",
    "<head>\n",
    "<title>Minha página</title>\n",
    "</head>\n",
    "\n",
    "<body style=\"background-color:HoneyDew\">\n",
    "\n",
    "<h1>Bem-vindo à minha página Web!</h1>\n",
    "<p>Essa página foi criada com Python!</p>\n",
    "\n",
    "<h2>Links</h2>\n",
    "<p>Aqui está um link para a google: <a href=\"http://www.google.com.br\">Google</a></p>\n",
    "<p><i>Aperte 'Clique + Ctrl' em cima do link para abrir uma nova página</i></p>\n",
    "\n",
    "</body>\n",
    "</html>\n",
    "''')\n",
    "              \n",
    "arquivo.close()\n",
    "\n"
   ]
  },
  {
   "cell_type": "markdown",
   "id": "eb874dd7-b7a9-42fb-b524-01f6188a0a17",
   "metadata": {},
   "source": [
    "---"
   ]
  },
  {
   "cell_type": "markdown",
   "id": "ba68c9af-1506-45ea-858f-fa87d1947916",
   "metadata": {},
   "source": [
    "### Exercício 08\n",
    "\n",
    "Utilizando o 'modo de escrita', faça um programa que crie um arquivo CSV chamado 'Pessoas 09.**csv**' e dentro dele escreva o texto abaixo:\n",
    "\n",
    "```\n",
    "Nome,Idade\n",
    "Maria,45\n",
    "João,33\n",
    "Pedro,63\n",
    "Ana,21\n",
    "Bia,40\n",
    "Carlos,14\n",
    "```"
   ]
  },
  {
   "cell_type": "code",
   "execution_count": 15,
   "id": "2bb83505-9a45-4a3e-987c-4eb2f1c065bd",
   "metadata": {},
   "outputs": [],
   "source": [
    "arquivo = open(\"Pesosoa 09.csv\", 'w', encoding='utf-8')\n",
    "\n",
    "arquivo.write('''\n",
    "Nome,Idade\n",
    "Maria,45\n",
    "João,33\n",
    "Pedro,63\n",
    "Ana,21\n",
    "Bia,40\n",
    "Carlos,14\n",
    "''')\n",
    "              \n",
    "arquivo.close()\n",
    "\n"
   ]
  },
  {
   "cell_type": "markdown",
   "id": "ea2a6845-8fc8-41b7-a9a9-034266130951",
   "metadata": {},
   "source": [
    "---"
   ]
  },
  {
   "cell_type": "markdown",
   "id": "540ec96e-b0b9-4059-acd3-045cdd77fa52",
   "metadata": {},
   "source": [
    "### Exercício 09\n",
    "\n",
    "Faça um programa que adicione o conteúdo do arquivo 'Exercício 09a.txt' dentro do arquivo 'Exercício 09b.txt', para isso siga os passos abaixo:\n",
    "\n",
    "1. Abra o arquivo 'Exercício 09a.txt' em modo de leitura\n",
    "1. Salve o conteúdo do arquivo dentro de uma variável\n",
    "1. Feche o arquivo 'Exercício 09a.txt'\n",
    "1. Abra o arquivo 'Exercício 09b.txt' em modo de anexar\n",
    "1. Adicione o conteúdo da variável criada dentro do arquivo 'Exercício 09b.txt'\n",
    "1. Feche o arquivo 'Exercício 09b.txt'"
   ]
  },
  {
   "cell_type": "code",
   "execution_count": 18,
   "id": "4178f268-01a2-43bd-bb98-694ae7a22487",
   "metadata": {},
   "outputs": [],
   "source": [
    "arquivo = open('Exerc¡cio 09b.txt', 'a', encoding='utf-8')\n",
    "\n",
    "for linha in open('Exerc¡cio 09a.txt', encoding='utf-8'):\n",
    "    \n",
    "    arquivo.write('\\n')\n",
    "    arquivo.write(linha)\n",
    "\n",
    "arquivo.close()\n",
    "\n"
   ]
  },
  {
   "cell_type": "markdown",
   "id": "9ce5d322-e29b-4f2c-9def-6335f7bcb0be",
   "metadata": {},
   "source": [
    "---"
   ]
  },
  {
   "attachments": {},
   "cell_type": "markdown",
   "id": "8d3b3471-41f5-4379-b984-79477cf28b9d",
   "metadata": {},
   "source": [
    "### Exercício 10\n",
    "\n",
    "Faça um programa que copie o conteúdo de um arquivo .TXT e crie um novo arquivo no formavo .CSV com o conteúdo copiado, para isso siga os passos abaixo:\n",
    "\n",
    "1. Abra o arquivo 'Exercício 10.txt' em modo de leitura\n",
    "1. Salve o conteúdo do arquivo dentro de uma variável\n",
    "1. Feche o arquivo 'Exercício 10.txt'\n",
    "1. Crie um arquivo 'Exercício 10.csv' em modo de escrita\n",
    "1. Adicione o conteúdo da variável criada dentro do arquivo 'Exercício 10.csv'\n",
    "1. Feche o arquivo 'Exercício 10.csv'"
   ]
  },
  {
   "cell_type": "code",
   "execution_count": 19,
   "id": "aff4750b-12c1-4f2f-8d33-fd5c3ebfac00",
   "metadata": {
    "tags": []
   },
   "outputs": [],
   "source": [
    "arquivo = open('Exerc¡cio 10.csv', 'w', encoding='utf-8')\n",
    "\n",
    "for linha in open('Exerc¡cio 10.txt', encoding='utf-8'):\n",
    "\n",
    "    arquivo.write('\\n')\n",
    "    arquivo.write(linha)\n",
    "\n",
    "arquivo.close()\n"
   ]
  },
  {
   "cell_type": "markdown",
   "id": "3f4d6c1e-7360-4a8c-98d9-91fcdacd713f",
   "metadata": {},
   "source": [
    "---"
   ]
  },
  {
   "attachments": {},
   "cell_type": "markdown",
   "id": "0e324135-8185-490f-bede-a9e41b6e86e5",
   "metadata": {},
   "source": [
    "### Exercício 11\n",
    "\n",
    "Dado a planilha 'Exercício 11.csv' com os nomes dos participantes de um campeonato, abra a planilha em 'modo de leitura' e imprima o nome e a idade de cada um dos participantes, exemplo:\n",
    "\n",
    "**Saída esperada:**  \n",
    "Nome - Idade  \n",
    "Fernando - 5  \n",
    "Bruna - 7  \n",
    "..."
   ]
  },
  {
   "cell_type": "code",
   "execution_count": 2,
   "id": "3790c367-a6ca-437a-8075-3254303c25f9",
   "metadata": {
    "tags": []
   },
   "outputs": [
    {
     "name": "stdout",
     "output_type": "stream",
     "text": [
      "Nome - Idade\n",
      "Fernando - 5\n",
      "Bruna - 7\n",
      "Natalia - 10\n",
      "Caio - 12\n",
      "Mariana - 18\n",
      "João - 19\n",
      "Pedro - 15\n",
      "Thamires - 17\n"
     ]
    }
   ],
   "source": [
    "\n",
    "for linha in open('Exerc¡cio 11.csv',encoding='utf-8'):\n",
    "\n",
    "   coluna = linha.split(',')\n",
    "\n",
    "   print(coluna[0],'-',coluna[1])\n",
    "\n",
    "\n",
    "\n",
    "    \n",
    "\n",
    "\n"
   ]
  },
  {
   "cell_type": "markdown",
   "id": "18c9bb18-8db2-4c94-992d-ee2bbd4a0e1d",
   "metadata": {},
   "source": [
    "---"
   ]
  },
  {
   "cell_type": "markdown",
   "id": "8f269493-4c91-4db3-9f3b-d3d5c7cba91a",
   "metadata": {},
   "source": [
    "### Exercício 12\n",
    "\n",
    "Dado a planilha 'Exercío 12.csv' com nomes de cidades e estados, abra a planilha em 'modo de leitura' e imprima o nome da cidade concatenado com o nome do estado, exemplo:\n",
    "\n",
    "**Saída esperada:**  \n",
    "Cidade - UF  \n",
    "Sorocaba - SP  \n",
    "São Paulo - SP  \n",
    "..."
   ]
  },
  {
   "cell_type": "code",
   "execution_count": 3,
   "id": "4c97c6d8-50aa-4572-89f1-9783134ec0c5",
   "metadata": {},
   "outputs": [
    {
     "name": "stdout",
     "output_type": "stream",
     "text": [
      "Cidade-UF\n",
      "Sorocaba-SP\n",
      "São Paulo-SP\n",
      "Campinas-SP\n",
      "Salto-SP\n",
      "Itu-SP\n",
      "Araçoiaba da Serra-SP\n",
      "Piedade-SP\n"
     ]
    }
   ],
   "source": [
    "\n",
    "\n",
    "for linha in open('Exerc¡cio 12.csv' , encoding='utf-8'):\n",
    "\n",
    "    coluna = linha.split(',')\n",
    "\n",
    "    print(coluna[0] + '-' + coluna[1])\n",
    "\n",
    "\n"
   ]
  },
  {
   "cell_type": "markdown",
   "id": "3dff7063-c6c0-487b-936f-4e8a7ccaf0bc",
   "metadata": {},
   "source": [
    "---"
   ]
  }
 ],
 "metadata": {
  "kernelspec": {
   "display_name": "Python 3 (ipykernel)",
   "language": "python",
   "name": "python3"
  },
  "language_info": {
   "codemirror_mode": {
    "name": "ipython",
    "version": 3
   },
   "file_extension": ".py",
   "mimetype": "text/x-python",
   "name": "python",
   "nbconvert_exporter": "python",
   "pygments_lexer": "ipython3",
   "version": "3.11.2"
  }
 },
 "nbformat": 4,
 "nbformat_minor": 5
}
