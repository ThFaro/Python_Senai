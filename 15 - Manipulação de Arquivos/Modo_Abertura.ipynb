{
 "cells": [
  {
   "cell_type": "code",
   "execution_count": 1,
   "id": "f352ebb6-9713-4150-982d-ee915a293bb8",
   "metadata": {
    "tags": []
   },
   "outputs": [
    {
     "name": "stdout",
     "output_type": "stream",
     "text": [
      "Introdução a manipulação de arquivos com Python.\n",
      "Ao abrir e ler esses arquivos, podemos realizar diversas tarefas, como:\n",
      "- Extrair informações\n",
      "- Processar dados\n",
      "- Criar novos arquivos\n"
     ]
    }
   ],
   "source": [
    "arquivo = open('read.txt', encoding = 'utf-8')\n",
    "conteudo = arquivo.read()\n",
    "arquivo.close()\n",
    "print(conteudo)"
   ]
  },
  {
   "cell_type": "code",
   "execution_count": 2,
   "id": "ce2afd53-2a52-4e0c-bceb-eeec2d13a67b",
   "metadata": {},
   "outputs": [
    {
     "name": "stdout",
     "output_type": "stream",
     "text": [
      "Introdução a manipulação de arquivos com Python.\n",
      "Ao abrir e ler esses arquivos, podemos realizar diversas tarefas, como:\n",
      "- Extrair informações\n",
      "- Processar dados\n",
      "- Criar novos arquivos\n"
     ]
    }
   ],
   "source": [
    "#modo de abertura 'r': 1 argumento = nome do arquivo 2 argumento = modo de abertura\n",
    "# OBS: se nao passarmos o segundo argumento, ele abriara alto,automaticamente em modo leitura\n",
    "\n",
    "arquivo = open ('read.txt','r', encoding='utf-8') \n",
    "conteudo = arquivo.read()\n",
    "arquivo.close()\n",
    "print(conteudo)"
   ]
  },
  {
   "cell_type": "code",
   "execution_count": 6,
   "id": "231cf576",
   "metadata": {},
   "outputs": [],
   "source": [
    "#modo de abertura 'w': criaçao de arquivo, e se o arquvio existir ele sera substituido\n",
    "\n",
    "arquivo = open('write.txt','w')\n",
    "\n",
    "arquivo.write('Primeiro arquivo criado com Python')\n",
    "\n",
    "arquivo.close()\n"
   ]
  },
  {
   "cell_type": "code",
   "execution_count": 1,
   "id": "869e544a",
   "metadata": {},
   "outputs": [],
   "source": [
    "# sobrescrevendo o arquivo anterior\n",
    "\n",
    "arquivo = open('write.txt','w')\n",
    "\n",
    "arquivo.write('Segundo arquivo criado com Python')\n",
    "\n",
    "arquivo.close()\n"
   ]
  },
  {
   "cell_type": "code",
   "execution_count": 4,
   "id": "79c7389f",
   "metadata": {},
   "outputs": [],
   "source": [
    "#modo append 'a' é utilizado para adicionar informações no final do aqrquivo\n",
    "\n",
    "arquivo = open('write.txt','a', encoding='utf-8')\n",
    "\n",
    "arquivo.write('\\n')\n",
    "arquivo.write('Uma nova linha foi adicionada!')\n",
    "\n",
    "arquivo.close()"
   ]
  },
  {
   "cell_type": "code",
   "execution_count": 5,
   "id": "57da47f5",
   "metadata": {},
   "outputs": [
    {
     "ename": "FileExistsError",
     "evalue": "[Errno 17] File exists: 'write.txt'",
     "output_type": "error",
     "traceback": [
      "\u001b[0;31m---------------------------------------------------------------------------\u001b[0m",
      "\u001b[0;31mFileExistsError\u001b[0m                           Traceback (most recent call last)",
      "Cell \u001b[0;32mIn[5], line 3\u001b[0m\n\u001b[1;32m      1\u001b[0m \u001b[39m#modo de abertura 'x': criaçao de arquivo. OBS: ele nao permite a sobrescrita. \u001b[39;00m\n\u001b[0;32m----> 3\u001b[0m arquivo \u001b[39m=\u001b[39m \u001b[39mopen\u001b[39;49m(\u001b[39m'\u001b[39;49m\u001b[39mwrite.txt\u001b[39;49m\u001b[39m'\u001b[39;49m, \u001b[39m'\u001b[39;49m\u001b[39mx\u001b[39;49m\u001b[39m'\u001b[39;49m, encoding\u001b[39m=\u001b[39;49m\u001b[39m'\u001b[39;49m\u001b[39mutf-8\u001b[39;49m\u001b[39m'\u001b[39;49m )\n\u001b[1;32m      5\u001b[0m arquivo\u001b[39m.\u001b[39mwrite(\u001b[39m'\u001b[39m\u001b[39mPrimeiro arquivo exclusive criado!\u001b[39m\u001b[39m'\u001b[39m)\n\u001b[1;32m      7\u001b[0m arquivo\u001b[39m.\u001b[39mclose()\n",
      "File \u001b[0;32m~/Library/Python/3.11/lib/python/site-packages/IPython/core/interactiveshell.py:308\u001b[0m, in \u001b[0;36m_modified_open\u001b[0;34m(file, *args, **kwargs)\u001b[0m\n\u001b[1;32m    301\u001b[0m \u001b[39mif\u001b[39;00m file \u001b[39min\u001b[39;00m {\u001b[39m0\u001b[39m, \u001b[39m1\u001b[39m, \u001b[39m2\u001b[39m}:\n\u001b[1;32m    302\u001b[0m     \u001b[39mraise\u001b[39;00m \u001b[39mValueError\u001b[39;00m(\n\u001b[1;32m    303\u001b[0m         \u001b[39mf\u001b[39m\u001b[39m\"\u001b[39m\u001b[39mIPython won\u001b[39m\u001b[39m'\u001b[39m\u001b[39mt let you open fd=\u001b[39m\u001b[39m{\u001b[39;00mfile\u001b[39m}\u001b[39;00m\u001b[39m by default \u001b[39m\u001b[39m\"\u001b[39m\n\u001b[1;32m    304\u001b[0m         \u001b[39m\"\u001b[39m\u001b[39mas it is likely to crash IPython. If you know what you are doing, \u001b[39m\u001b[39m\"\u001b[39m\n\u001b[1;32m    305\u001b[0m         \u001b[39m\"\u001b[39m\u001b[39myou can use builtins\u001b[39m\u001b[39m'\u001b[39m\u001b[39m open.\u001b[39m\u001b[39m\"\u001b[39m\n\u001b[1;32m    306\u001b[0m     )\n\u001b[0;32m--> 308\u001b[0m \u001b[39mreturn\u001b[39;00m io_open(file, \u001b[39m*\u001b[39;49margs, \u001b[39m*\u001b[39;49m\u001b[39m*\u001b[39;49mkwargs)\n",
      "\u001b[0;31mFileExistsError\u001b[0m: [Errno 17] File exists: 'write.txt'"
     ]
    }
   ],
   "source": [
    "#modo de abertura 'x': criaçao de arquivo. OBS: ele nao permite a sobrescrita. \n",
    "\n",
    "arquivo = open('write.txt', 'x', encoding='utf-8' ) # ELE DA ERRO POIS O ARQUIVO 'write.txt' JA EXISTE\n",
    "\n",
    "arquivo.write('Primeiro arquivo exclusive criado!')\n",
    "\n",
    "arquivo.close()"
   ]
  },
  {
   "cell_type": "code",
   "execution_count": 6,
   "id": "83e09e0a",
   "metadata": {},
   "outputs": [],
   "source": [
    "arquivo = open('exclusive.txt', 'x', encoding='utf-8' ) \n",
    "\n",
    "arquivo.write('Primeiro arquivo exclusive criado!')\n",
    "\n",
    "arquivo.close()"
   ]
  },
  {
   "cell_type": "code",
   "execution_count": 9,
   "id": "601cd670",
   "metadata": {},
   "outputs": [
    {
     "name": "stdout",
     "output_type": "stream",
     "text": [
      "Introdução a manipulação de arquivos com Python.\n",
      "\n",
      "Ao abrir e ler esses arquivos, podemos realizar diversas tarefas, como:\n",
      "\n",
      "- Extrair informações\n",
      "\n",
      "- Processar dados\n",
      "\n",
      "- Criar novos arquivos\n"
     ]
    }
   ],
   "source": [
    "# ler o arquivo usando o for\n",
    "\n",
    "arquivo = open(\"read.txt\", encoding = 'utf-8')\n",
    "\n",
    "for linha in arquivo:\n",
    "    print(linha)\n",
    "\n",
    "arquivo.close()"
   ]
  },
  {
   "cell_type": "code",
   "execution_count": 11,
   "id": "4468234b",
   "metadata": {},
   "outputs": [
    {
     "name": "stdout",
     "output_type": "stream",
     "text": [
      "INTRODUÇÃO A MANIPULAÇÃO DE ARQUIVOS COM PYTHON.\n",
      "\n",
      "AO ABRIR E LER ESSES ARQUIVOS, PODEMOS REALIZAR DIVERSAS TAREFAS, COMO:\n",
      "\n",
      "- EXTRAIR INFORMAÇÕES\n",
      "\n",
      "- PROCESSAR DADOS\n",
      "\n",
      "- CRIAR NOVOS ARQUIVOS\n"
     ]
    }
   ],
   "source": [
    "# ler o arquivo usando o for sem ocupar memoria\n",
    "\n",
    "for linha in open(\"read.txt\", encoding = 'utf-8'):\n",
    "    print(linha)\n"
   ]
  },
  {
   "cell_type": "code",
   "execution_count": 13,
   "id": "448dcb12",
   "metadata": {},
   "outputs": [],
   "source": [
    "# criando um novo arquivo e passanddo pra dentro dele as strings do arquivo 'read.txt'\n",
    "\n",
    "arquivo = open('caixa_alta.txt', 'w', encoding='utf-8')\n",
    "\n",
    "for linha in open('read.txt', encoding='utf-8'):\n",
    "\n",
    "    arquivo.write(linha.upper())\n",
    "\n",
    "arquivo.close()"
   ]
  }
 ],
 "metadata": {
  "kernelspec": {
   "display_name": "Python 3 (ipykernel)",
   "language": "python",
   "name": "python3"
  },
  "language_info": {
   "codemirror_mode": {
    "name": "ipython",
    "version": 3
   },
   "file_extension": ".py",
   "mimetype": "text/x-python",
   "name": "python",
   "nbconvert_exporter": "python",
   "pygments_lexer": "ipython3",
   "version": "3.11.2"
  }
 },
 "nbformat": 4,
 "nbformat_minor": 5
}
