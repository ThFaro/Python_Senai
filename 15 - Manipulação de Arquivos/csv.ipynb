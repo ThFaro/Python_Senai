{
 "cells": [
  {
   "cell_type": "code",
   "execution_count": 2,
   "metadata": {},
   "outputs": [
    {
     "name": "stdout",
     "output_type": "stream",
     "text": [
      "Nome,Idade,Cidade,Estado\n",
      "\n",
      "Maria,15,Sorocaba,SP\n",
      "\n",
      "Pedro,25,Sorocaba,SP\n",
      "\n",
      "Marcos,27,Itu,SP\n",
      "\n",
      "Miriam,21,Votorantim,SP\n",
      "\n"
     ]
    }
   ],
   "source": [
    "arquivo = open('exemplo.csv', encoding='utf-8')\n",
    "\n",
    "for linha in arquivo:\n",
    "    print(linha)\n",
    "\n",
    "arquivo.close()"
   ]
  },
  {
   "cell_type": "code",
   "execution_count": 20,
   "metadata": {},
   "outputs": [
    {
     "name": "stdout",
     "output_type": "stream",
     "text": [
      "Idade\n",
      "15\n",
      "25\n",
      "27\n",
      "21\n"
     ]
    }
   ],
   "source": [
    "arquivo = open('exemplo.csv', encoding='utf-8')\n",
    "\n",
    "\n",
    "for linha in arquivo:\n",
    "\n",
    "    coluna = linha.split(',')\n",
    "\n",
    "    print(coluna[1])\n",
    "\n",
    "\n",
    "arquivo.close()"
   ]
  },
  {
   "cell_type": "code",
   "execution_count": 21,
   "metadata": {},
   "outputs": [
    {
     "name": "stdout",
     "output_type": "stream",
     "text": [
      "['\\ufeffNome', 'Idade', 'Cidade', 'Estado\\n']\n",
      "['Maria', '15', 'Sorocaba', 'São Paulo\\n']\n",
      "['Pedro', '25', 'Sorocaba', 'São Paulo\\n']\n",
      "['Marcos', '27', 'Itu', 'São Paulo\\n']\n",
      "['Miriam', '21', 'Votorantim', 'São Paulo']\n"
     ]
    }
   ],
   "source": [
    "arquivo = open('exemplo.csv', encoding='utf-8')\n",
    "\n",
    "\n",
    "for linha in arquivo:\n",
    "\n",
    "    coluna = linha.split(',')\n",
    "\n",
    "    coluna[3] = coluna[3].replace('SP', \"São Paulo\")\n",
    "\n",
    "    print(coluna)\n",
    "\n",
    "\n",
    "arquivo.close()"
   ]
  },
  {
   "cell_type": "code",
   "execution_count": 61,
   "metadata": {},
   "outputs": [
    {
     "name": "stdout",
     "output_type": "stream",
     "text": [
      "Nome,Idade,Cidade,Estado\n",
      "\n",
      "Maria,15,Sorocaba,São Paulo\n",
      "\n",
      "Pedro,25,Sorocaba,São Paulo\n",
      "\n",
      "Marcos,27,Itu,São Paulo\n",
      "\n",
      "Miriam,21,Votorantim,São Paulo\n"
     ]
    }
   ],
   "source": [
    "# salvando a alteração(criando um novo arquivo)\n",
    "\n",
    "arquivo_alterado = open('novo.csv','w', encoding='utf-8')\n",
    "\n",
    "arquivo = open('exemplo.csv', encoding='utf-8')\n",
    "\n",
    "\n",
    "for linha in arquivo:\n",
    "\n",
    "    coluna = linha.split(',')\n",
    "\n",
    "    coluna[3] = coluna[3].replace('SP', \"São Paulo\")\n",
    "\n",
    "    print(','.join(coluna))\n",
    "\n",
    "    arquivo_alterado.write(','.join(coluna))\n",
    "\n",
    "\n",
    "arquivo.close()"
   ]
  },
  {
   "cell_type": "code",
   "execution_count": 3,
   "metadata": {},
   "outputs": [
    {
     "name": "stdout",
     "output_type": "stream",
     "text": [
      "['Programa', 'em', 'Python']\n",
      "['Programa', 'em', 'Python']\n"
     ]
    }
   ],
   "source": [
    "# metodo .split() Divide uma string em uma lista onde cada palavra é um item da lista:\n",
    "\n",
    "python =  'Programa em Python'\n",
    "\n",
    "print(python.split())\n",
    "\n",
    "python =  'Programa_em_Python'\n",
    "\n",
    "print(python.split('_'))\n"
   ]
  },
  {
   "cell_type": "code",
   "execution_count": 5,
   "metadata": {},
   "outputs": [
    {
     "name": "stdout",
     "output_type": "stream",
     "text": [
      "Programa\n",
      "em\n",
      "Python\n"
     ]
    }
   ],
   "source": [
    "python =  'Programa_em_Python'\n",
    "\n",
    "lista = python.split('_')\n",
    "print(lista[0])\n",
    "print(lista[1])\n",
    "print(lista[2])"
   ]
  },
  {
   "cell_type": "code",
   "execution_count": 39,
   "metadata": {},
   "outputs": [
    {
     "name": "stdout",
     "output_type": "stream",
     "text": [
      "nome,idade,cidade\n"
     ]
    }
   ],
   "source": [
    "# metodo .join() transforma lista em  string\n",
    "\n",
    "lista = ['nome', 'idade', 'cidade']\n",
    "\n",
    "texto = ','.join(lista)\n",
    "\n",
    "print(texto)"
   ]
  },
  {
   "cell_type": "code",
   "execution_count": 41,
   "metadata": {},
   "outputs": [
    {
     "name": "stdout",
     "output_type": "stream",
     "text": [
      "nome,idade,cidade\n",
      "nome@idade@cidade\n",
      "nome.idade.cidade\n"
     ]
    }
   ],
   "source": [
    "lista = ['nome', 'idade', 'cidade']\n",
    "print(','.join(lista))\n",
    "print('@'.join(lista))\n",
    "print('.'.join(lista))"
   ]
  },
  {
   "cell_type": "code",
   "execution_count": null,
   "metadata": {},
   "outputs": [],
   "source": []
  }
 ],
 "metadata": {
  "kernelspec": {
   "display_name": "Python 3",
   "language": "python",
   "name": "python3"
  },
  "language_info": {
   "codemirror_mode": {
    "name": "ipython",
    "version": 3
   },
   "file_extension": ".py",
   "mimetype": "text/x-python",
   "name": "python",
   "nbconvert_exporter": "python",
   "pygments_lexer": "ipython3",
   "version": "3.11.2"
  },
  "orig_nbformat": 4
 },
 "nbformat": 4,
 "nbformat_minor": 2
}
