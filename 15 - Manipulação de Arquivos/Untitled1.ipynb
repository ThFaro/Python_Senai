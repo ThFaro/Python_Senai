{
 "cells": [
  {
   "cell_type": "code",
   "execution_count": 1,
   "id": "f352ebb6-9713-4150-982d-ee915a293bb8",
   "metadata": {
    "tags": []
   },
   "outputs": [
    {
     "name": "stdout",
     "output_type": "stream",
     "text": [
      "Introdução a manipulação de arquivos com Python.\n",
      "Ao abrir e ler esses arquivos, podemos realizar diversas tarefas, como:\n",
      "- Extrair informações\n",
      "- Processar dados\n",
      "- Criar novos arquivos\n"
     ]
    }
   ],
   "source": [
    "arquivo = open('read.txt', encoding = 'utf-8')\n",
    "conteudo = arquivo.read()\n",
    "print(conteudo)"
   ]
  },
  {
   "cell_type": "code",
   "execution_count": null,
   "id": "ce2afd53-2a52-4e0c-bceb-eeec2d13a67b",
   "metadata": {},
   "outputs": [],
   "source": []
  }
 ],
 "metadata": {
  "kernelspec": {
   "display_name": "Python 3 (ipykernel)",
   "language": "python",
   "name": "python3"
  },
  "language_info": {
   "codemirror_mode": {
    "name": "ipython",
    "version": 3
   },
   "file_extension": ".py",
   "mimetype": "text/x-python",
   "name": "python",
   "nbconvert_exporter": "python",
   "pygments_lexer": "ipython3",
   "version": "3.11.5"
  }
 },
 "nbformat": 4,
 "nbformat_minor": 5
}
