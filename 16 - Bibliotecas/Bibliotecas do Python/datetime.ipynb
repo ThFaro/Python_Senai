{
 "cells": [
  {
   "cell_type": "code",
   "execution_count": 3,
   "metadata": {},
   "outputs": [
    {
     "name": "stdout",
     "output_type": "stream",
     "text": [
      "2023-12-08 16:21:14.702299\n",
      "2023\n",
      "12\n",
      "8\n",
      "16\n"
     ]
    }
   ],
   "source": [
    "import datetime\n",
    "\n",
    "\n",
    "print(datetime.datetime.now())\n",
    "print(datetime.datetime.now().year)\n",
    "print(datetime.datetime.now().month)\n",
    "print(datetime.datetime.now().day)\n",
    "print(datetime.datetime.now().hour)"
   ]
  },
  {
   "cell_type": "code",
   "execution_count": 4,
   "metadata": {},
   "outputs": [
    {
     "name": "stdout",
     "output_type": "stream",
     "text": [
      "2000-01-01 00:00:00\n"
     ]
    }
   ],
   "source": [
    "import datetime\n",
    "\n",
    "# datetime.datetima(ano,mes,dia,hora,min,seg,ms)\n",
    "\n",
    "print(datetime.datetime(2000,1,1))"
   ]
  },
  {
   "cell_type": "code",
   "execution_count": 5,
   "metadata": {},
   "outputs": [
    {
     "name": "stdout",
     "output_type": "stream",
     "text": [
      "8742\n"
     ]
    }
   ],
   "source": [
    "data_inicial = datetime.datetime(2000,1,1)\n",
    "data_final = datetime.datetime.now()\n",
    "\n",
    "diferenca = (data_final - data_inicial).days\n",
    "\n",
    "print(diferenca)"
   ]
  },
  {
   "cell_type": "code",
   "execution_count": 15,
   "metadata": {},
   "outputs": [
    {
     "name": "stdout",
     "output_type": "stream",
     "text": [
      "2023-12-13 16:42:27.844319\n"
     ]
    }
   ],
   "source": [
    "hoje = datetime.datetime.now()\n",
    "\n",
    "dias = datetime.timedelta(days=5)\n",
    "horas = datetime.timedelta(hours=5)\n",
    "minutos = datetime.timedelta(minutes=5)\n",
    "segundos = datetime.timedelta(seconds=5)\n",
    "\n",
    "print(hoje + dias)"
   ]
  },
  {
   "cell_type": "code",
   "execution_count": 17,
   "metadata": {},
   "outputs": [
    {
     "name": "stdout",
     "output_type": "stream",
     "text": [
      "08/12/2023\n",
      "12/08/23\n"
     ]
    }
   ],
   "source": [
    "# strftime converte time pra texto\n",
    "\n",
    "hoje = datetime.datetime.now()\n",
    "\n",
    "print(hoje.strftime('%d/%m/%Y'))\n",
    "print(hoje.strftime('%x'))\n"
   ]
  },
  {
   "cell_type": "code",
   "execution_count": 21,
   "metadata": {},
   "outputs": [
    {
     "name": "stdout",
     "output_type": "stream",
     "text": [
      "08 de Dez de 2023\n",
      "08 de Dezembro de 2023\n"
     ]
    }
   ],
   "source": [
    "import locale\n",
    "\n",
    "locale.setlocale(locale.LC_TIME, 'pt_BR') # troca o idioma\n",
    "\n",
    "hoje = datetime.datetime.now()\n",
    "\n",
    "print(hoje.strftime('%d de %b de %Y'))\n",
    "print(hoje.strftime('%d de %B de %Y'))\n"
   ]
  }
 ],
 "metadata": {
  "kernelspec": {
   "display_name": "Python 3",
   "language": "python",
   "name": "python3"
  },
  "language_info": {
   "codemirror_mode": {
    "name": "ipython",
    "version": 3
   },
   "file_extension": ".py",
   "mimetype": "text/x-python",
   "name": "python",
   "nbconvert_exporter": "python",
   "pygments_lexer": "ipython3",
   "version": "3.11.2"
  },
  "orig_nbformat": 4
 },
 "nbformat": 4,
 "nbformat_minor": 2
}
