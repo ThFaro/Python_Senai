{
 "cells": [
  {
   "cell_type": "markdown",
   "id": "6ded908c-5252-4da7-be8a-690aa38710e2",
   "metadata": {},
   "source": [
    "# <font color='OrangeRed'><center>Extra - Bibliotecas</center></font>"
   ]
  },
  {
   "cell_type": "markdown",
   "id": "5652f20f-e871-4138-a2d7-981c1c1ccff0",
   "metadata": {},
   "source": [
    "### Biblitecas importadas:"
   ]
  },
  {
   "cell_type": "code",
   "execution_count": 1,
   "id": "dfd2687b-1b3d-4b31-bc8b-cd47a3c1ff13",
   "metadata": {},
   "outputs": [],
   "source": [
    "import math\n",
    "import datetime\n",
    "import random\n",
    "import locale\n",
    "\n"
   ]
  },
  {
   "cell_type": "markdown",
   "id": "587fba16-6406-4fe6-916d-2f3690b1b30f",
   "metadata": {},
   "source": [
    "---"
   ]
  },
  {
   "cell_type": "markdown",
   "id": "4be691b6-8216-4576-a19d-2fe2ed00803f",
   "metadata": {
    "tags": []
   },
   "source": [
    "### Exercício 01\n",
    "\n",
    "Utilizando as bibliotecas **datetime** e **locale**, conveta os 3 textos abaixo para o tipo data"
   ]
  },
  {
   "cell_type": "code",
   "execution_count": null,
   "id": "50b8d1a3-4719-42ac-8a62-a83d21973880",
   "metadata": {},
   "outputs": [],
   "source": [
    "dia_trabalhador = 'No dia 01 de maio de 2000 foi o dia do trabalhor'\n",
    "natal = 'Não vejo a hora de chegar o dia 25 de dezembro de 2023 para comemorar o natal'\n",
    "independencia = 'Nós comemoramos a independência do Brasil no dia 07 de setembro de 2005'\n",
    "\n",
    "locale.setlocale(locale.LC_TIME, 'pt_BR.utf-8')\n",
    "\n",
    "\n",
    "\n",
    "\n"
   ]
  },
  {
   "cell_type": "markdown",
   "id": "69b821ef-19e8-4bd5-9f6f-fea8ba218b4f",
   "metadata": {},
   "source": [
    "---"
   ]
  },
  {
   "cell_type": "markdown",
   "id": "6d18b3d9-55aa-4733-998b-04a8678ad9b5",
   "metadata": {},
   "source": [
    "### Exercício 02\n",
    "\n",
    "Utilizando as bibliotecas **random**, crie uma lista vazia e faça um laço while onde enquanto a lista não tiver 5 números aleatórios entre 1 a 10 continue executando. Por fim, imprima a lista gerada"
   ]
  },
  {
   "cell_type": "code",
   "execution_count": 29,
   "id": "90503f10-63fc-480d-9d93-d4567c29f1b0",
   "metadata": {},
   "outputs": [
    {
     "name": "stdout",
     "output_type": "stream",
     "text": [
      "[3, 9, 4, 5, 2]\n"
     ]
    }
   ],
   "source": [
    "import random\n",
    "\n",
    "lista = []\n",
    "\n",
    "while len(lista) < 5:\n",
    "\n",
    "    numero_lista = random.randrange(1,11)\n",
    "\n",
    "    lista.append(numero_lista)\n",
    "\n",
    "print(lista)\n",
    "\n",
    "\n",
    "\n",
    "\n"
   ]
  },
  {
   "cell_type": "markdown",
   "id": "6ca3f695-14d9-4e79-bb6a-4fe5887a51e9",
   "metadata": {},
   "source": [
    "---"
   ]
  },
  {
   "cell_type": "markdown",
   "id": "feda37f6-3e99-4c14-90ef-ea9f05deed11",
   "metadata": {},
   "source": [
    "### Exercício 03\n",
    "\n",
    "Utilizando a biblioteca **random**, crie uma variável e atribula a ela um número inteiro aleatório entre 1 a 10, faça um laço while onde o usuário tem 3 chances de acertar o número gerado e em seguida crie a condição abaixo:\n",
    "\n",
    "* Se o usuário acertar o número até a 3ª tentativa, então saia do laço e retorne 'Parabéns, você acertou!'\n",
    "* Senão saia do laço e retorne 'Você perdeu!'"
   ]
  },
  {
   "cell_type": "code",
   "execution_count": null,
   "id": "43989a58-2e2e-437a-b397-1da136e9f826",
   "metadata": {},
   "outputs": [],
   "source": [
    "\n",
    "\n"
   ]
  },
  {
   "cell_type": "markdown",
   "id": "789228ae-269b-44fe-af50-5845089387e4",
   "metadata": {},
   "source": [
    "---"
   ]
  },
  {
   "cell_type": "markdown",
   "id": "f53fb37c-5427-4dde-9fff-ca687237b470",
   "metadata": {},
   "source": [
    "### Exercício 04\n",
    "\n",
    "Utilizando as bibliotecas **random**, simule o lançamento de uma moeda onde os valores possiveis são 'cara' ou 'coroa'. Peça para o usuário adivinhar o resultado, sendo:\n",
    "\n",
    "* Se o usuário acertar, então retorne 'Parábens, você acertou! O resultado foi {moeda}'\n",
    "* Senão retorne 'Que pena, você errou! O resultado foi {moeda}'"
   ]
  },
  {
   "cell_type": "code",
   "execution_count": null,
   "id": "af3d8def-6a61-43fe-835b-14945d7c916b",
   "metadata": {},
   "outputs": [],
   "source": [
    "moeda = ['cara', 'coroa']\n",
    "\n",
    "\n"
   ]
  },
  {
   "cell_type": "markdown",
   "id": "eebfa3c3-0b0a-4f18-b3cd-9d8b8d921c04",
   "metadata": {},
   "source": [
    "---"
   ]
  },
  {
   "cell_type": "markdown",
   "id": "26d79ed9-feb6-45cd-bc95-adb94e59011a",
   "metadata": {},
   "source": [
    "### Exercício 05\n",
    "\n",
    "Utilizando as bibliotecas **random**, use a lista abaixo com os 8 times para sortear os times do primeiro jogo. O algoritmo imprimir dois times sem repetir o mesmo. Por fim imprima o nome os dois times que jogaram no primeiro jogo."
   ]
  },
  {
   "cell_type": "code",
   "execution_count": null,
   "id": "d8da01d4-68cc-46d6-9066-8618bb37bad7",
   "metadata": {},
   "outputs": [],
   "source": [
    "times = ['Time A', 'Time B', 'Time C', 'Time D']\n",
    "\n",
    "\n"
   ]
  },
  {
   "cell_type": "markdown",
   "id": "9e177009-0e16-40f7-83e7-0fb62ade0de2",
   "metadata": {},
   "source": [
    "---"
   ]
  },
  {
   "cell_type": "markdown",
   "id": "42682ef2-7d74-4689-a962-231925ecaa07",
   "metadata": {},
   "source": [
    "### Exercício 06\n",
    "\n",
    "Utilizando as bibliotecas **datetime** e **locale**, conveta o texto abaixo para data em extenso, exemplo:\n",
    "\n",
    "**Entrada:**  \n",
    "_01/07/1992_\n",
    "\n",
    "**Saída:**  \n",
    "_01 de julho de 1992_"
   ]
  },
  {
   "cell_type": "code",
   "execution_count": null,
   "id": "d99524db-c685-408c-afff-6690c703f376",
   "metadata": {},
   "outputs": [],
   "source": [
    "texto = '01/07/1992'\n",
    "\n",
    "\n"
   ]
  },
  {
   "cell_type": "markdown",
   "id": "8ef03cd0-6d0f-42d1-89ff-d96bb5c00174",
   "metadata": {},
   "source": [
    "---"
   ]
  }
 ],
 "metadata": {
  "kernelspec": {
   "display_name": "Python 3 (ipykernel)",
   "language": "python",
   "name": "python3"
  },
  "language_info": {
   "codemirror_mode": {
    "name": "ipython",
    "version": 3
   },
   "file_extension": ".py",
   "mimetype": "text/x-python",
   "name": "python",
   "nbconvert_exporter": "python",
   "pygments_lexer": "ipython3",
   "version": "3.11.2"
  }
 },
 "nbformat": 4,
 "nbformat_minor": 5
}
