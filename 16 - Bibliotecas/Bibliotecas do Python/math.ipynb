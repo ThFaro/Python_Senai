{
 "cells": [
  {
   "cell_type": "code",
   "execution_count": 11,
   "metadata": {},
   "outputs": [
    {
     "name": "stdout",
     "output_type": "stream",
     "text": [
      "2.0\n",
      "8.0\n",
      "2\n",
      "3\n",
      "3.141592653589793\n",
      "3.14\n",
      "3.14\n"
     ]
    }
   ],
   "source": [
    "import math\n",
    "\n",
    "print(math.sqrt(4)) # RAIZ QUADRADA\n",
    "print(math.pow(2,3)) # POTENCIAÇÃO\n",
    "print(math.floor(2.99999999))# ARREDONDA PONTO FLUTUANTE PRA BAIXO\n",
    "print(math.ceil(2.99999999))# ARREDONDA PONTO FLUTUANTE PRA CIMA\n",
    "print(math.pi)# TRAS VALOR DE PI\n",
    "print(f'{math.pi:.2f}')# TRAS VALOR DE PI OBS: format sempre retorna uma string\n",
    "print(round(math.pi,2))# TRAS VALOR DE PI OBS: format sempre retorna um float\n"
   ]
  }
 ],
 "metadata": {
  "kernelspec": {
   "display_name": "Python 3",
   "language": "python",
   "name": "python3"
  },
  "language_info": {
   "codemirror_mode": {
    "name": "ipython",
    "version": 3
   },
   "file_extension": ".py",
   "mimetype": "text/x-python",
   "name": "python",
   "nbconvert_exporter": "python",
   "pygments_lexer": "ipython3",
   "version": "3.11.2"
  },
  "orig_nbformat": 4
 },
 "nbformat": 4,
 "nbformat_minor": 2
}
