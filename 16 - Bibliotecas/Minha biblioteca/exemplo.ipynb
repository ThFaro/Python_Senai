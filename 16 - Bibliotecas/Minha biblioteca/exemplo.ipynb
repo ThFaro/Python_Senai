{
 "cells": [
  {
   "attachments": {},
   "cell_type": "markdown",
   "metadata": {},
   "source": [
    "# <font color='Orange'><center>IMPORTANDO MINHA BIBLIOTECA</center></font>"
   ]
  },
  {
   "cell_type": "code",
   "execution_count": 9,
   "metadata": {},
   "outputs": [
    {
     "name": "stdout",
     "output_type": "stream",
     "text": [
      "15\n",
      "4\n"
     ]
    }
   ],
   "source": [
    "# IMPORTANDO BIBLIOTECA COMPLETA\n",
    "\n",
    "import minhaBiblioteca\n",
    "\n",
    "print(minhaBiblioteca.soma(7,8))\n",
    "print(minhaBiblioteca.subtracao(9,5))"
   ]
  },
  {
   "cell_type": "code",
   "execution_count": 7,
   "metadata": {},
   "outputs": [
    {
     "name": "stdout",
     "output_type": "stream",
     "text": [
      "20\n"
     ]
    }
   ],
   "source": [
    "# IMPORTANDO PARTE DA BIBLIOTECA\n",
    "\n",
    "from minhaBiblioteca import soma\n",
    "\n",
    "print(soma(10,10))"
   ]
  },
  {
   "cell_type": "code",
   "execution_count": 8,
   "metadata": {},
   "outputs": [
    {
     "name": "stdout",
     "output_type": "stream",
     "text": [
      "15\n",
      "4\n"
     ]
    }
   ],
   "source": [
    "# abreviando o nome da biblioteca\n",
    "\n",
    "import minhaBiblioteca as mb\n",
    "\n",
    "print(mb.soma(7,8))\n",
    "print(mb.subtracao(9,5))"
   ]
  }
 ],
 "metadata": {
  "kernelspec": {
   "display_name": "Python 3",
   "language": "python",
   "name": "python3"
  },
  "language_info": {
   "codemirror_mode": {
    "name": "ipython",
    "version": 3
   },
   "file_extension": ".py",
   "mimetype": "text/x-python",
   "name": "python",
   "nbconvert_exporter": "python",
   "pygments_lexer": "ipython3",
   "version": "3.11.2"
  },
  "orig_nbformat": 4
 },
 "nbformat": 4,
 "nbformat_minor": 2
}
