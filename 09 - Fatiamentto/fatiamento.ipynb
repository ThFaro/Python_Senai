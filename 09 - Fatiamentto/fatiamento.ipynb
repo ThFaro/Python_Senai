{
 "cells": [
  {
   "cell_type": "code",
   "execution_count": 2,
   "metadata": {},
   "outputs": [
    {
     "data": {
      "text/plain": [
       "[0, 2, 4, 6, 8]"
      ]
     },
     "execution_count": 2,
     "metadata": {},
     "output_type": "execute_result"
    }
   ],
   "source": [
    "lista = [0,1,2,3,4,5,6,7,8,9]\n",
    "lista[0:4]\n",
    "lista [0:9:2]"
   ]
  },
  {
   "cell_type": "code",
   "execution_count": 6,
   "metadata": {},
   "outputs": [
    {
     "name": "stdout",
     "output_type": "stream",
     "text": [
      "P\n",
      "y\n",
      "t\n",
      "h\n",
      "o\n",
      "n\n"
     ]
    }
   ],
   "source": [
    "linguagem = \"Python\"\n",
    "print(linguagem[0])\n",
    "print(linguagem[1])\n",
    "print(linguagem[2])\n",
    "print(linguagem[3])\n",
    "print(linguagem[4])\n",
    "print(linguagem[5])\n"
   ]
  },
  {
   "cell_type": "code",
   "execution_count": 9,
   "metadata": {},
   "outputs": [
    {
     "name": "stdout",
     "output_type": "stream",
     "text": [
      "Programação em Python\n",
      "em Python\n",
      "Python\n"
     ]
    }
   ],
   "source": [
    "# paramentro de inicio\n",
    "\n",
    "python ='Programação em Python'\n",
    "print(python[0:])\n",
    "print(python[12:])\n",
    "print(python[15:])"
   ]
  },
  {
   "cell_type": "code",
   "execution_count": 11,
   "metadata": {},
   "outputs": [
    {
     "name": "stdout",
     "output_type": "stream",
     "text": [
      "Pro\n",
      "Prog\n",
      "Progr\n"
     ]
    }
   ],
   "source": [
    "# paramentro de final\n",
    "\n",
    "python ='Programação em Python'\n",
    "print(python[:3])\n",
    "print(python[:4])\n",
    "print(python[:5])"
   ]
  },
  {
   "cell_type": "code",
   "execution_count": 12,
   "metadata": {},
   "outputs": [
    {
     "name": "stdout",
     "output_type": "stream",
     "text": [
      "Programação\n",
      "em\n",
      "Python\n"
     ]
    }
   ],
   "source": [
    "# paramentro de inicio/final\n",
    "\n",
    "python ='Programação em Python'\n",
    "print(python[0:11])\n",
    "print(python[12:14])\n",
    "print(python[15:21])"
   ]
  },
  {
   "cell_type": "code",
   "execution_count": 13,
   "metadata": {},
   "outputs": [
    {
     "name": "stdout",
     "output_type": "stream",
     "text": [
      "ESCOLA\n"
     ]
    }
   ],
   "source": [
    "# usando passo\n",
    "\n",
    "var = 'E.S.C.O.L.A'\n",
    "print (var[::2])"
   ]
  },
  {
   "cell_type": "code",
   "execution_count": 14,
   "metadata": {},
   "outputs": [
    {
     "name": "stdout",
     "output_type": "stream",
     "text": [
      "ESCOLA\n"
     ]
    }
   ],
   "source": [
    "var = '@@E.S.C.O.L.A'\n",
    "print (var[2::2])"
   ]
  }
 ],
 "metadata": {
  "kernelspec": {
   "display_name": "Python 3",
   "language": "python",
   "name": "python3"
  },
  "language_info": {
   "codemirror_mode": {
    "name": "ipython",
    "version": 3
   },
   "file_extension": ".py",
   "mimetype": "text/x-python",
   "name": "python",
   "nbconvert_exporter": "python",
   "pygments_lexer": "ipython3",
   "version": "3.11.2"
  },
  "orig_nbformat": 4
 },
 "nbformat": 4,
 "nbformat_minor": 2
}
