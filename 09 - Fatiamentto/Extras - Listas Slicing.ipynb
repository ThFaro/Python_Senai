{
 "cells": [
  {
   "cell_type": "markdown",
   "id": "83778c0a-b368-4660-a81f-3a0bd1789ad3",
   "metadata": {},
   "source": [
    "# <font color='OrangeRed'><center>Extras - Listas: Slicing<br>Respostas</center></font>"
   ]
  },
  {
   "cell_type": "markdown",
   "id": "1d4e075f-5243-40b7-87a8-f746f6d56d5b",
   "metadata": {},
   "source": [
    "## Slicling\n",
    "\n",
    ">Lista[ **Início : Fim : Passo** ]"
   ]
  },
  {
   "cell_type": "markdown",
   "id": "bcd721bd-0f76-4b48-9eef-f9e0c100323c",
   "metadata": {},
   "source": [
    "---"
   ]
  },
  {
   "cell_type": "markdown",
   "id": "aae7f8ce-2efe-4120-bf00-8c5a82936535",
   "metadata": {},
   "source": [
    "### Exercíco 01\n",
    "\n",
    "Faça um programa que peça para o usuário digitar o número 1 ou o número 2 e crie a condição abaixo:\n",
    "\n",
    "* Se o usuário digitar o número 1, então imprima somente os números pares da lista abaixo\n",
    "* Se o usuário digitar o número 2, então imprima somente os números ímpares da lista abaixo\n",
    "* Senão retorne 'Número inválido, operação cancelada'"
   ]
  },
  {
   "cell_type": "code",
   "execution_count": 9,
   "id": "bcba26eb-fdf0-4d1c-bf97-fa56b0f81463",
   "metadata": {},
   "outputs": [
    {
     "name": "stdout",
     "output_type": "stream",
     "text": [
      "[1, 3, 5, 7, 9]\n"
     ]
    }
   ],
   "source": [
    "entrada = int(input('Digite 1 ou 2'))\n",
    "numeros = [0, 1, 2, 3, 4, 5, 6, 7, 8, 9]\n",
    "\n",
    "if entrada == 1:\n",
    "    print(numeros[::2])\n",
    "elif entrada ==2:\n",
    "    print(numeros[1::2])\n",
    "else:\n",
    "    print('Numero inválido')\n",
    "\n"
   ]
  },
  {
   "cell_type": "markdown",
   "id": "1d7aa4aa-2825-41c3-a006-a5f0375f72e7",
   "metadata": {},
   "source": [
    "---"
   ]
  },
  {
   "cell_type": "markdown",
   "id": "dedc0a3b-840b-4825-b138-6cec6ea284dd",
   "metadata": {
    "tags": []
   },
   "source": [
    "### Exercício 02\n",
    "\n",
    "Utilizando a operação de slicing, faça o fatiamento da string abaixo para retornar apenas esses caracteres:\n",
    "\n",
    "> 'Luiz Pagliato'"
   ]
  },
  {
   "cell_type": "code",
   "execution_count": 11,
   "id": "19aba72e-ca92-4cb6-b6ce-b4b20daa6ba3",
   "metadata": {},
   "outputs": [
    {
     "data": {
      "text/plain": [
       "'Luiz Pagliato'"
      ]
     },
     "execution_count": 11,
     "metadata": {},
     "output_type": "execute_result"
    }
   ],
   "source": [
    "texto = 'Escola SENAI Luiz Pagliato'\n",
    "texto[13:]\n",
    "\n"
   ]
  },
  {
   "cell_type": "markdown",
   "id": "6525bd95-8c8e-47de-9601-9cd87bc5854d",
   "metadata": {},
   "source": [
    "---"
   ]
  },
  {
   "cell_type": "markdown",
   "id": "d5b84b92-9315-43da-a7cd-5122af9cae58",
   "metadata": {},
   "source": [
    "### Exercício 03\n",
    "\n",
    "Utilizando a operação de slicing, faça o fatiamento da string abaixo para retornar apenas esses caracteres:\n",
    "\n",
    "> 'Escola'"
   ]
  },
  {
   "cell_type": "code",
   "execution_count": 12,
   "id": "3c6152f4-14e7-499b-9731-03762eec1865",
   "metadata": {},
   "outputs": [
    {
     "data": {
      "text/plain": [
       "'Escola'"
      ]
     },
     "execution_count": 12,
     "metadata": {},
     "output_type": "execute_result"
    }
   ],
   "source": [
    "texto = 'Escola SENAI Luiz Pagliato'\n",
    "texto[:6]\n",
    "\n"
   ]
  },
  {
   "cell_type": "markdown",
   "id": "4c14a631-d7e8-4145-9a2e-bdf29201f967",
   "metadata": {},
   "source": [
    "---"
   ]
  },
  {
   "cell_type": "markdown",
   "id": "20bcf269-1c33-4bfa-86cf-ee23eafe303d",
   "metadata": {},
   "source": [
    "### Exercício 04\n",
    "\n",
    "Utilizando a operação de slicing, faça o fatiamento da string abaixo para retornar apenas esses caracteres:\n",
    "\n",
    "> 'SENAI'"
   ]
  },
  {
   "cell_type": "code",
   "execution_count": 14,
   "id": "37a91880-a8ce-41ea-9b94-3f7669ac0150",
   "metadata": {},
   "outputs": [
    {
     "data": {
      "text/plain": [
       "'SENAI'"
      ]
     },
     "execution_count": 14,
     "metadata": {},
     "output_type": "execute_result"
    }
   ],
   "source": [
    "texto = 'Escola SENAI Luiz Pagliato'\n",
    "texto[7:12]\n",
    "\n"
   ]
  },
  {
   "cell_type": "markdown",
   "id": "bbba9f93-367d-4a5e-a08f-eef0a57c7c34",
   "metadata": {},
   "source": [
    "---"
   ]
  },
  {
   "cell_type": "markdown",
   "id": "61a54a87-e5ab-4c60-a76b-80224103d4d1",
   "metadata": {},
   "source": [
    "### Exercício 05\n",
    "\n",
    "Utilizando a operação de slicing, faça um programa que peça ao usuário digitar um número entre 0 a 10 e em seguida use o número como parâmetro de **início** e imprima o resultado\n",
    "\n",
    "**Exemplo:**  \n",
    "Se o usuário digitar 5 o retorno deverá ser: [5, 6, 7, 8, 9, 10]\n"
   ]
  },
  {
   "cell_type": "code",
   "execution_count": 16,
   "id": "9f0838e5-0a7a-4594-8a0a-10dee9a636ea",
   "metadata": {
    "jp-MarkdownHeadingCollapsed": true,
    "tags": []
   },
   "outputs": [
    {
     "name": "stdout",
     "output_type": "stream",
     "text": [
      "[9, 10]\n"
     ]
    }
   ],
   "source": [
    "numeros = [0, 1, 2, 3, 4, 5, 6, 7, 8, 9, 10]\n",
    "\n",
    "n = int(input('Digite um número entre 0 a 10: '))\n",
    "\n",
    "print(numeros[n:])"
   ]
  },
  {
   "cell_type": "markdown",
   "id": "06fd9ed4-fc20-4dc9-a647-8cfa3d94164c",
   "metadata": {},
   "source": [
    "---"
   ]
  },
  {
   "cell_type": "markdown",
   "id": "4b9b1cdc-3ae8-47b0-a099-eefb6b887831",
   "metadata": {},
   "source": [
    "### Exercício 06\n",
    "\n",
    "Utilizando a operação de slicing, faça um programa que peça ao usuário digitar 'dia', 'mês' ou 'ano' e em seguida crie a condição:\n",
    "\n",
    "* Se o usuário digitar **dia**, então retorne apenas o dia da data abaixo\n",
    "* Se o usuário digitar **mês**, então retorne apenas o mês da data abaixo\n",
    "* Se o usuário digitar **ano**, então retorne apenas o ano da data abaixo"
   ]
  },
  {
   "cell_type": "code",
   "execution_count": 21,
   "id": "7abd88b8-54db-426a-90cf-6886672b820d",
   "metadata": {},
   "outputs": [
    {
     "name": "stdout",
     "output_type": "stream",
     "text": [
      "12\n"
     ]
    }
   ],
   "source": [
    "entrada = input(\"\"\"\n",
    "DIA\n",
    "MÊS\n",
    "ANO\n",
    "\"\"\").lower()\n",
    "data = '01/12/2023'\n",
    "\n",
    "if entrada == \"dia\":\n",
    "    print(data[:2])\n",
    "elif entrada == \"mes\" or entrada == \"mês\":\n",
    "    print(data[3:5])\n",
    "elif entrada == \"ano\":\n",
    "    print(data[6:])\n",
    "else:\n",
    "    print('Opção inválida')\n",
    "\n",
    "\n"
   ]
  },
  {
   "cell_type": "markdown",
   "id": "13acd4d1-0acb-437d-8c0d-f4c2531e922e",
   "metadata": {},
   "source": [
    "---"
   ]
  },
  {
   "cell_type": "markdown",
   "id": "db25a1a7-f9b4-4f45-a313-71dd8fbde19d",
   "metadata": {},
   "source": [
    "### Exercício 07\n",
    "\n",
    "O número de inscrição no CPF é composto de onze dígitos decimais, sendo os oito primeiros aleatoriamente designados no momento da inscrição. **Já o nono (antepenúltimo) dígito indica a região fiscal responsável pela inscrição**. Por fim, o décimo e o décimo-primeiro são dígitos verificadores calculados de acordo com um algoritmo definido pela Receita Federal e publicamente conhecido.\n",
    "\n",
    "Dito isto, crie um programa que verifique o **nono dígito do CPF do usuário** e retorne qual é a região fiscal responsável pela inscrição, sendo: \n",
    "\n",
    "* Se o nono dígito for 1 então retorne 'DF, GO, MT, MS e TO'\n",
    "* Se o nono dígito for 2 então retorne 'AC, AP, AM, PA, RO e RR'\n",
    "* Se o nono dígito for 3 então retorne 'CE, MA e PI'\n",
    "* Se o nono dígito for 4 então retorne 'AL, PB, PE e RN'\n",
    "* Se o nono dígito for 5 então retorne 'BA e SE'\n",
    "* Se o nono dígito for 6 então retorne 'MG'\n",
    "* Se o nono dígito for 7 então retorne 'ES e RJ'\n",
    "* Se o nono dígito for 8 então retorne 'SP'\n",
    "* Se o nono dígito for 9 então retorne 'PR e SC'\n",
    "* Se o nono dígito for 0 então retorne 'RS'"
   ]
  },
  {
   "cell_type": "code",
   "execution_count": 17,
   "id": "f43f43e4-e092-4c9b-9e53-27dd72fcb605",
   "metadata": {},
   "outputs": [
    {
     "name": "stdout",
     "output_type": "stream",
     "text": [
      "SP\n"
     ]
    }
   ],
   "source": [
    "cpf = input(\"Digite seu cpf (sem '.' e '-')\")\n",
    "\n",
    "\n",
    "if cpf[8] == \"1\":\n",
    "    print ('DF, GO, MT, MS e TO')\n",
    "elif cpf[8] == \"2\":\n",
    "    print ('AC, AP, AM, PA, RO e RR')\n",
    "elif cpf[8] == \"3\":\n",
    "    print ('CE, MA e PI')\n",
    "elif cpf[8] == \"4\":\n",
    "    print ('AL, PB, PE e RN')\n",
    "elif cpf[8] == \"5\":\n",
    "    print ('BA e SE')\n",
    "elif cpf[8] == \"6\":\n",
    "    print ('MG')\n",
    "elif cpf[8] == \"7\":\n",
    "    print ('ES e RJ')\n",
    "elif cpf[8] == \"8\":\n",
    "    print ('SP')\n",
    "elif cpf[8] == \"9\":\n",
    "    print ('PR e SC')\n",
    "else:\n",
    "    print ('RS')\n",
    "\n",
    "\n",
    "\n"
   ]
  },
  {
   "cell_type": "markdown",
   "id": "1edc6d01-2ebe-46bb-894f-0c9ebb40ae00",
   "metadata": {},
   "source": [
    "---"
   ]
  },
  {
   "cell_type": "markdown",
   "id": "8b3a0e60-a72b-4da4-801f-e9864534a803",
   "metadata": {},
   "source": [
    "### Exercício 08\n",
    "\n",
    "A empresa Soluções.Py possui o telefone 32220100, porém dependendo do número digitado a ligação é transferida para um detertimado ramal. Dito isto, faça um programa que receba um número do telefone e crie a condição abaixo:\n",
    "\n",
    "* Se o número iniciar com '32220' **E** finalizar com uma das opções abaixo retorne o departamento correspondente:\n",
    "\n",
    "\n",
    "| Final | Departamento |\n",
    "|:-----:|:------------:|\n",
    "| 100 | Recepção |\n",
    "| 101 | Financeiro |\n",
    "| 102 | RH |\n",
    "| 103 | Comercial |\n",
    "| 104 | Administrativo |\n",
    "\n",
    "**Exemplo:**  \n",
    "_32220101_  \n",
    "**Saída:**  \n",
    "_Departamento: Financeiro_"
   ]
  },
  {
   "cell_type": "code",
   "execution_count": 21,
   "id": "21bf97ce-e98f-4c84-aaaf-59ea3b90cb71",
   "metadata": {},
   "outputs": [
    {
     "name": "stdout",
     "output_type": "stream",
     "text": [
      "Departamento: RH\n"
     ]
    }
   ],
   "source": [
    "telefone =input(\"\"\"Digite o telefone desejado e escolha o ramal:\n",
    "100-RECEPÇÃO\n",
    "101-FINANCEIRO\n",
    "102-RH\n",
    "103-COMERCIAL\n",
    "104-ADMINISTRATIVO\n",
    "                     \"\"\")\n",
    "\n",
    "if telefone[5::] == \"100\" and  telefone.startswith('32220'):\n",
    "    print('Departamento: Recepção')\n",
    "\n",
    "elif telefone[5::] == \"101\" and  telefone.startswith('32220'):\n",
    "    print('Departamento: Financeiro')\n",
    "\n",
    "elif telefone[5::] == \"102\" and  telefone.startswith('32220'):\n",
    "    print('Departamento: RH')\n",
    "\n",
    "elif telefone[5::] == \"103\" and  telefone.startswith('32220'):\n",
    "    print('Departamento: Comercial')\n",
    "\n",
    "elif telefone[5::] == \"104\" and  telefone.startswith('32220'):\n",
    "    print('Departamento: Administrativo')\n",
    "\n",
    "else:\n",
    "    print(\"Número ou ramal inválido!\")   \n",
    "\n"
   ]
  },
  {
   "cell_type": "markdown",
   "id": "1bc958c6-d4f8-48cc-bf17-c727165e1064",
   "metadata": {},
   "source": [
    "---"
   ]
  },
  {
   "cell_type": "markdown",
   "id": "4ca3e81c-2df8-4042-b80c-61fee792e45f",
   "metadata": {},
   "source": [
    "### Exercício 09\n",
    "\n",
    "Os números de conta do cartão do banco Py são compostos por 10 dígitos. Sendo:\n",
    "\n",
    "* Os 4 primeiros dígitos são referentes ao número da agência\n",
    "* Entre o 5º ao 9º dígito são referentes ao número da conta\n",
    "* Por fim, o décimo dígito é o dígito verificador\n",
    "\n",
    "Dito isto, faça um programa que receba um número de conta e imprima qual é o número da agência, o número da conta e o dígito verificador, por exemplo:\n",
    "\n",
    "**Exemplo:**  \n",
    "_7136697021_  \n",
    "**Saída:**  \n",
    "_Agência: 7136_  \n",
    "_Conta: 69702_  \n",
    "_Dígito: 1_  "
   ]
  },
  {
   "cell_type": "code",
   "execution_count": 30,
   "id": "ceeba2f8-1d9a-4128-b198-667a77c8a40f",
   "metadata": {},
   "outputs": [
    {
     "name": "stdout",
     "output_type": "stream",
     "text": [
      "\n",
      "    BEM VINDO AO BANCO BICO\n",
      "    \n",
      "Agencia: 7136\n",
      "Conta: 69702\n",
      "Digito 1\n",
      "\n",
      "\n"
     ]
    }
   ],
   "source": [
    "conta = input(\"Digite sua conta: \")\n",
    "\n",
    "print(f'''\n",
    "    BEM VINDO AO BANCO BICO\n",
    "    \n",
    "Agencia: {conta[0:4]}\n",
    "Conta: {conta[4:9]}\n",
    "Digito {conta[9:10]}\n",
    "\n",
    "''')\n",
    "\n",
    "\n"
   ]
  },
  {
   "cell_type": "markdown",
   "id": "b9d56f96-5f5a-4606-a8ae-adf16f608560",
   "metadata": {},
   "source": [
    "---"
   ]
  },
  {
   "cell_type": "markdown",
   "id": "f98b81c4-5352-4f53-a53b-e8acebb9edb9",
   "metadata": {},
   "source": [
    "### Exercício 10\n",
    "\n",
    "Utilizando a operação de slicing, faça um algoritimo para seguir os passos abaixo:\n",
    "\n",
    "1. Peça ao usuário digitar um número entre 0 a 7 \n",
    "1. Use o número digitado pelo usuário como parâmetro de **início** na lista de números\n",
    "1. Use um método para somar o retorno da lista\n",
    "1. Por fim, imprima o resultado\n",
    "\n",
    "**Exemplo:**  \n",
    "Se o usuário digitar 6 o retorno deverá ser: 100 (47 + 53)"
   ]
  },
  {
   "cell_type": "code",
   "execution_count": 34,
   "id": "9f34b248-2073-4e1b-a000-7398633eafd9",
   "metadata": {},
   "outputs": [
    {
     "name": "stdout",
     "output_type": "stream",
     "text": [
      "100\n"
     ]
    }
   ],
   "source": [
    "entrada = int(input(\"Digite um número de 0 a 7: \"))\n",
    "numeros = [23, 29, 31, 37, 41, 43, 47, 53]\n",
    "\n",
    "print(sum(numeros[entrada:]))\n",
    "\n",
    "\n",
    "\n"
   ]
  },
  {
   "cell_type": "markdown",
   "id": "64e64908-ace6-4363-a9b2-84e0f7ca442e",
   "metadata": {},
   "source": [
    "---"
   ]
  }
 ],
 "metadata": {
  "kernelspec": {
   "display_name": "Python 3 (ipykernel)",
   "language": "python",
   "name": "python3"
  },
  "language_info": {
   "codemirror_mode": {
    "name": "ipython",
    "version": 3
   },
   "file_extension": ".py",
   "mimetype": "text/x-python",
   "name": "python",
   "nbconvert_exporter": "python",
   "pygments_lexer": "ipython3",
   "version": "3.11.2"
  }
 },
 "nbformat": 4,
 "nbformat_minor": 5
}
