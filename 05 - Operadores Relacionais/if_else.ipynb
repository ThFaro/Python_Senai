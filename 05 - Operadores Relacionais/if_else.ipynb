{
 "cells": [
  {
   "cell_type": "code",
   "execution_count": 17,
   "metadata": {},
   "outputs": [
    {
     "name": "stdout",
     "output_type": "stream",
     "text": [
      "Compra no valor de R$ 200.00 aprovada!\n",
      "\n",
      "         ====================\n",
      "\n",
      "        Saldo atual: R$ 100.00\n"
     ]
    }
   ],
   "source": [
    "saldo = float(input('Digite seu saldo:'))\n",
    "\n",
    "compra = float(200.00)\n",
    "\n",
    "if saldo < compra:\n",
    "    print(f'Compra recusada. Saldo atual: {saldo:.2f} ---> Valor da compra: {compra:.2f}')\n",
    "\n",
    "else:\n",
    "    saldo_atualizado = saldo - compra\n",
    "    print(f'''Compra no valor de R$ {compra:.2f} aprovada!\n",
    "\n",
    "         ====================\n",
    "\n",
    "        Saldo atual: R$ {saldo_atualizado:.2f}''')"
   ]
  },
  {
   "cell_type": "code",
   "execution_count": 20,
   "metadata": {},
   "outputs": [
    {
     "name": "stdout",
     "output_type": "stream",
     "text": [
      "Os textos são diferentes.\n"
     ]
    }
   ],
   "source": [
    "texto1 = input('Digite um texto')\n",
    "texto2 = input('Digite um texto')\n",
    "\n",
    "if texto1 == texto2:\n",
    "    print('Os textos são iguais.')\n",
    "else:\n",
    "    print('Os textos são diferentes.')"
   ]
  },
  {
   "cell_type": "code",
   "execution_count": 23,
   "metadata": {},
   "outputs": [
    {
     "name": "stdout",
     "output_type": "stream",
     "text": [
      "Número 1: 0\n",
      "Número 2: 0 \n",
      "Os números são iguais.\n"
     ]
    }
   ],
   "source": [
    "n1 = int(input('Digite o primeiro número:'))\n",
    "n2 = int(input('Digite o seugundo número:'))\n",
    "\n",
    "if n1>n2:\n",
    "    print(f'''Número 1: {n1}\n",
    "Número 2: {n2} \n",
    "O primeiro numero é maior que o segundo.''')\n",
    "\n",
    "elif n1<n2:\n",
    "    print(f'''Número 1: {n1}\n",
    "Número 2: {n2} \n",
    "O segundo numero é maior que o primeiro.''')\n",
    "\n",
    "else:\n",
    "    print(f'''Número 1: {n1}\n",
    "Número 2: {n2} \n",
    "Os números são iguais.''')"
   ]
  }
 ],
 "metadata": {
  "kernelspec": {
   "display_name": "Python 3",
   "language": "python",
   "name": "python3"
  },
  "language_info": {
   "codemirror_mode": {
    "name": "ipython",
    "version": 3
   },
   "file_extension": ".py",
   "mimetype": "text/x-python",
   "name": "python",
   "nbconvert_exporter": "python",
   "pygments_lexer": "ipython3",
   "version": "3.11.2"
  },
  "orig_nbformat": 4
 },
 "nbformat": 4,
 "nbformat_minor": 2
}
