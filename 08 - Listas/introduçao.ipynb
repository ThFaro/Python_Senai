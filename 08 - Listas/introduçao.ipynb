{
 "cells": [
  {
   "cell_type": "code",
   "execution_count": 6,
   "metadata": {},
   "outputs": [
    {
     "name": "stdout",
     "output_type": "stream",
     "text": [
      "A fruta selecionada foi a(o) abacaxi.\n"
     ]
    }
   ],
   "source": [
    "numero = int(input('Digite um número'))\n",
    "lista = ['maçã', 'banana','jaca','melão', 'abacaxi']\n",
    "\n",
    "if numero == 0 or numero <=4:\n",
    "    print(f'A fruta selecionada foi a(o) {lista[numero]}.')\n",
    "else:\n",
    "   print ('Valor inválido')\n"
   ]
  },
  {
   "cell_type": "code",
   "execution_count": 12,
   "metadata": {},
   "outputs": [
    {
     "name": "stdout",
     "output_type": "stream",
     "text": [
      "[1, 2, 3, 4]\n",
      "[1, 2, 3, 4, 6, 5, 'Olá']\n"
     ]
    }
   ],
   "source": [
    "# .append() adiciona um novo objeto na lista. OBS: Sempre no final\n",
    "\n",
    "lista = [1,2,3,4]\n",
    "print(lista)\n",
    "\n",
    "lista.append (6)\n",
    "lista.append (5)\n",
    "lista.append (\"Olá\")\n",
    "print(lista)"
   ]
  },
  {
   "cell_type": "code",
   "execution_count": 17,
   "metadata": {},
   "outputs": [
    {
     "name": "stdout",
     "output_type": "stream",
     "text": [
      "[1, 2, 3, 4]\n",
      "[8, 1, 2, 3, 4]\n",
      "[8, 1, 2, 3, 9, 4]\n",
      "[8, 1, 2, 'A', 3, 9, 4]\n",
      "[8, 1, 2, 'A', 3, 5, 9, 4]\n"
     ]
    }
   ],
   "source": [
    "# .insert() adiciona um novo objeto na lista na pposição desejada\n",
    "\n",
    "lista = [1,2,3,4]\n",
    "print(lista)\n",
    "\n",
    "lista.insert (0,8)\n",
    "print(lista)\n",
    "lista.insert (4,9)\n",
    "print(lista)\n",
    "lista.insert (3,\"a\".upper())\n",
    "print(lista)\n",
    "lista.insert (5,5)\n",
    "print(lista)"
   ]
  },
  {
   "cell_type": "code",
   "execution_count": 18,
   "metadata": {},
   "outputs": [
    {
     "name": "stdout",
     "output_type": "stream",
     "text": [
      "['maçã', 'cereja', 'jaca', 'melão', 'abacaxi']\n"
     ]
    }
   ],
   "source": [
    "# substituindo um valor existente na lista\n",
    "\n",
    "lista = ['maçã', 'banana','jaca','melão', 'abacaxi']\n",
    "\n",
    "lista[1] = \"cereja\"\n",
    "\n",
    "print (lista)"
   ]
  },
  {
   "cell_type": "code",
   "execution_count": 1,
   "metadata": {},
   "outputs": [
    {
     "name": "stdout",
     "output_type": "stream",
     "text": [
      "[1, 2, 4, 5, 6, 7, 8, 9]\n"
     ]
    }
   ],
   "source": [
    "# .remove() remove obejtos da lista atraves do valor\n",
    "\n",
    "lista = [1,2,3,4,5,6,7,8,9]\n",
    "\n",
    "lista.remove(3)\n",
    "\n",
    "print(lista)\n",
    "\n"
   ]
  },
  {
   "cell_type": "code",
   "execution_count": 2,
   "metadata": {},
   "outputs": [
    {
     "name": "stdout",
     "output_type": "stream",
     "text": [
      "[1, 2, 3, 5, 6, 7, 8, 9]\n"
     ]
    }
   ],
   "source": [
    "# .pop() remove obejtos da lista atraves do indice\n",
    "lista = [1,2,3,4,5,6,7,8,9]\n",
    "\n",
    "lista.pop(3)\n",
    "\n",
    "print(lista)"
   ]
  },
  {
   "cell_type": "code",
   "execution_count": 1,
   "metadata": {},
   "outputs": [
    {
     "data": {
      "text/plain": [
       "2"
      ]
     },
     "execution_count": 1,
     "metadata": {},
     "output_type": "execute_result"
    }
   ],
   "source": [
    "# .index() retorna a posição do item passasdo como argumento\n",
    "\n",
    "lista = ['maçã', 'banana','jaca','melão', 'abacaxi']\n",
    "\n",
    "lista.index('jaca')\n"
   ]
  },
  {
   "cell_type": "code",
   "execution_count": 2,
   "metadata": {},
   "outputs": [
    {
     "data": {
      "text/plain": [
       "5"
      ]
     },
     "execution_count": 2,
     "metadata": {},
     "output_type": "execute_result"
    }
   ],
   "source": [
    "# .count() Contar quantas vezes um elemento aparece na lista \n",
    "\n",
    "lista = [1,2,3,4,4,4,4,4,5,6]\n",
    "\n",
    "lista.count(4)"
   ]
  },
  {
   "cell_type": "code",
   "execution_count": null,
   "metadata": {},
   "outputs": [],
   "source": [
    "# Ordenar lista\n",
    "linguagens = ['python','java','css', 'csharp','cobol']\n",
    "linguagens.sort() # por padrão deixa em ordem alfabética\n",
    "linguagens.sort(reverse=True) #  deixa a ordem alfabética invertida\n",
    "linguagens.sort(key=lambda x: len(x)) #  ordena pela quantidade de caracteres (menor por maior)\n",
    "linguagens.sort(key=lambda x: len(x), reverse=True) #  ordena pela quantidade de caracteres inversa (maior por menor)"
   ]
  },
  {
   "cell_type": "code",
   "execution_count": 3,
   "metadata": {},
   "outputs": [
    {
     "name": "stdout",
     "output_type": "stream",
     "text": [
      "['java', 'css', 'java', 'python']\n"
     ]
    }
   ],
   "source": [
    "# Transpor uma lista\n",
    "linguagens = ['python','java','css', 'java']\n",
    "\n",
    "linguagens.reverse()\n",
    "print(linguagens)"
   ]
  },
  {
   "cell_type": "code",
   "execution_count": 4,
   "metadata": {},
   "outputs": [
    {
     "name": "stdout",
     "output_type": "stream",
     "text": [
      "5\n"
     ]
    }
   ],
   "source": [
    "# Saber o tamanho da lista (quantidade de elementos) 'len'\n",
    "linguagens = ['python','java','css', 'csharp','cobol']\n",
    "print(len(linguagens))"
   ]
  },
  {
   "cell_type": "code",
   "execution_count": 5,
   "metadata": {},
   "outputs": [
    {
     "name": "stdout",
     "output_type": "stream",
     "text": [
      "15\n"
     ]
    }
   ],
   "source": [
    "# .sum() soma os itens da lista\n",
    "lista = [3,4,5,2,1]\n",
    "print(sum(lista))"
   ]
  },
  {
   "cell_type": "code",
   "execution_count": 4,
   "metadata": {},
   "outputs": [
    {
     "name": "stdout",
     "output_type": "stream",
     "text": [
      "abacaxi\n",
      "melão\n",
      "jaca\n",
      "banana\n",
      "maçã\n",
      "abacaxi\n",
      "melão\n",
      "jaca\n",
      "banana\n",
      "maçã\n"
     ]
    }
   ],
   "source": [
    "# lista com indexação negativa\n",
    "\n",
    "lista = ['maçã', 'banana','jaca','melão', 'abacaxi']\n",
    "print(lista[-1])\n",
    "print(lista[-2])\n",
    "print(lista[-3])\n",
    "print(lista[-4])\n",
    "print(lista[-5])"
   ]
  },
  {
   "cell_type": "code",
   "execution_count": 6,
   "metadata": {},
   "outputs": [
    {
     "name": "stdout",
     "output_type": "stream",
     "text": [
      "n\n",
      "o\n",
      "h\n",
      "t\n",
      "y\n",
      "P\n"
     ]
    }
   ],
   "source": [
    "python = \"Python\"\n",
    "\n",
    "print(python[-1])\n",
    "print(python[-2])\n",
    "print(python[-3])\n",
    "print(python[-4])\n",
    "print(python[-5])\n",
    "print(python[-6])"
   ]
  },
  {
   "cell_type": "code",
   "execution_count": 9,
   "metadata": {},
   "outputs": [
    {
     "name": "stdout",
     "output_type": "stream",
     "text": [
      "['maçã', 'banana', 'jaca', 'melão']\n",
      "['maçã', 'banana', 'jaca']\n",
      "['maçã', 'banana']\n",
      "['maçã']\n"
     ]
    }
   ],
   "source": [
    "lista = ['maçã', 'banana','jaca','melão', 'abacaxi']\n",
    "print(lista[:-1])\n",
    "print(lista[:-2])\n",
    "print(lista[:-3])\n",
    "print(lista[:-4])"
   ]
  },
  {
   "cell_type": "code",
   "execution_count": 11,
   "metadata": {},
   "outputs": [
    {
     "name": "stdout",
     "output_type": "stream",
     "text": [
      "['abacaxi']\n",
      "['melão', 'abacaxi']\n",
      "['jaca', 'melão', 'abacaxi']\n",
      "['banana', 'jaca', 'melão', 'abacaxi']\n",
      "['maçã', 'banana', 'jaca', 'melão', 'abacaxi']\n"
     ]
    }
   ],
   "source": [
    "lista = ['maçã', 'banana','jaca','melão', 'abacaxi']\n",
    "print(lista[-1:])\n",
    "print(lista[-2:])\n",
    "print(lista[-3:])\n",
    "print(lista[-4:])\n",
    "print(lista[-5:])"
   ]
  },
  {
   "cell_type": "code",
   "execution_count": 15,
   "metadata": {},
   "outputs": [
    {
     "name": "stdout",
     "output_type": "stream",
     "text": [
      "['abacaxi', 'melão', 'jaca', 'banana', 'maçã']\n",
      "['abacaxi', 'jaca', 'maçã']\n",
      "['abacaxi', 'banana']\n",
      "['abacaxi', 'maçã']\n",
      "['abacaxi']\n"
     ]
    }
   ],
   "source": [
    "# passo negativo\n",
    "\n",
    "lista = ['maçã', 'banana','jaca','melão', 'abacaxi']\n",
    "print(lista[::-1])\n",
    "print(lista[::-2])\n",
    "print(lista[::-3])\n",
    "print(lista[::-4])\n",
    "print(lista[::-5])\n"
   ]
  }
 ],
 "metadata": {
  "kernelspec": {
   "display_name": "Python 3",
   "language": "python",
   "name": "python3"
  },
  "language_info": {
   "codemirror_mode": {
    "name": "ipython",
    "version": 3
   },
   "file_extension": ".py",
   "mimetype": "text/x-python",
   "name": "python",
   "nbconvert_exporter": "python",
   "pygments_lexer": "ipython3",
   "version": "3.11.2"
  },
  "orig_nbformat": 4
 },
 "nbformat": 4,
 "nbformat_minor": 2
}
