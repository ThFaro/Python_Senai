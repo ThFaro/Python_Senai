{
 "cells": [
  {
   "cell_type": "code",
   "execution_count": 2,
   "metadata": {},
   "outputs": [
    {
     "name": "stdout",
     "output_type": "stream",
     "text": [
      "M\n",
      "Maçã\n",
      "\n",
      "B\n",
      "Banana\n",
      "\n",
      "J\n",
      "Jaca\n",
      "\n",
      "M\n",
      "Melão\n",
      "\n",
      "A\n",
      "Abacaxi\n",
      "\n"
     ]
    }
   ],
   "source": [
    "# iterar é repetir algo\n",
    "\n",
    "frutas = [\"Maçã\", \"Banana\", \"Jaca\", \"Melão\", \"Abacaxi\"]\n",
    "\n",
    "for fruta in frutas:\n",
    "    print(fruta[0]) #imprime apenas a primeira letra de cada string \n",
    "    print(fruta) #imprime a string toda\n",
    "    print() #pula uma linha"
   ]
  },
  {
   "cell_type": "code",
   "execution_count": 5,
   "metadata": {},
   "outputs": [
    {
     "name": "stdout",
     "output_type": "stream",
     "text": [
      "0\n",
      "0\n",
      "\n",
      "1\n",
      "-1\n",
      "\n",
      "2\n",
      "-2\n",
      "\n",
      "3\n",
      "-3\n",
      "\n",
      "4\n",
      "-4\n",
      "\n",
      "5\n",
      "-5\n",
      "\n"
     ]
    }
   ],
   "source": [
    "numeros = [0,1,2,3,4,5]\n",
    "\n",
    "for numero in numeros:\n",
    "    print(numero) # imprime os numeros contidos na lista\n",
    "    print(numero*-1) # imprime os numeros contidos na lista de forma negtiva\n",
    "    print() # pula uma linha\n"
   ]
  },
  {
   "cell_type": "code",
   "execution_count": 6,
   "metadata": {},
   "outputs": [
    {
     "name": "stdout",
     "output_type": "stream",
     "text": [
      "M\n",
      "Eu gosto de Maçã.\n",
      "\n",
      "B\n",
      "Eu gosto de Banana.\n",
      "\n",
      "J\n",
      "Eu gosto de Jaca.\n",
      "\n",
      "M\n",
      "Eu gosto de Melão.\n",
      "\n",
      "A\n",
      "Eu gosto de Abacaxi.\n",
      "\n"
     ]
    }
   ],
   "source": [
    "frutas = [\"Maçã\", \"Banana\", \"Jaca\", \"Melão\", \"Abacaxi\"]\n",
    "\n",
    "for fruta in frutas:\n",
    "    print(fruta[0]) #imprime apenas a primeira letra de cada string \n",
    "    print(f'Eu gosto de {fruta}.') #imprime a string toda\n",
    "    print() #pula uma linha"
   ]
  },
  {
   "cell_type": "code",
   "execution_count": 10,
   "metadata": {},
   "outputs": [
    {
     "name": "stdout",
     "output_type": "stream",
     "text": [
      "5\n",
      "10\n",
      "15\n",
      "20\n",
      "25\n",
      "30\n",
      "35\n",
      "40\n",
      "45\n",
      "50\n"
     ]
    }
   ],
   "source": [
    "numeros = [1,2,3,4,5,6,7,8,9,10]\n",
    "\n",
    "for numero in numeros:\n",
    "   \n",
    "    print(numero*5) # taboada do 5\n",
    "    "
   ]
  },
  {
   "cell_type": "code",
   "execution_count": 21,
   "metadata": {},
   "outputs": [
    {
     "name": "stdout",
     "output_type": "stream",
     "text": [
      "1\n",
      "O número 1 não é divisível por 2\n",
      "\n",
      "2\n",
      "O número 2 é divisível por 2.\n",
      "\n",
      "3\n",
      "O número 3 não é divisível por 2\n",
      "\n",
      "4\n",
      "O número 4 é divisível por 2.\n",
      "\n",
      "5\n",
      "O número 5 não é divisível por 2\n",
      "\n",
      "6\n",
      "O número 6 é divisível por 2.\n",
      "\n",
      "7\n",
      "O número 7 não é divisível por 2\n",
      "\n",
      "8\n",
      "O número 8 é divisível por 2.\n",
      "\n",
      "9\n",
      "O número 9 não é divisível por 2\n",
      "\n",
      "10\n",
      "O número 10 é divisível por 2.\n",
      "\n"
     ]
    }
   ],
   "source": [
    "numeros = [1,2,3,4,5,6,7,8,9,10]\n",
    "\n",
    "for numero in numeros:\n",
    "\n",
    "    if numero%2 == 0:\n",
    "        print(numero)\n",
    "        print(f'O número {numero} é divisível por 2.')\n",
    "        print()\n",
    "\n",
    "    else:\n",
    "        print(numero)\n",
    "        print(f'O número {numero} não é divisível por 2')\n",
    "        print()"
   ]
  },
  {
   "cell_type": "code",
   "execution_count": 38,
   "metadata": {},
   "outputs": [
    {
     "name": "stdout",
     "output_type": "stream",
     "text": [
      "P--->\n",
      "Y--->\n",
      "T--->\n",
      "H--->\n",
      "O--->\n",
      "N--->\n"
     ]
    }
   ],
   "source": [
    "texto = \"Python\"\n",
    "\n",
    "for letra in texto:\n",
    "    print(letra.upper()+\"--->\")\n"
   ]
  }
 ],
 "metadata": {
  "kernelspec": {
   "display_name": "Python 3",
   "language": "python",
   "name": "python3"
  },
  "language_info": {
   "codemirror_mode": {
    "name": "ipython",
    "version": 3
   },
   "file_extension": ".py",
   "mimetype": "text/x-python",
   "name": "python",
   "nbconvert_exporter": "python",
   "pygments_lexer": "ipython3",
   "version": "3.11.2"
  },
  "orig_nbformat": 4
 },
 "nbformat": 4,
 "nbformat_minor": 2
}
