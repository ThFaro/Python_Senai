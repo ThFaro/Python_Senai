{
 "cells": [
  {
   "cell_type": "code",
   "execution_count": 2,
   "metadata": {},
   "outputs": [
    {
     "name": "stdout",
     "output_type": "stream",
     "text": [
      "True\n",
      "False\n"
     ]
    }
   ],
   "source": [
    "lista = ['maçã', 'banana','jaca','melão', 'abacaxi']\n",
    "print('melão' in lista)\n",
    "print('melão' not in lista)"
   ]
  },
  {
   "cell_type": "code",
   "execution_count": 5,
   "metadata": {},
   "outputs": [
    {
     "name": "stdout",
     "output_type": "stream",
     "text": [
      "False\n",
      "True\n"
     ]
    }
   ],
   "source": [
    "texto = \"Python\"\n",
    "print('j' in texto)\n",
    "print('P' in texto)"
   ]
  },
  {
   "cell_type": "code",
   "execution_count": 7,
   "metadata": {},
   "outputs": [
    {
     "name": "stdout",
     "output_type": "stream",
     "text": [
      "True\n",
      "False\n"
     ]
    }
   ],
   "source": [
    "numero = [1,2,3,4]\n",
    "print(1 in numero)\n",
    "print(1 not in numero)"
   ]
  },
  {
   "cell_type": "code",
   "execution_count": 10,
   "metadata": {},
   "outputs": [
    {
     "name": "stdout",
     "output_type": "stream",
     "text": [
      "Laranja não está contida na lista.\n"
     ]
    }
   ],
   "source": [
    "lista = ['maçã', 'banana','jaca','melão', 'abacaxi']\n",
    "\n",
    "if 'laranja' in lista:\n",
    "    print (\"Laranja esta contida na lista.\")\n",
    "    \n",
    "else:\n",
    "    print('Laranja não está contida na lista.')"
   ]
  },
  {
   "cell_type": "code",
   "execution_count": 13,
   "metadata": {},
   "outputs": [
    {
     "name": "stdout",
     "output_type": "stream",
     "text": [
      "A peça escolhida esta com desconto!\n"
     ]
    }
   ],
   "source": [
    "cor = input (\"Digite uma cor: \").lower()\n",
    "lista = ['branco','preto','amarelo']\n",
    "\n",
    "if cor in lista:\n",
    "    print(\"A peça escolhida esta com desconto!\")\n",
    "    \n",
    "else:\n",
    "    print('Peça com preço original.')"
   ]
  }
 ],
 "metadata": {
  "kernelspec": {
   "display_name": "Python 3",
   "language": "python",
   "name": "python3"
  },
  "language_info": {
   "codemirror_mode": {
    "name": "ipython",
    "version": 3
   },
   "file_extension": ".py",
   "mimetype": "text/x-python",
   "name": "python",
   "nbconvert_exporter": "python",
   "pygments_lexer": "ipython3",
   "version": "3.11.2"
  },
  "orig_nbformat": 4
 },
 "nbformat": 4,
 "nbformat_minor": 2
}
