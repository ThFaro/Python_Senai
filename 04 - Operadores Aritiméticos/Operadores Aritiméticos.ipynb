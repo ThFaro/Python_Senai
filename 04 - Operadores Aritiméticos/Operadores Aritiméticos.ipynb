{
 "cells": [
  {
   "cell_type": "markdown",
   "id": "4e8f9066-c953-404d-a9c7-8a71bcdbba52",
   "metadata": {},
   "source": [
    "# <font color=\"Blue\"><center> **OPERADORES ARITIMÉTICOS** </font></center>"
   ]
  },
  {
   "cell_type": "markdown",
   "id": "9ee62a97-695c-42b4-8f28-e36fcf5b8174",
   "metadata": {},
   "source": [
    "### Soma"
   ]
  },
  {
   "cell_type": "code",
   "execution_count": 1,
   "id": "910e9f36-a666-4e47-ac71-a3d88a8b8ebd",
   "metadata": {
    "tags": []
   },
   "outputs": [
    {
     "name": "stdout",
     "output_type": "stream",
     "text": [
      "30\n"
     ]
    }
   ],
   "source": [
    "produto_1 = 20\n",
    "produto_2 = 10\n",
    "\n",
    "print(produto_1 + produto_2)"
   ]
  },
  {
   "cell_type": "markdown",
   "id": "4fb6e50b-4790-44e6-a16c-75b5e92c8278",
   "metadata": {},
   "source": [
    "### Subtração"
   ]
  },
  {
   "cell_type": "code",
   "execution_count": 2,
   "id": "53522bf3-376a-48f3-bffc-3364ce09b528",
   "metadata": {
    "tags": []
   },
   "outputs": [
    {
     "name": "stdout",
     "output_type": "stream",
     "text": [
      "10\n"
     ]
    }
   ],
   "source": [
    "produto_1 = 20\n",
    "produto_2 = 10\n",
    "\n",
    "print(produto_1 - produto_2)\n"
   ]
  },
  {
   "cell_type": "markdown",
   "id": "12fdb98d-4140-4f92-86da-e31c4b57b763",
   "metadata": {},
   "source": [
    "### Divisão com resultado float"
   ]
  },
  {
   "cell_type": "code",
   "execution_count": 3,
   "id": "b025e121-723a-4cf3-8102-1a01399ed71a",
   "metadata": {
    "tags": []
   },
   "outputs": [
    {
     "name": "stdout",
     "output_type": "stream",
     "text": [
      "2.0\n"
     ]
    }
   ],
   "source": [
    "produto_1 = 20\n",
    "produto_2 = 10\n",
    "\n",
    "print(produto_1 / produto_2) #retorna um float"
   ]
  },
  {
   "cell_type": "markdown",
   "id": "41f35515-5ce6-4609-aeb0-ba5c04a65dd1",
   "metadata": {},
   "source": [
    "### Divisão com resultado int"
   ]
  },
  {
   "cell_type": "code",
   "execution_count": 4,
   "id": "b45f700b-7c0a-40ef-9467-16e96b911897",
   "metadata": {
    "tags": []
   },
   "outputs": [
    {
     "name": "stdout",
     "output_type": "stream",
     "text": [
      "2\n"
     ]
    }
   ],
   "source": [
    "produto_1 = 20\n",
    "produto_2 = 10\n",
    "\n",
    "print(produto_1 // produto_2) #retorna um int"
   ]
  },
  {
   "cell_type": "markdown",
   "id": "c0d15a91-9c4e-426c-9aa9-266e9183ce59",
   "metadata": {},
   "source": [
    "### Multiplicação"
   ]
  },
  {
   "cell_type": "code",
   "execution_count": 5,
   "id": "f766e64c-7167-439d-8a78-ae3d8f6fb8ee",
   "metadata": {
    "tags": []
   },
   "outputs": [
    {
     "name": "stdout",
     "output_type": "stream",
     "text": [
      "200\n"
     ]
    }
   ],
   "source": [
    "produto_1 = 20\n",
    "produto_2 = 10\n",
    "\n",
    "print(produto_1 * produto_2) \n"
   ]
  },
  {
   "cell_type": "markdown",
   "id": "6c8d505f-9505-4a30-b1c4-3ad61945e4b5",
   "metadata": {},
   "source": [
    "### Módulo (resto de divisão)"
   ]
  },
  {
   "cell_type": "code",
   "execution_count": 16,
   "id": "18218c3c-0db1-4ae0-86c2-f3bdf0cc1562",
   "metadata": {
    "tags": []
   },
   "outputs": [
    {
     "name": "stdout",
     "output_type": "stream",
     "text": [
      "1\n"
     ]
    }
   ],
   "source": [
    "produto_1 = 3\n",
    "produto_2 = 2\n",
    "\n",
    "print(produto_1 % produto_2) #retorna um módulo(resto da divisão)\n"
   ]
  },
  {
   "cell_type": "markdown",
   "id": "fa5a5037-f6e1-416c-b3f2-ee0a8129e6b7",
   "metadata": {},
   "source": [
    "### Exponenciação"
   ]
  },
  {
   "cell_type": "code",
   "execution_count": 12,
   "id": "cebff3be-345d-4766-a88a-45f2c93d0a60",
   "metadata": {
    "tags": []
   },
   "outputs": [
    {
     "name": "stdout",
     "output_type": "stream",
     "text": [
      "8\n"
     ]
    }
   ],
   "source": [
    "produto_1 = 2\n",
    "produto_2 = 3\n",
    "\n",
    "print(produto_1 ** produto_2)"
   ]
  },
  {
   "attachments": {},
   "cell_type": "markdown",
   "id": "d0d6925e",
   "metadata": {},
   "source": [
    " ### Ordem de Procedência\n",
    " \n",
    "    () --->\n",
    "    **  --->\n",
    "    * ou / --->\n",
    "    + ou -"
   ]
  }
 ],
 "metadata": {
  "kernelspec": {
   "display_name": "Python 3 (ipykernel)",
   "language": "python",
   "name": "python3"
  },
  "language_info": {
   "codemirror_mode": {
    "name": "ipython",
    "version": 3
   },
   "file_extension": ".py",
   "mimetype": "text/x-python",
   "name": "python",
   "nbconvert_exporter": "python",
   "pygments_lexer": "ipython3",
   "version": "3.11.2"
  }
 },
 "nbformat": 4,
 "nbformat_minor": 5
}
