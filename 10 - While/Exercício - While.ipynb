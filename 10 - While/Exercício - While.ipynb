{
 "cells": [
  {
   "cell_type": "markdown",
   "id": "a55a1c33-9a5a-4214-b4fb-567fc561fa60",
   "metadata": {},
   "source": [
    "# <font color='OrangeRed'><center>Exercícios - While</center></font>"
   ]
  },
  {
   "cell_type": "markdown",
   "id": "a7afefee-53de-44b4-b9b5-4572861f6960",
   "metadata": {},
   "source": [
    "### Exercício 01\n",
    "\n",
    "Crie um contator com o valor 10 e faça um loop while onde a cada iteração do loop seja incrementando +1 a variável, enquanto o valor da variável for menor ou igual a 20 continue executando."
   ]
  },
  {
   "cell_type": "code",
   "execution_count": 1,
   "id": "0a96d5a9-a863-4790-b8c3-0e4c2ba925b2",
   "metadata": {},
   "outputs": [
    {
     "name": "stdout",
     "output_type": "stream",
     "text": [
      "O contador atual é 10\n",
      "\n",
      "O contador atual é 11\n",
      "\n",
      "O contador atual é 12\n",
      "\n",
      "O contador atual é 13\n",
      "\n",
      "O contador atual é 14\n",
      "\n",
      "O contador atual é 15\n",
      "\n",
      "O contador atual é 16\n",
      "\n",
      "O contador atual é 17\n",
      "\n",
      "O contador atual é 18\n",
      "\n",
      "O contador atual é 19\n",
      "\n",
      "O contador atual é 20\n",
      "\n"
     ]
    }
   ],
   "source": [
    "contador = 10\n",
    "\n",
    "while contador <=20:\n",
    "    print(f'O contador atual é {contador}')\n",
    "    print()\n",
    "    contador +=1\n",
    "\n"
   ]
  },
  {
   "cell_type": "markdown",
   "id": "e50652d8-3a09-4046-b286-e6cd4b2c0b32",
   "metadata": {},
   "source": [
    "---"
   ]
  },
  {
   "cell_type": "markdown",
   "id": "2fd35e37-3b7e-49f2-acbe-c818da01e2d9",
   "metadata": {},
   "source": [
    "### Exercício 02\n",
    "\n",
    "Crie uma variável com o valor '' (vazio) e faça um loop while onde a cada iteração pergunte ao usuário se ele deseja continuar no loop, enquanto o usuário não digitar a palavra 'não' continue executando o loop."
   ]
  },
  {
   "cell_type": "code",
   "execution_count": 7,
   "id": "a2db5c33-42bd-4f4d-a9c8-ce339e4df672",
   "metadata": {},
   "outputs": [
    {
     "name": "stdout",
     "output_type": "stream",
     "text": [
      "Deseja continuar o loop?\n",
      "não\n",
      "\n",
      "Deseja continuar o loop?\n",
      "sim\n",
      "\n",
      "Loop interrompido\n"
     ]
    }
   ],
   "source": [
    "valor = ''\n",
    "\n",
    "while valor !='sim':\n",
    "    print('Deseja continuar o loop?')\n",
    "    valor = input('')\n",
    "    print(valor)\n",
    "   \n",
    "    print()\n",
    "print(\"Loop interrompido\")"
   ]
  },
  {
   "cell_type": "markdown",
   "id": "e620440b-cc5e-405f-99af-95232020dac2",
   "metadata": {},
   "source": [
    "---"
   ]
  },
  {
   "cell_type": "markdown",
   "id": "9bafa94b-0f3a-48c8-9ee2-40aba2a10143",
   "metadata": {},
   "source": [
    "### Exercício 03\n",
    "\n",
    "Crie um contator com o valor 0 e faça um loop while onde a cada iteração seja incrementando +5 a variável, enquanto o valor da variável for menor ou igual a 50 continue executando."
   ]
  },
  {
   "cell_type": "code",
   "execution_count": 8,
   "id": "63793dfc-e3a1-4f25-9764-e0d2b9730946",
   "metadata": {},
   "outputs": [
    {
     "name": "stdout",
     "output_type": "stream",
     "text": [
      "O contador atual é 0.\n",
      "\n",
      "O contador atual é 5.\n",
      "\n",
      "O contador atual é 10.\n",
      "\n",
      "O contador atual é 15.\n",
      "\n",
      "O contador atual é 20.\n",
      "\n",
      "O contador atual é 25.\n",
      "\n",
      "O contador atual é 30.\n",
      "\n",
      "O contador atual é 35.\n",
      "\n",
      "O contador atual é 40.\n",
      "\n",
      "O contador atual é 45.\n",
      "\n",
      "O contador atual é 50.\n",
      "\n",
      "Loop interrompido.\n"
     ]
    }
   ],
   "source": [
    "contador = 0\n",
    "\n",
    "while contador <=50:\n",
    "    print(f'O contador atual é {contador}.')\n",
    "    print()\n",
    "    contador +=5\n",
    "print(\"Loop interrompido.\")\n"
   ]
  },
  {
   "cell_type": "markdown",
   "id": "5a0d5e75-16d6-4513-964c-62ca1e32b479",
   "metadata": {},
   "source": [
    "---"
   ]
  },
  {
   "cell_type": "markdown",
   "id": "9a1da876-a633-43d1-9d71-3d9335a6e0ed",
   "metadata": {},
   "source": [
    "### Exercício 04\n",
    "\n",
    "Crie uma variável com o valor '' e utilizando uma estrutura de repetição while, faça programa que peça para o usuário digitar uma **vogal** e enquanto o usuário não digitar uma vogal continue executando o código."
   ]
  },
  {
   "cell_type": "code",
   "execution_count": 19,
   "id": "184e174b-3ef0-414c-901f-4c1f447cb770",
   "metadata": {},
   "outputs": [
    {
     "name": "stdout",
     "output_type": "stream",
     "text": [
      "Digite uma letra:\n",
      "A letra digitada foi q.\n",
      "\n",
      "Digite uma letra:\n",
      "A letra digitada foi w.\n",
      "\n",
      "Digite uma letra:\n",
      "A letra digitada foi e.\n",
      "\n"
     ]
    }
   ],
   "source": [
    "valor = ''\n",
    "vogal = ['a','e','i','o','u']\n",
    "\n",
    "while valor not in vogal:\n",
    "\n",
    "    print ('Digite uma letra:')\n",
    "    valor = input('')\n",
    "    \n",
    "    print(f'A letra digitada foi {valor}.')\n",
    "    print()\n",
    "\n",
    "\n",
    "\n",
    "\n"
   ]
  },
  {
   "cell_type": "markdown",
   "id": "a6deec0a-e737-4a96-9d15-76fbc5216253",
   "metadata": {},
   "source": [
    "---"
   ]
  },
  {
   "cell_type": "markdown",
   "id": "2f31bd8e-f02e-4630-a7f4-2c296ea6a2c4",
   "metadata": {},
   "source": [
    "### Exercício 05\n",
    "\n",
    "Crie uma variável com o valor 1 e faça um loop while pedindo para o usuário inserir um número inteiro e enquanto o usuário não inserir um valor **divisível por 3** continue executando o código."
   ]
  },
  {
   "cell_type": "code",
   "execution_count": 29,
   "id": "917e7b34-bc31-4556-8be9-d49d558e874f",
   "metadata": {},
   "outputs": [
    {
     "name": "stdout",
     "output_type": "stream",
     "text": [
      "Digite um valor divisível por 3: \n",
      "\n",
      "Digite um valor divisível por 3: \n",
      "\n",
      "Digite um valor divisível por 3: \n",
      "\n",
      "O número 3 é divisível por 3.\n"
     ]
    }
   ],
   "source": [
    "valor = 1\n",
    "\n",
    "while valor % 3 != 0:\n",
    "\n",
    "    print(\"Digite um valor divisível por 3: \")\n",
    "    valor = int(input(''))\n",
    "    print()\n",
    "\n",
    "print(f'O número {valor} é divisível por 3.')\n",
    "    \n",
    "\n",
    "\n"
   ]
  },
  {
   "cell_type": "markdown",
   "id": "c174efc7-c12d-4173-b77f-e05c28d3cd52",
   "metadata": {},
   "source": [
    "---"
   ]
  },
  {
   "cell_type": "markdown",
   "id": "7426b6c3-b5f5-450e-9cfe-7c99974038ff",
   "metadata": {},
   "source": [
    "### Exercício 06\n",
    "\n",
    "Crie um contator com o valor 0 e faça um loop while pedindo para o usuário inserir um número inteiro e enquanto o usuário não inserir um valor **menor que 10 OU maior que 20** continue executando o código."
   ]
  },
  {
   "cell_type": "code",
   "execution_count": 42,
   "id": "61ae61e0-7c11-4f43-bf3d-d89a74d11407",
   "metadata": {},
   "outputs": [
    {
     "name": "stdout",
     "output_type": "stream",
     "text": [
      "Digite um número:\n",
      "Digite um número:\n",
      "Digite um número:\n",
      "Fim\n"
     ]
    }
   ],
   "source": [
    "contador = 0\n",
    "\n",
    "while contador < 10 or contador >20:\n",
    "    print('Digite um número:')\n",
    "    contador = int(input(\"\"))\n",
    "\n",
    "print('Fim')\n",
    "\n",
    "\n"
   ]
  },
  {
   "cell_type": "markdown",
   "id": "b91fca52-ea24-474a-a953-c1f7d6ff622d",
   "metadata": {},
   "source": [
    "---"
   ]
  },
  {
   "cell_type": "markdown",
   "id": "8cded626-7d89-44a8-b5ba-9907722b6da1",
   "metadata": {},
   "source": [
    "### Exercício 07\n",
    "\n",
    "Crie uma variável com o valor '' e utilizando uma estrutura de repetição while, faça programa que peça para o usuário **'digitar a senha do programa'** e enquanto o usuário não digitar a palavra **'segredo'** continue executando o código."
   ]
  },
  {
   "cell_type": "code",
   "execution_count": 45,
   "id": "a0aa84ff-cdc8-4944-94cd-586e7d589e8a",
   "metadata": {},
   "outputs": [
    {
     "name": "stdout",
     "output_type": "stream",
     "text": [
      "Digite sua senha: \n",
      "\n",
      "Digite sua senha: \n",
      "\n",
      "Digite sua senha: \n",
      "\n",
      "Digite sua senha: \n",
      "\n",
      "Acesso liberado!\n"
     ]
    }
   ],
   "source": [
    "valor = ''\n",
    "\n",
    "while valor != \"segredo\":\n",
    "    print('Digite sua senha: ')\n",
    "    valor = input('')\n",
    "    print()\n",
    "print(\"Acesso liberado!\")\n",
    "\n"
   ]
  },
  {
   "cell_type": "markdown",
   "id": "a9edd058-80ac-4172-9539-c16f6ebefbd2",
   "metadata": {},
   "source": [
    "---"
   ]
  },
  {
   "cell_type": "markdown",
   "id": "2731e88d-620b-4881-8b43-419ffe35e443",
   "metadata": {},
   "source": [
    "### Exercício 08\n",
    "\n",
    "Crie um contator com o valor 0 e utilizando uma estrutura de repetição while crie um programa que imprima 5 vezes a frase **'Programação em Python'**.\n",
    "\n",
    "**Dica:**  \n",
    "_Utilize um contador_"
   ]
  },
  {
   "cell_type": "code",
   "execution_count": 46,
   "id": "e8ab5ad4-f3f7-43f0-a808-464b59c20726",
   "metadata": {},
   "outputs": [
    {
     "name": "stdout",
     "output_type": "stream",
     "text": [
      "Programação em Python!\n",
      "Programação em Python!\n",
      "Programação em Python!\n",
      "Programação em Python!\n",
      "Programação em Python!\n",
      "Fim\n"
     ]
    }
   ],
   "source": [
    "valor = 0\n",
    "\n",
    "while valor <5:\n",
    "    print('Programação em Python!')\n",
    "    valor+=1\n",
    "print('Fim')\n",
    "\n"
   ]
  },
  {
   "cell_type": "markdown",
   "id": "da3fa10e-b2d2-4439-a151-58ebecdf91bd",
   "metadata": {},
   "source": [
    "---"
   ]
  },
  {
   "cell_type": "markdown",
   "id": "1586e09e-4614-488b-8d33-5dc8d5cc4588",
   "metadata": {
    "tags": []
   },
   "source": [
    "### Exercício 09\n",
    "\n",
    "Crie uma variável com uma lista vazia [] e um contator com valor 0 e em seguida faça um loop while onde cada iteração pergunte **'qual fruta o usuário deseja adicionar a lista'**, enquanto a lista não tiver 5 frutas continue executando o código.  \n",
    "\n",
    "Após o fim do loop imprima os itens da lista.  \n",
    "\n",
    "**Dica:**  \n",
    "_Utilize um contador_"
   ]
  },
  {
   "cell_type": "code",
   "execution_count": 51,
   "id": "7abaac3b-e63c-4438-beb5-efb0e02ba727",
   "metadata": {
    "tags": []
   },
   "outputs": [
    {
     "name": "stdout",
     "output_type": "stream",
     "text": [
      "Digite uma fruta: \n",
      "Abacaxi\n",
      "\n",
      "Digite uma fruta: \n",
      "Manga\n",
      "\n",
      "Digite uma fruta: \n",
      "Pera\n",
      "\n",
      "Digite uma fruta: \n",
      "Maçã\n",
      "\n",
      "Digite uma fruta: \n",
      "Uva\n",
      "\n",
      "['Abacaxi', 'Manga', 'Pera', 'Maçã', 'Uva']\n"
     ]
    }
   ],
   "source": [
    "lista = []\n",
    "contador = 0\n",
    "\n",
    "while contador <5:\n",
    "\n",
    "    print('Digite uma fruta: ')\n",
    "    fruta = input(\"\").title()\n",
    "    print(f'{fruta}')\n",
    "\n",
    "    lista.append(fruta)\n",
    "\n",
    "    print()\n",
    "\n",
    "    contador+=1\n",
    "\n",
    "print(lista)\n",
    "\n",
    "\n"
   ]
  },
  {
   "cell_type": "markdown",
   "id": "7aee4a32-8157-45a4-adb9-e519f941f353",
   "metadata": {},
   "source": [
    "---"
   ]
  },
  {
   "cell_type": "markdown",
   "id": "c423400e-5e2a-426d-86ed-5e29f6d351b9",
   "metadata": {},
   "source": [
    "### Exercício 10\n",
    "\n",
    "Crie uma variável com o valor 0 e faça um loop while pedindo para o usuário inserir um número inteiro e enquanto o usuário inserir um valor **maior ou igual a zero** continue executando o código."
   ]
  },
  {
   "cell_type": "code",
   "execution_count": 72,
   "id": "5ef50124-40eb-43bd-8235-55d450ee0b5b",
   "metadata": {},
   "outputs": [
    {
     "name": "stdout",
     "output_type": "stream",
     "text": [
      "Digite um valor: \n",
      "\n",
      "Digite um valor: \n",
      "\n",
      "Digite um valor: \n",
      "\n",
      "Digite um valor: \n",
      "\n",
      "Digite um valor: \n",
      "\n",
      "Digite um valor: \n",
      "\n",
      "Fim\n"
     ]
    }
   ],
   "source": [
    "valor = 0\n",
    "\n",
    "while valor>=0:\n",
    "\n",
    "    print (\"Digite um valor: \")\n",
    "    valor = int(input(\"\"))\n",
    "    \n",
    "    print()\n",
    "    \n",
    "print(\"Fim\")\n",
    "\n",
    "\n"
   ]
  },
  {
   "cell_type": "markdown",
   "id": "e3a6c527-ccfc-457c-9400-002802de044b",
   "metadata": {},
   "source": [
    "---"
   ]
  },
  {
   "cell_type": "markdown",
   "id": "16d3fc53-96a9-4edf-8688-c23a60ab67ab",
   "metadata": {},
   "source": [
    "### Exercício 11\n",
    "\n",
    "Crie uma variável com o valor '' e utilizando uma estrutura de repetição while, faça programa que peça para o usuário **'Digitar um texto'** e enquanto o usuário digitar uma palavra com **menos que 6** caracteres continue executando o código."
   ]
  },
  {
   "cell_type": "code",
   "execution_count": 75,
   "id": "38bb2a63-b5ee-49f5-ab8e-32ad0579a2e9",
   "metadata": {},
   "outputs": [
    {
     "name": "stdout",
     "output_type": "stream",
     "text": [
      "Dgite um texto: \n",
      "Dgite um texto: \n",
      "Dgite um texto: \n",
      "O texto digitado foi aaaaaa\n"
     ]
    }
   ],
   "source": [
    "valor = ''\n",
    "\n",
    "while len(valor) <6:\n",
    "    \n",
    "    print(\"Dgite um texto: \")\n",
    "    valor = input(\"\")\n",
    "\n",
    "print(f'O texto digitado foi {valor}')\n"
   ]
  },
  {
   "cell_type": "markdown",
   "id": "b277f9bd-6c08-4376-84ce-2366ecfcdcc3",
   "metadata": {},
   "source": [
    "---"
   ]
  },
  {
   "cell_type": "markdown",
   "id": "f9540547-db11-4bd1-8307-064b82f09c20",
   "metadata": {},
   "source": [
    "### Exercício 12\n",
    "\n",
    "Crie uma variável **total** com o valor igual a 0 e em seguida crie um laço while com a condição verdadeira, exemplo:\n",
    "\n",
    "```python\n",
    "while True:\n",
    "```\n",
    "\n",
    "Dentro do laço peça para o usuário digitar um número inteiro, cada vez que o usuário digitar um número some o valor informado a variável **total**. \n",
    "\n",
    "Quando a variável **total** for **maior que 100**, então saia do laço (Break)"
   ]
  },
  {
   "cell_type": "code",
   "execution_count": 79,
   "id": "422e0260-d6d9-4930-9601-b39d209a43fd",
   "metadata": {
    "tags": []
   },
   "outputs": [
    {
     "name": "stdout",
     "output_type": "stream",
     "text": [
      "Digite um número: \n",
      "20\n",
      "Digite um número: \n",
      "40\n",
      "Digite um número: \n",
      "60\n",
      "Digite um número: \n",
      "80\n",
      "Digite um número: \n",
      "100\n",
      "Digite um número: \n",
      "120\n",
      "o total da conta é R$ 120\n"
     ]
    }
   ],
   "source": [
    "total = 0 \n",
    "\n",
    "while True:\n",
    "\n",
    "    print(\"Digite um número: \")\n",
    "    numero = int(input(\"\"))\n",
    "    total +=numero\n",
    "    print(f'{total}')\n",
    "\n",
    "    if total >100:\n",
    "        print(f\"o total da conta é R$ {total}.\")\n",
    "        break\n"
   ]
  },
  {
   "cell_type": "markdown",
   "id": "d2f352c3-9a73-4042-986a-2710abbebf85",
   "metadata": {},
   "source": [
    "---"
   ]
  }
 ],
 "metadata": {
  "kernelspec": {
   "display_name": "Python 3 (ipykernel)",
   "language": "python",
   "name": "python3"
  },
  "language_info": {
   "codemirror_mode": {
    "name": "ipython",
    "version": 3
   },
   "file_extension": ".py",
   "mimetype": "text/x-python",
   "name": "python",
   "nbconvert_exporter": "python",
   "pygments_lexer": "ipython3",
   "version": "3.11.2"
  }
 },
 "nbformat": 4,
 "nbformat_minor": 5
}
