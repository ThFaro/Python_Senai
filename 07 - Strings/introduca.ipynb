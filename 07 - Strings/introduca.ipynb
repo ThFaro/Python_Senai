{
 "cells": [
  {
   "cell_type": "markdown",
   "metadata": {},
   "source": []
  },
  {
   "cell_type": "code",
   "execution_count": 3,
   "metadata": {},
   "outputs": [
    {
     "name": "stdout",
     "output_type": "stream",
     "text": [
      "TODA STRING POSSÚI MÉTODOS.\n",
      "TODA STRING POSSÚI MÉTODOS.\n"
     ]
    }
   ],
   "source": [
    "# .upper -> converte TODA a string para maiúscula.\n",
    "\n",
    "print (\"Toda string possúi métodos.\".upper())\n",
    "\n",
    "maiusculo = (\"toda string possúi métodos.\")\n",
    "print(maiusculo.upper())"
   ]
  },
  {
   "cell_type": "code",
   "execution_count": 4,
   "metadata": {},
   "outputs": [
    {
     "name": "stdout",
     "output_type": "stream",
     "text": [
      "toda string possúi métodos.\n",
      "toda string possúi métodos.\n"
     ]
    }
   ],
   "source": [
    "# .lower -> converte TODA a string para minúscula.\n",
    "\n",
    "print (\"TODA STRING POSSÚI MÉTODOS.\".lower())\n",
    "\n",
    "minusculo = (\"toda string possúi métodos.\")\n",
    "print(maiusculo.lower())"
   ]
  },
  {
   "cell_type": "code",
   "execution_count": 5,
   "metadata": {},
   "outputs": [
    {
     "name": "stdout",
     "output_type": "stream",
     "text": [
      "Escola Senai Luiz Pagliato\n"
     ]
    }
   ],
   "source": [
    "# .title() -> Converte o primeiro caractere de cada palavra da string para maiúsculo\n",
    "\n",
    "texto = \"escola senai luiz pagliato\" \n",
    "print(texto.title())"
   ]
  },
  {
   "cell_type": "code",
   "execution_count": 6,
   "metadata": {},
   "outputs": [
    {
     "name": "stdout",
     "output_type": "stream",
     "text": [
      "Antes do replace\n",
      "Depois do replace\n"
     ]
    }
   ],
   "source": [
    "# .replace() Substitui uma parte da string pelo valor desejado.\n",
    "\n",
    "texto = \"Antes do replace\"\n",
    "print(texto)\n",
    "print(texto.replace('Antes',\"Depois\"))\n"
   ]
  },
  {
   "cell_type": "code",
   "execution_count": 9,
   "metadata": {},
   "outputs": [
    {
     "name": "stdout",
     "output_type": "stream",
     "text": [
      "    escola senai luiz pagliato    \n",
      "escola senai luiz pagliato\n"
     ]
    }
   ],
   "source": [
    "# .strip() Remove o espaços em branco das extremidades\n",
    "\n",
    "texto = \"    escola senai luiz pagliato    \" \n",
    "print(texto)\n",
    "print(texto.strip())\n"
   ]
  },
  {
   "cell_type": "code",
   "execution_count": 12,
   "metadata": {},
   "outputs": [
    {
     "name": "stdout",
     "output_type": "stream",
     "text": [
      "4\n",
      "A letra \"e\" aparece 1 vezes.\n",
      "A letra \"e\" aparece 2 vezes.\n",
      "4 2\n",
      "6\n"
     ]
    }
   ],
   "source": [
    "# .count() Retorna a quantidade de vezes que um onehto aparece na string\n",
    "\n",
    "texto = \"Escola senai luiz pagliato\" \n",
    "print (texto.count('a'))\n",
    "print(f'A letra \"e\" aparece {texto.count(\"e\")} vezes.')\n",
    "print(f'A letra \"e\" aparece {texto.lower().count(\"e\")} vezes.')\n",
    "print (texto.count(\"a\"), texto .count(\"o\"))\n",
    "print (texto.count(\"a\") + texto .count(\"o\"))"
   ]
  },
  {
   "cell_type": "code",
   "execution_count": 13,
   "metadata": {},
   "outputs": [
    {
     "name": "stdout",
     "output_type": "stream",
     "text": [
      "007\n"
     ]
    }
   ],
   "source": [
    "# .zfill() Complementa uma string com ZERO a esquerda.\n",
    "\n",
    "agente = '7'\n",
    "print(f\"{agente.zfill(3)}\")"
   ]
  },
  {
   "cell_type": "code",
   "execution_count": 16,
   "metadata": {},
   "outputs": [
    {
     "name": "stdout",
     "output_type": "stream",
     "text": [
      "False\n",
      "True\n",
      "False\n",
      "True\n"
     ]
    }
   ],
   "source": [
    "# .endswith('valor') retorna verdadeiro se a a string terminar com o valor especificado OBS: retorna em booleano\n",
    "\n",
    "texto = ('Sorocaba - SP')\n",
    "print(texto.endswith('Sorocaba'))\n",
    "print(texto.endswith('SP'))\n",
    "\n",
    "# .startswith('valor') retorna verdadeiro se a a string começar com o valor especificado OBS: retorna em booleano\n",
    "\n",
    "texto = ('Sorocaba - SP')\n",
    "print(texto.startswith('SP'))\n",
    "print(texto.startswith('Sorocaba'))"
   ]
  },
  {
   "cell_type": "code",
   "execution_count": 19,
   "metadata": {},
   "outputs": [
    {
     "name": "stdout",
     "output_type": "stream",
     "text": [
      "True\n",
      "False\n",
      "False\n",
      "True\n"
     ]
    }
   ],
   "source": [
    "# .isalpha() Retorna booleano verdadeiro se todos os caracteres \n",
    "#forem letras do alfabeto. OBS: inclui maiuscula e minuscula#\n",
    "\n",
    "print ('abc'.isalpha())\n",
    "print ('123'.isalpha())\n",
    "\n",
    "# .isdecimal() Retorna booleano verdadeiro se todos os caracteres \n",
    "#forem números inteiros e positivos\n",
    "\n",
    "print ('abc'.isdecimal())\n",
    "print ('123'.isdecimal())"
   ]
  },
  {
   "cell_type": "code",
   "execution_count": 22,
   "metadata": {},
   "outputs": [
    {
     "name": "stdout",
     "output_type": "stream",
     "text": [
      "True\n",
      "False\n"
     ]
    }
   ],
   "source": [
    "# .isalnum() retorna booleano verdadeiro se os caracteres forem alfanuméricos.\n",
    "\n",
    "senha = (\"senai1234\")\n",
    "print(senha.isalnum())\n",
    "print(\"123ab/\".isalnum())"
   ]
  },
  {
   "cell_type": "code",
   "execution_count": 28,
   "metadata": {},
   "outputs": [
    {
     "name": "stdout",
     "output_type": "stream",
     "text": [
      "26\n",
      "Celular inválido\n"
     ]
    }
   ],
   "source": [
    "# Função len('texto') conta quanto caracteres tem denteo da string\n",
    "\n",
    "texto = \"escola senai luiz pagliato\"\n",
    "\n",
    "print(len(texto))\n",
    "\n",
    "celular = input('Qual o seu celular sem ddd: ')\n",
    "if len(celular) == 9:\n",
    "    print('Celular válido')\n",
    "else:\n",
    "    print('Celular inválido')\n",
    "\n"
   ]
  },
  {
   "cell_type": "code",
   "execution_count": 33,
   "metadata": {},
   "outputs": [
    {
     "name": "stdout",
     "output_type": "stream",
     "text": [
      "Programação em Python.\n",
      "Python \n",
      "Python \n",
      "Python \n",
      "Python \n",
      "Python \n",
      "\n"
     ]
    }
   ],
   "source": [
    "# string com operadores\n",
    "\n",
    "texto1 = \"Programação\"\n",
    "texto2 = \"Python\"\n",
    "print(texto1 + ' em ' + texto2 + \".\")\n",
    "\n",
    "texto = \"Python \\n\"\n",
    "print(texto*5)"
   ]
  },
  {
   "cell_type": "code",
   "execution_count": null,
   "metadata": {},
   "outputs": [],
   "source": []
  }
 ],
 "metadata": {
  "kernelspec": {
   "display_name": "Python 3",
   "language": "python",
   "name": "python3"
  },
  "language_info": {
   "codemirror_mode": {
    "name": "ipython",
    "version": 3
   },
   "file_extension": ".py",
   "mimetype": "text/x-python",
   "name": "python",
   "nbconvert_exporter": "python",
   "pygments_lexer": "ipython3",
   "version": "3.11.2"
  },
  "orig_nbformat": 4
 },
 "nbformat": 4,
 "nbformat_minor": 2
}
