{
 "cells": [
  {
   "cell_type": "markdown",
   "id": "8423575c-e99d-4f19-bb0c-30c709d0581e",
   "metadata": {},
   "source": [
    "# <font color='OrangeRed'><center>Extra - String</center></font>"
   ]
  },
  {
   "cell_type": "markdown",
   "id": "56496ba3-b3f5-406c-b95a-451ba2fd1f00",
   "metadata": {},
   "source": [
    "### Exercício 01\n",
    "\n",
    "Faça um programa que peça um e-mail ao usuário para valiar se o ele digitou um e-mail do SENAI válido e em seguida crie a condicional abaixo:\n",
    "\n",
    "* Se o usuário digitou um e-mail válido retorne 'E-MAIL VÁLIDO'\n",
    "* Senão retorne 'E-MAIL INVÁLIDO'\n",
    "\n",
    "**Observação**  \n",
    "_Para o e-mail do SENAI ser considerado válido ele precisa terminar os caracteres **@senai.com.br**_"
   ]
  },
  {
   "cell_type": "code",
   "execution_count": 2,
   "id": "f1e2c34f-6798-49ff-9cbe-3b8c30886491",
   "metadata": {
    "tags": []
   },
   "outputs": [
    {
     "name": "stdout",
     "output_type": "stream",
     "text": [
      "Email inválido\n"
     ]
    }
   ],
   "source": [
    "email = input(\"Digite um email\")\n",
    "\n",
    "if email.endswith('@senai.com.br'):\n",
    "    print('Email válido')\n",
    "else:\n",
    "    print (\"Email inválido\")\n",
    "\n"
   ]
  },
  {
   "cell_type": "markdown",
   "id": "ba8af6dc-a616-491a-b28b-e05f05af2a3a",
   "metadata": {},
   "source": [
    "---"
   ]
  },
  {
   "cell_type": "markdown",
   "id": "47aedddf-26f5-482c-a6e6-5f80fb3556fd",
   "metadata": {},
   "source": [
    "### Exercício 02\n",
    "\n",
    "Faça um programa que peça uma senha ao usuário, a senha correta é **PASSWORD**, porém o programa deve permitir o acesso mesmo que o usuário escreva a senha variando entre caixa alta e caixa baixa, por exemplo:\n",
    "\n",
    "* PASSWORD - Correto\n",
    "* PASSword - Correto\n",
    "* password - Correto\n",
    "* Password - Correto\n",
    "* PassWord - Correto\n",
    "\n",
    "Em seguida crie a condicional abaixo:\n",
    "\n",
    "* Se o usuário escrever a senha correta retorne 'Acesso liberado!'\n",
    "* Senão retorne 'Senha incorreta, por favor tente novamente.'"
   ]
  },
  {
   "cell_type": "code",
   "execution_count": 13,
   "id": "f0d69763-66d5-4911-938d-536cf7915aed",
   "metadata": {},
   "outputs": [
    {
     "name": "stdout",
     "output_type": "stream",
     "text": [
      "Acesso liberado!\n"
     ]
    }
   ],
   "source": [
    "senha =  input(\"Digite uma senha: \").upper()\n",
    "\n",
    "if senha == \"PASSWORD\" :\n",
    "    print(\"Acesso liberado!\")\n",
    "else:\n",
    "    print('Acesso negado')\n",
    "\n"
   ]
  },
  {
   "cell_type": "markdown",
   "id": "f3cb629c-b1b0-40a4-ba78-437ce448724b",
   "metadata": {},
   "source": [
    "---"
   ]
  },
  {
   "cell_type": "markdown",
   "id": "4dab8475-f2ca-47f6-aa39-cfcc62d3bcef",
   "metadata": {},
   "source": [
    "### Exercício 03\n",
    "\n",
    "O CPF é um documento feito pela Receita Federal e serve para identificar os contribuintes, atualmente ele possui a numeração com 11 dígitos.\n",
    "\n",
    "Crie um programa que peça para o usuario digitir o CPF dele e caso o valor digitado contenha menos do que 11 dígitos complete os dígitos faltantes com zero a esquerda, por exemplo:\n",
    "\n",
    "**CPF:**  \n",
    "_12345678_  \n",
    "**Retorne:**  \n",
    "_00012345678_\n",
    "\n",
    "Por fim, imprima o CPF do usuário com 11 dígitos."
   ]
  },
  {
   "cell_type": "code",
   "execution_count": 16,
   "id": "f41ae54a-c611-4789-88a9-92fc63551134",
   "metadata": {
    "tags": []
   },
   "outputs": [
    {
     "name": "stdout",
     "output_type": "stream",
     "text": [
      "Cpf preenchido pelo sistema 00000012345\n"
     ]
    }
   ],
   "source": [
    "cpf = input (\"Digite seu cpf: \")\n",
    "\n",
    "if len(cpf)==11:\n",
    "    print (f\"Cpf correto: {cpf}\")\n",
    "else:\n",
    "    print(f\"Cpf preenchido pelo sistema {cpf.zfill(11)}\")\n",
    "\n",
    "\n"
   ]
  },
  {
   "cell_type": "markdown",
   "id": "2862dfbf-b7cb-4c8c-8aa7-34ba01e74c53",
   "metadata": {},
   "source": [
    "---"
   ]
  },
  {
   "cell_type": "markdown",
   "id": "6dbf619d-af87-4012-9885-789e40ce042e",
   "metadata": {},
   "source": [
    "### Exercício 04\n",
    "\n",
    "Faça um programa que peça um número para o usuário e em seguida crie uma validação para saber se o valor digitado é um número inteiro ou não, sendo:\n",
    "\n",
    "* Se o valor digitado for um número inteiro imprima 'O número digitado foi o {numero}.'\n",
    "* Senão retorne 'O valor digitado não é um número inteiro.'\n"
   ]
  },
  {
   "cell_type": "code",
   "execution_count": 18,
   "id": "ab9c1cf8-6064-48e3-84c5-fc14da5f540d",
   "metadata": {
    "tags": []
   },
   "outputs": [
    {
     "name": "stdout",
     "output_type": "stream",
     "text": [
      "O valor digitado não é um inteiro\n"
     ]
    }
   ],
   "source": [
    "numero = input('Digite um número: ')\n",
    "\n",
    "if numero.isdecimal():\n",
    "    print (f\"O número digitado foi o {numero}\")\n",
    "else:\n",
    "    print ('O valor digitado não é um inteiro')\n",
    "\n"
   ]
  },
  {
   "cell_type": "markdown",
   "id": "9239c2b7-145e-4176-b729-d61810f780da",
   "metadata": {},
   "source": [
    "---"
   ]
  },
  {
   "cell_type": "markdown",
   "id": "5fb7d12f-67f7-4b82-b244-a8d0747b6dd4",
   "metadata": {
    "tags": []
   },
   "source": [
    "### Exercício 05\n",
    "\n",
    "Faça um programa que peça para o usuário criar uma nova senha, porém por questões de segurança a senha deve atender os requisitos abaixo:\n",
    "\n",
    "* A senha deve conter no mínimo 8 caracteres\n",
    "* A senha deve ser composta por letras e/ou números\n",
    "* A senha não pode conter espaços em branco ou caracteres especiais\n",
    "\n",
    "Em seguida crie a condição abaixo:\n",
    "\n",
    "* Se a senha atender os requisitos acima retorne 'Nova senha cadastrada com sucesso!'\n",
    "* Senão retorne 'Sua senha não atende os requisitos.'"
   ]
  },
  {
   "cell_type": "code",
   "execution_count": 22,
   "id": "67ca62db-190c-4deb-8aa8-5d534b05682b",
   "metadata": {
    "tags": []
   },
   "outputs": [
    {
     "name": "stdout",
     "output_type": "stream",
     "text": [
      "A senha não atende os requisitos.\n"
     ]
    }
   ],
   "source": [
    "senha = input(\"Crie uma nova senha: \")\n",
    "\n",
    "if len(senha) >= 8 and senha.isalnum:\n",
    "    print('Nova senha cadastrada com sucesso!')\n",
    "else:\n",
    "    print('A senha não atende os requisitos.')\n",
    "\n"
   ]
  },
  {
   "cell_type": "markdown",
   "id": "491a3e95-bbb7-4044-bc32-a1ac9f4d93fb",
   "metadata": {},
   "source": [
    "---"
   ]
  },
  {
   "cell_type": "markdown",
   "id": "12100321-d4cf-475c-8a55-e709f8fb2b1d",
   "metadata": {},
   "source": [
    "### Exercício 06\n",
    "\n",
    "Faça um programa que peça para o usuário digitar um **número com ponto flutuante** e em seguida converta o caracter '.' - ponto - por ',' - vírgula -, por exemplo:\n",
    "\n",
    "**Antes**  \n",
    "_Valor da conta: R$20.50_\n",
    "\n",
    "**Depois**  \n",
    "_Valor da conta: R$20,50_"
   ]
  },
  {
   "cell_type": "code",
   "execution_count": 1,
   "id": "3e7f7c38-0453-4c64-af47-39908c0ea2ef",
   "metadata": {
    "tags": []
   },
   "outputs": [
    {
     "name": "stdout",
     "output_type": "stream",
     "text": [
      "10,1\n"
     ]
    }
   ],
   "source": [
    "numero = input(\"Digite um número decimal: \")\n",
    "print(numero.replace('.', ','))\n",
    "\n"
   ]
  },
  {
   "cell_type": "markdown",
   "id": "9fafa171-8be0-4d59-8d7f-9a5f19545469",
   "metadata": {},
   "source": [
    "---"
   ]
  },
  {
   "cell_type": "markdown",
   "id": "9ad50e68-3567-47e6-9a5f-850a5159b1f2",
   "metadata": {},
   "source": [
    "### Exercício 07\n",
    "\n",
    "Faça um programa que peça para o usuário digitar qualquer entrada de texto e em seguida crie a condição abaixo:\n",
    "\n",
    "* Se os valores digitados forem apenas números retorne 'Foram digitados apenas NÚMEROS'\n",
    "* Se os valores digitados forem apenas letras retorne 'Foram digitados apenas LETRAS'\n",
    "* Se os valores digitados forem letras e números retorne 'Foram digitados LETRAS e NÚMEROS'\n",
    "* Senão retorne 'Valor não identificado'"
   ]
  },
  {
   "cell_type": "code",
   "execution_count": 6,
   "id": "b2cf5275-67e3-4caa-b492-08d60c65892b",
   "metadata": {
    "tags": []
   },
   "outputs": [
    {
     "name": "stdout",
     "output_type": "stream",
     "text": [
      "Valor nao identificado\n"
     ]
    }
   ],
   "source": [
    "texto = input ('Digite umm texto')\n",
    "\n",
    "if texto.isalpha():\n",
    "    print(\"O texto digitado só tem letras\")\n",
    "\n",
    "elif texto.isdecimal():\n",
    "    print('O texto digitado tem somente números')\n",
    "\n",
    "elif texto.isalnum():\n",
    "    print('O texto digitado tem letrase números')\n",
    "\n",
    "else:\n",
    "    print('Valor nao identificado')\n",
    "\n"
   ]
  },
  {
   "cell_type": "markdown",
   "id": "48becb2e-b5b3-4319-89e1-052268624a3e",
   "metadata": {},
   "source": [
    "---"
   ]
  },
  {
   "cell_type": "markdown",
   "id": "1804504d-faf5-4dbe-917d-8c23832233be",
   "metadata": {},
   "source": [
    "### Exercício 08\n",
    "\n",
    "Faça um programa que peça para o usuário digitar o RG dele incluindo os pontos e traço e em seguinda imprima o número do RG sem eles, por exemplo:\n",
    "\n",
    "**Entrada:**  \n",
    "_022.284.529-55_  \n",
    "\n",
    "**Saída:**  \n",
    "_02228452955_"
   ]
  },
  {
   "cell_type": "code",
   "execution_count": 7,
   "id": "7cc907fa-9b5e-4ab0-8983-cb4bb83d17d8",
   "metadata": {
    "tags": []
   },
   "outputs": [
    {
     "name": "stdout",
     "output_type": "stream",
     "text": [
      "27981995x\n"
     ]
    }
   ],
   "source": [
    "rg = input('Digite seu RG (INCLUA \".\" e \"-\")')\n",
    "print(rg.replace('.','').replace('-',''))\n",
    "\n"
   ]
  },
  {
   "cell_type": "markdown",
   "id": "f141de8d-af24-4b51-9ff3-63f4aa3ead6b",
   "metadata": {},
   "source": [
    "---"
   ]
  },
  {
   "cell_type": "markdown",
   "id": "ea7dbd0c-4323-43aa-9f2c-556825f2ae28",
   "metadata": {},
   "source": [
    "### Exercício 09\n",
    "\n",
    "Faça um programa para validar a senha digitada pelo usuário, a senha deve atender os requisitos abaixo:\n",
    "\n",
    "* Conter apenas números\n",
    "* Conter entre 6 a 8 dígitos\n",
    "\n",
    "Em seguida crie a condição abaixo:\n",
    "\n",
    "* Se a senha atender os requisitos acima retorne 'Nova senha cadastrada!'\n",
    "* Senão retorne 'Sua senha não atende os requisitos.'"
   ]
  },
  {
   "cell_type": "code",
   "execution_count": 14,
   "id": "d2c85f3c-f38d-46ec-a56b-764ecac4d14d",
   "metadata": {
    "tags": []
   },
   "outputs": [
    {
     "name": "stdout",
     "output_type": "stream",
     "text": [
      "Senha não atende os requisitos.\n"
     ]
    }
   ],
   "source": [
    "senha = input(\"Digite a nova senha: \")\n",
    "\n",
    "if len(senha) >=6 and len(senha) <=8 and senha.isdecimal():\n",
    "    print (\"Nova senha cadastrada!\")\n",
    "\n",
    "else:\n",
    "    print(\"Senha não atende os requisitos.\")\n",
    "\n"
   ]
  },
  {
   "cell_type": "markdown",
   "id": "98eaa664-23ee-4ee9-94d1-4fe319d49762",
   "metadata": {},
   "source": [
    "---"
   ]
  },
  {
   "cell_type": "markdown",
   "id": "f0f84092-4b3f-43db-a7a9-8966793739ed",
   "metadata": {},
   "source": [
    "### Exercício 10\n",
    "\n",
    "Faça um programa que peça para o usuário digitar apenas o primeiro nome dele, em seguida verifique se o texto inserido é válido, ou seja, se ele não contém números ou caracteres especiais, sendo:\n",
    "\n",
    "* Se o texto inserido for válido retorne 'Olá {nome}!'\n",
    "* Senão retorne 'Nome inválido.'"
   ]
  },
  {
   "cell_type": "code",
   "execution_count": 18,
   "id": "4df4f84c-1bb0-4711-b11a-501d1ed57e65",
   "metadata": {
    "tags": []
   },
   "outputs": [
    {
     "name": "stdout",
     "output_type": "stream",
     "text": [
      "Olá Thiago.\n"
     ]
    }
   ],
   "source": [
    "nome = input(\"Digite seu primeiro nome: \")\n",
    "\n",
    "if nome.isalpha():\n",
    "    print(f\"Olá {nome.title()}.\")\n",
    "else:\n",
    "    print(\"Nome inválido.\")\n",
    "\n"
   ]
  },
  {
   "cell_type": "markdown",
   "id": "1ab58004-9269-40e2-b796-0e172aa2e1d0",
   "metadata": {},
   "source": [
    "---"
   ]
  },
  {
   "cell_type": "markdown",
   "id": "9058f3bd-ebf1-4521-b316-1d14ee72644e",
   "metadata": {},
   "source": [
    "### Exercício 11\n",
    "\n",
    "Faça um programa que peça para o usuário o código de rastreio e em seguida valide se o código inserido antende os requisitos abaixo:\n",
    "\n",
    "* O código deve iniciar com os caracteres 'SP'\n",
    "* O código deve finalizar com os caracteres 'BR'\n",
    "* O código deve conter exatamente 13 caracteres\n",
    "\n",
    "**Exemplo de um código válido:**  \n",
    "_SP123456785BR_\n",
    "\n",
    "Em seguida crie a condição abaixo:\n",
    "\n",
    "* Se o código de atender os requisitos acima retorne 'Seu pedido está a caminho!'\n",
    "* Senão retorne 'Código inválido. Por favor verifique o código digitado.'"
   ]
  },
  {
   "cell_type": "code",
   "execution_count": 21,
   "id": "14100a50-15cc-4488-988d-2618b0ce331b",
   "metadata": {
    "tags": []
   },
   "outputs": [
    {
     "name": "stdout",
     "output_type": "stream",
     "text": [
      "O pedido SP123456789BR está a caminho!\n"
     ]
    }
   ],
   "source": [
    "codigo = input(\"Qual o código de rastreio do produto: \").upper()\n",
    "\n",
    "if codigo.startswith('SP') and codigo.endswith('BR') and len(codigo)==13:\n",
    "    print(f\"O pedido {codigo} está a caminho!\")\n",
    "else:\n",
    "    print('Código inválido')\n",
    "\n"
   ]
  },
  {
   "cell_type": "markdown",
   "id": "88d86f03-2a70-4be3-9d6d-3d10445a9a3f",
   "metadata": {},
   "source": [
    "---"
   ]
  },
  {
   "cell_type": "markdown",
   "id": "e85c40f8-9d73-4c19-b4c0-4645ee51f3dd",
   "metadata": {},
   "source": [
    "### Exercício 12\n",
    "\n",
    "Faça um programa que peça para o usuário digitar uma única letra e retorne se a letra digitada é uma vogal ou consoante. O programa deve considerar vogais de caixa alta e caixa baixa."
   ]
  },
  {
   "cell_type": "code",
   "execution_count": 25,
   "id": "88763ce2-60fc-4933-b165-dd59b79d7742",
   "metadata": {},
   "outputs": [
    {
     "name": "stdout",
     "output_type": "stream",
     "text": [
      "A letra digitada foi: 'C'. Ela é uma consoante.\n"
     ]
    }
   ],
   "source": [
    "letra = input(\"Digite uma letra: \").upper()\n",
    "vogais = ['a','e','i', 'o', 'u']\n",
    "\n",
    "if letra == vogais:\n",
    "    print(f\"A letra digitada foi: '{letra}'. Ela é uma vogal.\")\n",
    "else:\n",
    "    print(f\"A letra digitada foi: '{letra}'. Ela é uma consoante.\")"
   ]
  },
  {
   "cell_type": "markdown",
   "id": "152b7e62-2ba0-4126-8469-a59aa5bf24f2",
   "metadata": {},
   "source": [
    "---"
   ]
  },
  {
   "cell_type": "markdown",
   "id": "a0971471-6602-42de-a938-2a33ac424b5d",
   "metadata": {},
   "source": [
    "### Exercício 13\n",
    "\n",
    "Faça um programa que retorne a quantidade de vogais que aparecem no texto abaixo, sendo:\n",
    "\n",
    "* O programa deve contabilizar as vogais de caixa alta e caixa baixa\n",
    "* O programa deve desconsiderar vogais com acento\n"
   ]
  },
  {
   "cell_type": "code",
   "execution_count": 55,
   "id": "b736e8ec-0ef3-47c0-933c-4840e8cc6893",
   "metadata": {
    "tags": []
   },
   "outputs": [
    {
     "name": "stdout",
     "output_type": "stream",
     "text": [
      "23 21 22 23 7\n",
      "3 1 1\n"
     ]
    }
   ],
   "source": [
    "texto = ''' O Serviço Nacional de Aprendizagem Industrial (SENAI) tem como objetivo estimular \n",
    "a inovação industrial por meio da educação, consultoria, pesquisa aplicada e serviços técnicos \n",
    "e tecnológicos que são decisivos para a competitividade das empresas do Estado e do Brasil.''' \n",
    "\n",
    "\n",
    "vogais_acento = 'á','é','í', 'ó', 'ú', 'ã'\n",
    "\n",
    "print (texto.count('a'),texto.count('e'),texto.count('i'),texto.count('o'),texto.count('u'))\n",
    "print (texto.count(\"ã\"),texto.count('é'),texto.count('ó'))"
   ]
  },
  {
   "cell_type": "markdown",
   "id": "ea346d53-7d93-4413-87c9-e317bd35c5fc",
   "metadata": {},
   "source": [
    "---"
   ]
  }
 ],
 "metadata": {
  "kernelspec": {
   "display_name": "Python 3 (ipykernel)",
   "language": "python",
   "name": "python3"
  },
  "language_info": {
   "codemirror_mode": {
    "name": "ipython",
    "version": 3
   },
   "file_extension": ".py",
   "mimetype": "text/x-python",
   "name": "python",
   "nbconvert_exporter": "python",
   "pygments_lexer": "ipython3",
   "version": "3.11.2"
  }
 },
 "nbformat": 4,
 "nbformat_minor": 5
}
