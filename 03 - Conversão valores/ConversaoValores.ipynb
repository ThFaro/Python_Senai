{
 "cells": [
  {
   "cell_type": "markdown",
   "id": "0ea3d17a-af0f-4aa2-8053-4bec9f862f65",
   "metadata": {},
   "source": [
    "# <font color='DarkBlue'><center>Imprimindo duas _Strings_ concatenadas </center></font>\n",
    "#### Usando _type para verificar o tipo do variável"
   ]
  },
  {
   "cell_type": "code",
   "execution_count": 5,
   "id": "f5255321-6b00-49ec-977c-dbfcdaacdd71",
   "metadata": {
    "tags": []
   },
   "outputs": [
    {
     "name": "stdin",
     "output_type": "stream",
     "text": [
      "Digite um numero: 10\n",
      "Digite um numero: 20\n"
     ]
    },
    {
     "name": "stdout",
     "output_type": "stream",
     "text": [
      "A SOMA DOS NUMEROS É 1020\n",
      "\n",
      "<class 'str'>\n",
      "<class 'str'>\n"
     ]
    }
   ],
   "source": [
    "numero1 = input('Digite um numero:')\n",
    "numero2 = input('Digite um numero:')\n",
    "\n",
    "print (f'A SOMA DOS NUMEROS É {numero1+numero2}')\n",
    "\n",
    "print('')\n",
    "print(type(numero1))\n",
    "print(type(numero2))"
   ]
  },
  {
   "cell_type": "markdown",
   "id": "5fdba185-a4ca-4bdc-b6c0-59ca075c02d6",
   "metadata": {},
   "source": [
    "## <font color='DarkBlue'><center>Convertendo _String_ em _Int_</center></font>"
   ]
  },
  {
   "cell_type": "markdown",
   "id": "2ee6b05a-09b5-408c-8487-49d2917b23a5",
   "metadata": {},
   "source": [
    "#### Convertendo dentro da interpolação"
   ]
  },
  {
   "cell_type": "code",
   "execution_count": 4,
   "id": "3d09f320-ea76-4c7a-bc69-ac3ab1d199b4",
   "metadata": {
    "tags": []
   },
   "outputs": [
    {
     "name": "stdin",
     "output_type": "stream",
     "text": [
      "Digite um numero: 10\n",
      "Digite um numero: 20\n"
     ]
    },
    {
     "name": "stdout",
     "output_type": "stream",
     "text": [
      "A SOMA DOS NUMEROS É 30\n"
     ]
    }
   ],
   "source": [
    "numero1 = input('Digite um numero:')\n",
    "numero2 = input('Digite um numero:')\n",
    "\n",
    "print (f'A SOMA DOS NUMEROS É {int(numero1)+int(numero2)}')"
   ]
  },
  {
   "cell_type": "markdown",
   "id": "99be5213-f24d-46e2-9ab3-7b584f39278c",
   "metadata": {},
   "source": [
    "#### Convertendo no input"
   ]
  },
  {
   "cell_type": "code",
   "execution_count": 6,
   "id": "43b0bcce-685a-4811-b9af-2bd67570c739",
   "metadata": {
    "tags": []
   },
   "outputs": [
    {
     "name": "stdin",
     "output_type": "stream",
     "text": [
      "Digite um numero: 10\n",
      "Digite um numero: 20\n"
     ]
    },
    {
     "name": "stdout",
     "output_type": "stream",
     "text": [
      "A SOMA DOS NUMEROS É 30\n"
     ]
    }
   ],
   "source": [
    "numero1 = int (input('Digite um numero:'))\n",
    "numero2 = int (input('Digite um numero:'))\n",
    "\n",
    "print (f'A SOMA DOS NUMEROS É {numero1+numero2}')"
   ]
  },
  {
   "cell_type": "markdown",
   "id": "43ebd952-e418-4a85-ad49-7897d00771e5",
   "metadata": {},
   "source": [
    "#### Convertendo após o input"
   ]
  },
  {
   "cell_type": "code",
   "execution_count": 7,
   "id": "da70d52f-e906-48cd-a5c4-7b686df3e432",
   "metadata": {
    "tags": []
   },
   "outputs": [
    {
     "name": "stdin",
     "output_type": "stream",
     "text": [
      "Digite um numero: 10\n",
      "Digite um numero: 20\n"
     ]
    },
    {
     "name": "stdout",
     "output_type": "stream",
     "text": [
      "A SOMA DOS NUMEROS É 30\n"
     ]
    }
   ],
   "source": [
    "numero1 = input('Digite um numero:')\n",
    "numero2 = input('Digite um numero:')\n",
    "\n",
    "numero1 = int(numero1)\n",
    "numero2 = int (numero2)\n",
    "\n",
    "print (f'A SOMA DOS NUMEROS É {numero1+numero2}')"
   ]
  },
  {
   "cell_type": "code",
   "execution_count": null,
   "id": "def0c489-0242-45d2-8f42-37176656b12a",
   "metadata": {},
   "outputs": [],
   "source": []
  }
 ],
 "metadata": {
  "kernelspec": {
   "display_name": "Python 3 (ipykernel)",
   "language": "python",
   "name": "python3"
  },
  "language_info": {
   "codemirror_mode": {
    "name": "ipython",
    "version": 3
   },
   "file_extension": ".py",
   "mimetype": "text/x-python",
   "name": "python",
   "nbconvert_exporter": "python",
   "pygments_lexer": "ipython3",
   "version": "3.11.5"
  }
 },
 "nbformat": 4,
 "nbformat_minor": 5
}
