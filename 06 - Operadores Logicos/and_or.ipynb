{
 "cells": [
  {
   "cell_type": "code",
   "execution_count": 3,
   "metadata": {},
   "outputs": [
    {
     "name": "stdout",
     "output_type": "stream",
     "text": [
      "Aluno reporovado!\n"
     ]
    }
   ],
   "source": [
    "nota = int(input('Digigte a nota do aluno: '))\n",
    "frequencia = int(input('Digite a frequência do aluno: '))\n",
    "\n",
    "if nota>=5 and frequencia>=75:\n",
    "    print(\"Aluno aprovado!\")\n",
    "else:\n",
    "    print(\"Aluno reporovado!\")"
   ]
  },
  {
   "cell_type": "code",
   "execution_count": 7,
   "metadata": {},
   "outputs": [
    {
     "name": "stdout",
     "output_type": "stream",
     "text": [
      "O funcionário tem direito a premiação\n"
     ]
    }
   ],
   "source": [
    "anos = int(input('Digite quantos anos o funcionário tem de serviço:'))\n",
    "desempenho = input(\"Digite o desempennho do funcionário:\")\n",
    "\n",
    "if anos >=3 or desempenho.lower() == \"bom\":\n",
    "    print ('O funcionário tem direito a premiação.')\n",
    "else:\n",
    "    print('O funcionário não tem direito a premiação')"
   ]
  },
  {
   "cell_type": "code",
   "execution_count": null,
   "metadata": {},
   "outputs": [],
   "source": []
  }
 ],
 "metadata": {
  "kernelspec": {
   "display_name": "Python 3",
   "language": "python",
   "name": "python3"
  },
  "language_info": {
   "codemirror_mode": {
    "name": "ipython",
    "version": 3
   },
   "file_extension": ".py",
   "mimetype": "text/x-python",
   "name": "python",
   "nbconvert_exporter": "python",
   "pygments_lexer": "ipython3",
   "version": "3.11.2"
  },
  "orig_nbformat": 4
 },
 "nbformat": 4,
 "nbformat_minor": 2
}
