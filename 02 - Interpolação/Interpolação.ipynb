{
 "cells": [
  {
   "cell_type": "markdown",
   "id": "29794b70-4e9a-4c0c-ae04-7ec921b2545a",
   "metadata": {},
   "source": [
    "## **INTERPOLAÇÃO**"
   ]
  },
  {
   "cell_type": "code",
   "execution_count": 2,
   "id": "bce22353-087e-4eff-b096-5158e182cf61",
   "metadata": {},
   "outputs": [
    {
     "name": "stdout",
     "output_type": "stream",
     "text": [
      "O valor da variavel a é 3 e o valorda variavel 7\n"
     ]
    }
   ],
   "source": [
    "a = 3\n",
    "b = 7\n",
    "\n",
    "print(f'O valor da variavel a é {a} e o valorda variavel {b}')"
   ]
  },
  {
   "cell_type": "code",
   "execution_count": 4,
   "id": "94a83768-f7f9-4f29-a1c3-45f36444784b",
   "metadata": {
    "tags": []
   },
   "outputs": [
    {
     "name": "stdout",
     "output_type": "stream",
     "text": [
      "3+7 = 10\n"
     ]
    }
   ],
   "source": [
    "a = 3\n",
    "b = 7\n",
    "print(f'{a}+{b} = {a+b}')"
   ]
  },
  {
   "cell_type": "code",
   "execution_count": 5,
   "id": "fc6328df-ecab-47eb-ae10-420efde875a3",
   "metadata": {
    "tags": []
   },
   "outputs": [
    {
     "name": "stdin",
     "output_type": "stream",
     "text": [
      "Digite seu nome:  thiago\n"
     ]
    },
    {
     "name": "stdout",
     "output_type": "stream",
     "text": [
      "Seja bem vindo thiago\n"
     ]
    }
   ],
   "source": [
    "nome = input('Digite seu nome: ')\n",
    "print (f'Seja bem vindo {nome}')"
   ]
  },
  {
   "cell_type": "code",
   "execution_count": 6,
   "id": "c50c5da8-4e46-4edf-8a9b-8f1828cbe3ce",
   "metadata": {
    "tags": []
   },
   "outputs": [
    {
     "name": "stdout",
     "output_type": "stream",
     "text": [
      "25/12/2020\n"
     ]
    }
   ],
   "source": [
    "dia = '25'\n",
    "mes = '12'\n",
    "ano = '2020'\n",
    "print(f'{dia}/{mes}/{ano}')"
   ]
  },
  {
   "cell_type": "markdown",
   "id": "739da847-f93f-438e-9284-5fd0b1cbb239",
   "metadata": {},
   "source": [
    "## Arredondamento "
   ]
  },
  {
   "cell_type": "code",
   "execution_count": 12,
   "id": "d27eb699-9cd5-4950-b67d-87feb483cfed",
   "metadata": {
    "tags": []
   },
   "outputs": [
    {
     "name": "stdout",
     "output_type": "stream",
     "text": [
      "1.12345\n",
      "1.1\n",
      "1.12\n",
      "1.123\n",
      "1.1235\n"
     ]
    }
   ],
   "source": [
    "print(f'{1.12345}')\n",
    "print(f'{1.12345:.1f}')\n",
    "print(f'{1.12345:.2f}')\n",
    "print(f'{1.12345:.3f}')\n",
    "print(f'{1.12345:.4f}') #o print sai 1.1235 porque o valor é arredondado."
   ]
  },
  {
   "cell_type": "markdown",
   "id": "2ef638ee-f183-4626-bdae-75f978bac641",
   "metadata": {},
   "source": [
    "## Arredondamento com _round_"
   ]
  },
  {
   "cell_type": "code",
   "execution_count": 16,
   "id": "50ba26a5-4311-4634-a24a-c8dca4c0caf8",
   "metadata": {
    "tags": []
   },
   "outputs": [
    {
     "name": "stdout",
     "output_type": "stream",
     "text": [
      "1.12345\n",
      "1.12\n",
      "1.123\n",
      "1.1235\n"
     ]
    }
   ],
   "source": [
    "print(1.12345)\n",
    "print(round(1.12345,2))\n",
    "print(round(1.12345,3))\n",
    "print(round(1.12345,4))"
   ]
  },
  {
   "cell_type": "markdown",
   "id": "5d90580e-42f6-4c0c-83ff-a8de82c6df8b",
   "metadata": {},
   "source": [
    "## Usando _round_ e _f_ para arredondar"
   ]
  },
  {
   "cell_type": "code",
   "execution_count": 18,
   "id": "5ce7b75e-7be5-4b97-a0cf-5ef378c845f9",
   "metadata": {
    "tags": []
   },
   "outputs": [
    {
     "name": "stdout",
     "output_type": "stream",
     "text": [
      "10 dividido por 3 é igual a 3.3333333333333335\n",
      "10 dividido por 3 é igual a 3.33\n",
      "10 dividido por 3 é igual a 3.33\n"
     ]
    }
   ],
   "source": [
    "divisao = 10/3\n",
    "print (f'10 dividido por 3 é igual a {divisao}')\n",
    "print(f'10 dividido por 3 é igual a {divisao:.2f}')\n",
    "print (f'10 dividido por 3 é igual a {round(divisao,2)}')"
   ]
  },
  {
   "cell_type": "markdown",
   "id": "d5056b22-c67b-4329-9255-e3675dfbee38",
   "metadata": {},
   "source": [
    "## Formatação de textos"
   ]
  },
  {
   "cell_type": "code",
   "execution_count": 26,
   "id": "3c64345e-0d12-43a7-9e03-68ecef81f35a",
   "metadata": {
    "tags": []
   },
   "outputs": [
    {
     "name": "stdout",
     "output_type": "stream",
     "text": [
      "texto\n",
      "texto 1\n",
      "texto 2\n"
     ]
    }
   ],
   "source": [
    "'''Para pular linha dentro de um print usa-se tres aspas(simples ou duplas) \n",
    "e enter entre uma linha e outra. E fecha o comando com 3 aspas novamente'''\n",
    "\n",
    "print ('''texto\n",
    "texto 1\n",
    "texto 2''')"
   ]
  },
  {
   "cell_type": "code",
   "execution_count": 28,
   "id": "d24cf2d4-6b82-4cbe-b23f-f220b6affab2",
   "metadata": {
    "tags": []
   },
   "outputs": [
    {
     "name": "stdout",
     "output_type": "stream",
     "text": [
      "Texto\n",
      "com multipas\n",
      "linhas\n"
     ]
    }
   ],
   "source": [
    "texto_aspas_simples = '''Texto\n",
    "com multipas\n",
    "linhas'''\n",
    "print(texto_aspas_simples)"
   ]
  },
  {
   "cell_type": "code",
   "execution_count": 30,
   "id": "156e7882-a39e-4937-88c7-c15ab92f47e3",
   "metadata": {
    "tags": []
   },
   "outputs": [
    {
     "name": "stdout",
     "output_type": "stream",
     "text": [
      "Texto\n",
      "com multipas\n",
      "linhas\n"
     ]
    }
   ],
   "source": [
    "# outra forma é utilizar o \\n\n",
    "texto_aspas_simples = 'Texto\\ncom multipas\\nlinhas'\n",
    "print(texto_aspas_simples)\n"
   ]
  },
  {
   "cell_type": "code",
   "execution_count": 35,
   "id": "8246ad36-88d5-4c63-86b6-ffb4cfb657d2",
   "metadata": {
    "tags": []
   },
   "outputs": [
    {
     "name": "stdout",
     "output_type": "stream",
     "text": [
      "Valores de variáveis:\n",
      "a:10\n",
      "b:5\n"
     ]
    }
   ],
   "source": [
    "a=10\n",
    "b=5\n",
    "texto_aspas_simples = f'''Valores de variáveis:\n",
    "a:{a}\n",
    "b:{b}'''\n",
    "print(texto_aspas_simples)"
   ]
  },
  {
   "cell_type": "code",
   "execution_count": null,
   "id": "e34814a1-7aa2-43e1-b575-af12f08fac68",
   "metadata": {},
   "outputs": [],
   "source": []
  }
 ],
 "metadata": {
  "kernelspec": {
   "display_name": "Python 3 (ipykernel)",
   "language": "python",
   "name": "python3"
  },
  "language_info": {
   "codemirror_mode": {
    "name": "ipython",
    "version": 3
   },
   "file_extension": ".py",
   "mimetype": "text/x-python",
   "name": "python",
   "nbconvert_exporter": "python",
   "pygments_lexer": "ipython3",
   "version": "3.11.5"
  }
 },
 "nbformat": 4,
 "nbformat_minor": 5
}
