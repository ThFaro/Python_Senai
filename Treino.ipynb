{
 "cells": [
  {
   "cell_type": "markdown",
   "metadata": {},
   "source": [
    "Faça a conversão dos dois textos abaixo para **número inteiro**, em seguida faça uma operação de subtração e imprima o resultado"
   ]
  },
  {
   "cell_type": "code",
   "execution_count": 7,
   "metadata": {},
   "outputs": [
    {
     "name": "stdout",
     "output_type": "stream",
     "text": [
      "100 - 25 = 75\n"
     ]
    }
   ],
   "source": [
    "x = '100'\n",
    "y = '25'\n",
    "\n",
    "print(f'{int(x)} - {int(y)} = {int(x)-int(y)}')"
   ]
  },
  {
   "cell_type": "markdown",
   "metadata": {},
   "source": [
    "Faça a conversão dos dois textos abaixo para **número de ponto flutuante**, em seguida faça uma operação de subtração e imprima o resultado"
   ]
  },
  {
   "cell_type": "code",
   "execution_count": 10,
   "metadata": {},
   "outputs": [
    {
     "name": "stdout",
     "output_type": "stream",
     "text": [
      "\n",
      "      X = 7.0\n",
      "      Y = 2.91\n",
      "      X - Y = 4.09\n",
      "      \n",
      "      \n"
     ]
    }
   ],
   "source": [
    "x = '7.00'\n",
    "y = '2.91'\n",
    "\n",
    "print(f'''\n",
    "      X = {float (x)}\n",
    "      Y = {float(y)}\n",
    "      X - Y = {float(x)-float(y)}\n",
    "      \n",
    "      ''')"
   ]
  },
  {
   "cell_type": "markdown",
   "metadata": {},
   "source": [
    "Escreva um programa que receba a medida do lado de um quadrado e que em seguida imprima a medida da área do quadrado.\n",
    "\n",
    "**_Formúla:_**<br>\n",
    "_Área = Lado * Lado_"
   ]
  },
  {
   "cell_type": "code",
   "execution_count": 13,
   "metadata": {},
   "outputs": [
    {
     "name": "stdout",
     "output_type": "stream",
     "text": [
      "\n",
      "      Lado do quadrado = 5.567\n",
      "      Área do quadrado = 30.99\n",
      "      \n"
     ]
    }
   ],
   "source": [
    "lado = float(input('Qual a medida do lado do quadrado?'))\n",
    "\n",
    "print(f'''\n",
    "      Lado do quadrado = {lado}\n",
    "      Área do quadrado = {lado*lado:.2f}\n",
    "      ''')"
   ]
  },
  {
   "cell_type": "markdown",
   "metadata": {},
   "source": [
    "Escreva um programa que receba dois números, sendo: \n",
    "- O primeiro o número dividendo.\n",
    "- O segundo o número divisor.\n",
    "    \n",
    "Em seguida imprima o resto da divisão.\n",
    "\n",
    "\n",
    "**_Formúla:_**<br>\n",
    "_% (Módulo ou resto de divisão)_\n",
    "\n",
    "<img style=\"height:120px\" src=https://www.estudamos.com.br/divisao/elementos-da-divisao.jpg>"
   ]
  },
  {
   "cell_type": "code",
   "execution_count": 14,
   "metadata": {},
   "outputs": [
    {
     "name": "stdout",
     "output_type": "stream",
     "text": [
      "O Resto da divisão de 10 divido por 2 é igual a 0\n"
     ]
    }
   ],
   "source": [
    "dividendo = 10\n",
    "divisor = 2\n",
    "\n",
    "print(f'O Resto da divisão de {dividendo} divido por {divisor} é igual a {dividendo%divisor}')"
   ]
  },
  {
   "cell_type": "markdown",
   "metadata": {},
   "source": [
    "Escreva um programa que calcule a conta dos clientes de um restaurante, sendo:\n",
    "1. Deve ser informado o valor total gasto no restaurante\n",
    "1. Adicione mais 10% em cima do valor total gasto no restaurante por conta da taxa de serviço \n",
    "1. Adicione mais 20 reais do estacionamento\n",
    "    \n",
    "**Dica:**<br>\n",
    "_10% equivale 0.1_"
   ]
  },
  {
   "cell_type": "code",
   "execution_count": 17,
   "metadata": {},
   "outputs": [
    {
     "name": "stdout",
     "output_type": "stream",
     "text": [
      "\n",
      "      Sub Total = R$ 50.00\n",
      "      Taxa de serviço (10%) = R$ 5.0\n",
      "      Estacionamento = R$ 20.00\n",
      "      \n",
      "      TOTAL = R$ 75.0\n",
      "      \n",
      "      \n"
     ]
    }
   ],
   "source": [
    "valor_total = float(input('Qual o valor total da conta?'))\n",
    "taxa_servico = 0.1\n",
    "estacionamento = 20\n",
    "\n",
    "print(f'''\n",
    "      Sub Total = R$ {valor_total:.2f}\n",
    "      Taxa de serviço (10%) = R$ {valor_total*taxa_servico}\n",
    "      Estacionamento = R$ {estacionamento:.2f}\n",
    "      \n",
    "      TOTAL = R$ {valor_total + (valor_total*taxa_servico) + estacionamento}\n",
    "      \n",
    "      ''')"
   ]
  },
  {
   "cell_type": "markdown",
   "metadata": {},
   "source": [
    "Usando a condicioal If, faça um programa que peça para o usuário digitar uma única letra e retorne se a letra digitada é uma vogal ou uma consoante."
   ]
  },
  {
   "cell_type": "code",
   "execution_count": 21,
   "metadata": {},
   "outputs": [
    {
     "name": "stdout",
     "output_type": "stream",
     "text": [
      "A letra \"a\" é uma vogal\n"
     ]
    }
   ],
   "source": [
    "letra = input('Digite uma letra: ')\n",
    "vogal = ['a','e','i','o','u']\n",
    "\n",
    "if letra in vogal:\n",
    "    print (f'A letra \"{letra}\" é uma vogal')\n",
    "else:\n",
    "    print(f'A letra \"{letra}\" não é uma vogal')\n"
   ]
  },
  {
   "cell_type": "code",
   "execution_count": 12,
   "metadata": {},
   "outputs": [
    {
     "name": "stdout",
     "output_type": "stream",
     "text": [
      "2 ano(s)\n",
      "2 mes(s)\n",
      "10 dia(s)\n"
     ]
    }
   ],
   "source": [
    "valor = int(input())\n",
    "\n",
    "ano = valor // 365\n",
    "valor -= ano * 365\n",
    "\n",
    "if valor >= 30:\n",
    "    mes = abs(valor // 30)\n",
    "    valor -= mes * 30\n",
    "    dia = valor\n",
    "else:\n",
    "    mes = 0\n",
    "    dia = valor\n",
    "\n",
    "print(f'{ano:.0f} ano(s)')\n",
    "print(f'{abs(mes):.0f} mes(s)')\n",
    "print(f'{dia:.0f} dia(s)')\n"
   ]
  },
  {
   "cell_type": "code",
   "execution_count": 49,
   "metadata": {},
   "outputs": [
    {
     "name": "stdout",
     "output_type": "stream",
     "text": [
      "\n",
      "      NOTAS:\n",
      "      4 nota(s) de R$ 100.00\n",
      "      1 nota(s) de R$ 50.00\n",
      "      1 nota(s) de R$ 20.00\n",
      "      0 nota(s) de R$ 10.00\n",
      "      1 nota(s) de R$ 5.00\n",
      "      1 nota(s) de R$ 2.00\n",
      "      \n",
      "      MOEDAS:\n",
      "      1 moeda(s) de R$ 1.00\n",
      "      1.00 moeda(s) de R$ 0.50\n",
      "      0.00 moeda(s) de R$ 0.25\n",
      "      0.00 moeda(s) de R$ 0.10\n",
      "      0.00 moeda(s) de R$ 0.05\n",
      "      0.00 moeda(s) de R$ 0.01\n",
      "      \n"
     ]
    }
   ],
   "source": [
    "valor = float(input())\n",
    "valor = round(valor, 2)\n",
    "\n",
    "notas_100 = valor // 100\n",
    "valor -= notas_100 * 100\n",
    "\n",
    "notas_50 = valor // 50\n",
    "valor -= notas_50 * 50\n",
    "\n",
    "notas_20 = valor // 20\n",
    "valor -= notas_20 * 20\n",
    "\n",
    "notas_10 = valor // 10\n",
    "valor -= notas_10 * 10\n",
    "\n",
    "notas_5 = valor // 5\n",
    "valor -= notas_5 * 5\n",
    "\n",
    "notas_2 = valor // 2\n",
    "valor -= notas_2 * 2\n",
    "\n",
    "moedas_1 = valor // 1\n",
    "valor -= moedas_1 * 1\n",
    "\n",
    "moedas_50 = valor // 0.5\n",
    "valor -= moedas_50 * 0.5\n",
    "\n",
    "moedas_25 = valor // 0.25\n",
    "valor -= moedas_25 * 0.25\n",
    "\n",
    "moedas_10 = valor // 0.10\n",
    "valor -= moedas_10 * 0.10\n",
    "\n",
    "moedas_05 = valor // 0.05\n",
    "valor -= moedas_05 * 0.05\n",
    "\n",
    "moedas_01 = valor // 0.01\n",
    "valor -= moedas_01 * 0.01\n",
    "\n",
    "print(f'''\n",
    "      NOTAS:\n",
    "      {notas_100:.0f} nota(s) de R$ 100.00\n",
    "      {notas_50:.0f} nota(s) de R$ 50.00\n",
    "      {notas_20:.0f} nota(s) de R$ 20.00\n",
    "      {notas_10:.0f} nota(s) de R$ 10.00\n",
    "      {notas_5:.0f} nota(s) de R$ 5.00\n",
    "      {notas_2:.0f} nota(s) de R$ 2.00\n",
    "      \n",
    "      MOEDAS:\n",
    "      {moedas_1:.0f} moeda(s) de R$ 1.00\n",
    "      {moedas_50:.2f} moeda(s) de R$ 0.50\n",
    "      {moedas_25:.2f} moeda(s) de R$ 0.25\n",
    "      {moedas_10:.2f} moeda(s) de R$ 0.10\n",
    "      {moedas_05:.2f} moeda(s) de R$ 0.05\n",
    "      {moedas_01:.2f} moeda(s) de R$ 0.01\n",
    "      ''')"
   ]
  },
  {
   "cell_type": "code",
   "execution_count": 53,
   "metadata": {},
   "outputs": [
    {
     "name": "stdout",
     "output_type": "stream",
     "text": [
      "Valores aceitos\n"
     ]
    }
   ],
   "source": [
    "while True:\n",
    "  try:\n",
    "    A = int(input())\n",
    "    B = int(input())\n",
    "    C = int(input())\n",
    "    D = int(input())\n",
    "    break \n",
    "  except ValueError:\n",
    "    print()\n",
    "\n",
    "somaCD = C + D\n",
    "somaAB = A + B\n",
    "\n",
    "if B > C and D > A and somaCD > somaAB and C >= 1 and D >= 1:\n",
    "  print('Valores aceitos')\n",
    "else:\n",
    "  print('Valores nao aceitos')"
   ]
  },
  {
   "cell_type": "code",
   "execution_count": 62,
   "metadata": {},
   "outputs": [
    {
     "name": "stdout",
     "output_type": "stream",
     "text": [
      "0\n"
     ]
    },
    {
     "data": {
      "text/plain": [
       "True"
      ]
     },
     "execution_count": 62,
     "metadata": {},
     "output_type": "execute_result"
    }
   ],
   "source": [
    "print(int(False))\n",
    "bool(1)\n"
   ]
  },
  {
   "cell_type": "code",
   "execution_count": 65,
   "metadata": {},
   "outputs": [
    {
     "name": "stdout",
     "output_type": "stream",
     "text": [
      "Progress: 9/10\n",
      "Task complete!\n"
     ]
    }
   ],
   "source": [
    "import time #importação da biblioteca time\n",
    "\n",
    "\n",
    "for i in range(10): #loop para terminar o alçance total\n",
    "   \n",
    "    print(f\"Progress: {i}/10\", end='\\r') #o /r faz o loop rodar na mesma linha\n",
    "    \n",
    "    time.sleep(1) #determina o delay em segundos\n",
    "\n",
    "print(\"\\nTask complete!\")"
   ]
  },
  {
   "cell_type": "markdown",
   "metadata": {},
   "source": [
    "RegEx (abreviação de Regular Expression) é uma ferramenta para manipular e encontrar strings em Python. O módulo re fornece funções para trabalhar com expressões regulares, incluindo:\n",
    "\n",
    "search: Busca por uma correspondência no início da string.\n",
    "\n",
    "split: Divide a string em uma lista de strings com base em um padrão.\n",
    "\n",
    "findall: Encontra todas as correspondências do padrão na string e retorna uma lista com as strings encontradas.\n",
    "\n",
    "sub: Substitui todas as correspondências do padrão na string por uma nova string."
   ]
  },
  {
   "cell_type": "markdown",
   "metadata": {},
   "source": [
    "\n",
    "A função search() é usada para buscar padrões específicos dentro de uma string. Aqui está um exemplo que explica como usar a função search() para procurar a palavra \"Jackson\" na string \"Michael Jackson é o melhor\"."
   ]
  },
  {
   "cell_type": "code",
   "execution_count": 1,
   "metadata": {},
   "outputs": [],
   "source": [
    "import re"
   ]
  },
  {
   "cell_type": "code",
   "execution_count": 5,
   "metadata": {},
   "outputs": [
    {
     "name": "stdout",
     "output_type": "stream",
     "text": [
      "Resultado encontrado\n"
     ]
    }
   ],
   "source": [
    "texto = 'Michael Jackson é o melhor'\n",
    "\n",
    "padrao = r'Jackson'\n",
    "\n",
    "resultado = re.search(padrao,texto)\n",
    "\n",
    "if resultado:\n",
    "    print(\"Resultado encontrado\")\n",
    "    \n",
    "else:\n",
    "    print(\"Resultado não encontrado\")\n"
   ]
  },
  {
   "cell_type": "code",
   "execution_count": 7,
   "metadata": {},
   "outputs": [
    {
     "name": "stdout",
     "output_type": "stream",
     "text": [
      "Telefone encontrado: 1532346176\n"
     ]
    }
   ],
   "source": [
    "padrao = r\"\\d\\d\\d\\d\\d\\d\\d\\d\\d\\d\"  # corrensponde a qualuquer sequencia de 10 digitos\n",
    "texto = \"Meu telefone é: 1532346176\"\n",
    "correspondencia = re.search(padrao, texto)\n",
    "\n",
    "if correspondencia:\n",
    "    print(\"Telefone encontrado:\", correspondencia.group()) # .group() imprime o grupo encontrado\n",
    "else:\n",
    "    print(\"Sem correspondencia\")"
   ]
  },
  {
   "cell_type": "code",
   "execution_count": 10,
   "metadata": {},
   "outputs": [
    {
     "name": "stdout",
     "output_type": "stream",
     "text": [
      "[',', ' ', '!']\n"
     ]
    }
   ],
   "source": [
    "padrao = r\"\\W\" # para achar carateres nao alfa-numericos\n",
    "texto = 'Hello, world!'\n",
    "correspondencia = re.findall(padrao,texto) # findall() procura todos os correspondentes não alfa-numéricos\n",
    "\n",
    "if correspondencia:\n",
    "    print(correspondencia)\n",
    "\n",
    "else:\n",
    "    print('Nada encontrado')"
   ]
  },
  {
   "cell_type": "code",
   "execution_count": 12,
   "metadata": {},
   "outputs": [
    {
     "name": "stdout",
     "output_type": "stream",
     "text": [
      "['os', 'os', 'os']\n"
     ]
    }
   ],
   "source": [
    "# procurando occorrencias desejadas usando o findall()\n",
    "\n",
    "texto = 'Michael Jackason foi considerado o maior cantor pop de todos os tempos'\n",
    "\n",
    "resultado = re.findall('os',texto)\n",
    "\n",
    "print (resultado)"
   ]
  },
  {
   "cell_type": "code",
   "execution_count": 18,
   "metadata": {},
   "outputs": [
    {
     "name": "stdout",
     "output_type": "stream",
     "text": [
      "['Michael', 'Jackason', 'foi', 'considerado', 'o', 'maior', 'cantor', 'pop', 'de', 'todos', 'os', 'tempos']\n"
     ]
    }
   ],
   "source": [
    "# separando o array usando o split()\n",
    "\n",
    "texto = 'Michael Jackason foi considerado o maior cantor pop de todos os tempos'\n",
    "\n",
    "split_array = re.split(\"\\s\", texto) # o \\s separa a string em partes dividas pelo 'espaço'\n",
    "    \n",
    "print(split_array)"
   ]
  },
  {
   "cell_type": "code",
   "execution_count": 26,
   "metadata": {},
   "outputs": [
    {
     "name": "stdout",
     "output_type": "stream",
     "text": [
      "Michael Jackason foi considerado o maior legend pop de todos os tempos\n"
     ]
    }
   ],
   "source": [
    "# usando sub() para substituir padrões na string por outros\n",
    "\n",
    "texto ='Michael Jackason foi considerado o maior cantor pop de todos os tempos'\n",
    "\n",
    "substituir = 'Cantor'\n",
    "substituicao = 'legend'\n",
    "\n",
    "new_string = re.sub(substituir,substituicao,texto, flags=re.IGNORECASE) # neste caso o \"flags=re.IGNORECASE\" serve para que a subsituição nao faça distinção de maiuscula ou minuscula\n",
    "\n",
    "\n",
    "\n",
    "print(new_string)"
   ]
  },
  {
   "cell_type": "markdown",
   "metadata": {},
   "source": [
    "O <code>loop</code> for permite que você execute um bloco de código várias vezes. Por exemplo, você usaria isso se quisesse imprimir todos os elementos de uma lista.\n",
    "\n",
    "Vamos tentar usar um loop for para imprimir todos os anos presentes na lista datas."
   ]
  },
  {
   "cell_type": "code",
   "execution_count": 35,
   "metadata": {},
   "outputs": [
    {
     "name": "stdout",
     "output_type": "stream",
     "text": [
      "1982\n",
      "1980\n",
      "1973\n",
      "\n",
      "1982\n",
      "1980\n",
      "1973\n"
     ]
    }
   ],
   "source": [
    "dates = [1982,1980,1973]\n",
    "N = len(dates)\n",
    "\n",
    "for i in range(N):\n",
    "    print(dates[i])   \n",
    "    \n",
    "    \n",
    "print()    \n",
    "# ou\n",
    "\n",
    "for i in dates:\n",
    "    print(i)\n",
    "    "
   ]
  },
  {
   "cell_type": "code",
   "execution_count": 46,
   "metadata": {},
   "outputs": [
    {
     "name": "stdout",
     "output_type": "stream",
     "text": [
      "A posição 0 corrensponde a cor vermelho\n",
      "Agora a posição 0 coresponde a cor branco\n",
      "A posição 1 corrensponde a cor amarelo\n",
      "Agora a posição 1 coresponde a cor branco\n",
      "A posição 2 corrensponde a cor verde\n",
      "Agora a posição 2 coresponde a cor branco\n",
      "A posição 3 corrensponde a cor roxo\n",
      "Agora a posição 3 coresponde a cor branco\n",
      "A posição 4 corrensponde a cor azul\n",
      "Agora a posição 4 coresponde a cor branco\n"
     ]
    }
   ],
   "source": [
    "#Use um loop for para modificar os elementos da lista\n",
    "\n",
    "cores = ['vermelho', 'amarelo', 'verde', 'roxo', 'azul']\n",
    "\n",
    "for i in range(0,5):\n",
    "    print('A posição', i,'corrensponde a cor', cores[i])\n",
    "    cores[i] = 'branco'\n",
    "    print('Agora a posição', i,'coresponde a cor', cores[i])"
   ]
  },
  {
   "cell_type": "code",
   "execution_count": 47,
   "metadata": {},
   "outputs": [
    {
     "name": "stdout",
     "output_type": "stream",
     "text": [
      "0 vermelho\n",
      "1 amarelo\n",
      "2 verde\n",
      "3 roxo\n",
      "4 azul\n"
     ]
    }
   ],
   "source": [
    "# Percorra a lista e itere sobre o índice e o valor do elemento\n",
    "\n",
    "cores = ['vermelho', 'amarelo', 'verde', 'roxo', 'azul']  # Lista de cores\n",
    "\n",
    "for i, cor in enumerate(cores):\n",
    "    print(i, cor)"
   ]
  },
  {
   "cell_type": "code",
   "execution_count": 1,
   "metadata": {},
   "outputs": [
    {
     "name": "stdout",
     "output_type": "stream",
     "text": [
      "1\n",
      "2\n",
      "3\n",
      "4\n",
      "5\n"
     ]
    }
   ],
   "source": [
    "# usando o while para contar de 1 a 5\n",
    "\n",
    "contador = 1\n",
    "\n",
    "while contador <=5:\n",
    "    print(contador)\n",
    "    contador+=1"
   ]
  },
  {
   "cell_type": "markdown",
   "metadata": {},
   "source": [
    "Suponhamos que queremos iterar pela lista datas e parar no ano 1973, imprimindo então o número de iterações. Isso pode ser feito com o seguinte bloco de código:"
   ]
  },
  {
   "cell_type": "code",
   "execution_count": 4,
   "metadata": {},
   "outputs": [
    {
     "name": "stdout",
     "output_type": "stream",
     "text": [
      "Houvera 2 repetições antes de se encerrar o loop.\n"
     ]
    }
   ],
   "source": [
    "dates = [1982, 1980, 1973, 2000]\n",
    "\n",
    "contador = 0\n",
    "anos = dates[0]\n",
    "\n",
    "while(anos != 1973):\n",
    "    contador +=1\n",
    "    anos = dates[contador]\n",
    "    \n",
    "print('Houveram', contador, 'repetições antes de se encerrar o loop.')\n"
   ]
  },
  {
   "cell_type": "code",
   "execution_count": 2,
   "metadata": {},
   "outputs": [
    {
     "name": "stdout",
     "output_type": "stream",
     "text": [
      "AA\n",
      "BA\n",
      "CA\n"
     ]
    }
   ],
   "source": [
    "for x in ['A', 'B', 'C']:\n",
    "    print(x + 'A')"
   ]
  }
 ],
 "metadata": {
  "kernelspec": {
   "display_name": "Python 3",
   "language": "python",
   "name": "python3"
  },
  "language_info": {
   "codemirror_mode": {
    "name": "ipython",
    "version": 3
   },
   "file_extension": ".py",
   "mimetype": "text/x-python",
   "name": "python",
   "nbconvert_exporter": "python",
   "pygments_lexer": "ipython3",
   "version": "3.9.6"
  }
 },
 "nbformat": 4,
 "nbformat_minor": 2
}
